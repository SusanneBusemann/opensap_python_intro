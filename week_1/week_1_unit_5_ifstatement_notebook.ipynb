{
 "cells": [
  {
   "cell_type": "markdown",
   "source": [
    "# Conditional instructions - part 1\r\n",
    "## Prerequisites\r\n",
    "This unit assumes that you know the following content: [Variables](./week_1_unit_2_using_variables_notebook.ipynb), [Input and output](./week_1_unit_3_in_and_output_notebook.ipynb), [Data types](./week_1_unit_4_datatypes_notebook.ipynb)"
   ],
   "metadata": {}
  },
  {
   "cell_type": "markdown",
   "source": [
    "## Motivation\r\n",
    "All your previous programs include a sequence of instructions. After the start of the program the instructions were worked off step by step and the program ended afterwards. However, it is often necessary that parts of a program are only executed under certain conditions. For example the following sentence is to be converted into a [pseudo code](https://de.wikipedia.org/wiki/Pseudocode) program:\r\n",
    "\r\n",
    "> If it rains tomorrow, I will clean up the basement. Then I will tidy the cupboards and sort the photos. Otherwise, I will go swimming. In the evening I will go to the cinema with my wife.\r\n",
    "\r\n",
    "Through textual description, it is not exactly clear what is to be done. Natural language often is unprecise. What is probably meant in this example is the following:\r\n",
    "```\r\n",
    "   If it rains tomorrow, I will:\r\n",
    "      - clean up the basement\r\n",
    "      - tidy the cupboards\r\n",
    "      - sort the photos\r\n",
    "   Otherwise (so if it doesn't rain), I will:\r\n",
    "      go swimming.\r\n",
    "\r\n",
    "   In the evening I will go to the cinema with my wife.\r\n",
    "```\r\n",
    "So, depending on whether the condition is true or false, either one or the other path of the program is executed. This is illustrated in the following graphic:\r\n",
    "\r\n",
    "![img_conditionals.png](./img/img_conditionals.png)"
   ],
   "metadata": {}
  },
  {
   "cell_type": "markdown",
   "source": [
    "## Comparison operators\r\n",
    "So for conditional instructions a way to formulate conditions is needed. For this the relational operators can be used. With the relational operators shown in the following table it is possible to formulate instructions whose result is of the `Boolean` data type. As already explained, a `Boolean` data type can only be one of the two values `True` and `False`.\r\n",
    "\r\n",
    "| Operator | Explanation    | Example True |   Example False |\r\n",
    "|----------|----------------|--------------|-----------------|\r\n",
    "| ==    | Check for equality                    | 2 == 2 | 2 == 3 |\r\n",
    "| !=    | Check for inequality                  | 2 != 3 | 2 != 2 |\r\n",
    "| <     | Check for \"smaller\"                   | 2 < 3  | 2      |\r\n",
    "| >     | Check for \"larger\"                    | 3 > 2  | 2 > 3  |\r\n",
    "| <=    | Check for \"less than or equal to\"     | 3 <= 3 | 3 <= 2 |\r\n",
    "| >=    | Check for \"greater than or equal to\"  | 2 >= 2 | 2 >= 3 |\r\n",
    "\r\n",
    "\r\n",
    "### Exercise\r\n",
    "Familiarize yourself with the comparison operators. Also test more complex comparisons, such as:\r\n",
    "\r\n",
    "```python\r\n",
    "\"abc\" < \"abd\"\r\n",
    "\"abcd\" > \"abc\"\r\n",
    "2 == 2.0\r\n",
    "1 == True\r\n",
    "0 != True\r\n",
    "```"
   ],
   "metadata": {}
  },
  {
   "cell_type": "code",
   "execution_count": null,
   "source": [
    "1 == True"
   ],
   "outputs": [],
   "metadata": {}
  },
  {
   "cell_type": "markdown",
   "source": [
    "## Conditional instructions\r\n",
    "The syntax for conditional instructions in Python is:\r\n",
    "\r\n",
    "```python\r\n",
    "if condition:\r\n",
    "   instruction_1\r\n",
    "   ...\r\n",
    "   instruction_n\r\n",
    "else:\r\n",
    "   instruction_1\r\n",
    "   ...\r\n",
    "   instruction_m\r\n",
    "```\r\n",
    "A condition can be either `True` or `False`. In the first case the instructions are executed immediately after the condition is met. In the second case the instructions are executed after `else`. The `else` branch is optional, i.e. an `if` condition can also be specified without an `else` alternative. If the condition then is not true (i.e. `false`), the instructions of the `if` block are simply skipped."
   ],
   "metadata": {}
  },
  {
   "cell_type": "code",
   "execution_count": 2,
   "source": [
    "number = int(input(\"Please type a number: \"))\r\n",
    "if number > 100:\r\n",
    "    print(number, \"is greater than 100!\")"
   ],
   "outputs": [],
   "metadata": {}
  },
  {
   "cell_type": "code",
   "execution_count": null,
   "source": [
    "number = int(input(\"Please typ a number: \"))\r\n",
    "if number > 100:\r\n",
    "    print(number, \"is greater than 100!\")\r\n",
    "else: \r\n",
    "    print(number, \"is smaller or equals 100!\")"
   ],
   "outputs": [],
   "metadata": {}
  },
  {
   "cell_type": "markdown",
   "source": [
    "### Indentations mark the boundaries of code blocks\r\n",
    "As can be seen from the previous examples, Python does not use special characters to mark code blocks (other programming languages use parentheses or keywords like *begin* and *end*).\r\n",
    "Code blocks are instructions that belong together. are called code blocks. Here, for example, the instructions in the `if` or `else` branch of the conditional instruction.\r\n",
    "Instead, Python uses indentation to group instructions into code blocks. Usually, spaces are used for for this.\r\n",
    "\r\n",
    "So indentation has a meaning! Therefore, you must not indent arbitrarily in a program. Execute the code in the following two cells. But first consider what happens."
   ],
   "metadata": {}
  },
  {
   "cell_type": "code",
   "execution_count": 3,
   "source": [
    "a = 3\r\n",
    "    b = 4\r\n",
    "print(a + b)"
   ],
   "outputs": [
    {
     "output_type": "error",
     "ename": "IndentationError",
     "evalue": "unexpected indent (Temp/ipykernel_16628/2362021268.py, line 2)",
     "traceback": [
      "\u001b[1;36m  File \u001b[1;32m\"C:\\Users\\lh7873e\\AppData\\Local\\Temp/ipykernel_16628/2362021268.py\"\u001b[1;36m, line \u001b[1;32m2\u001b[0m\n\u001b[1;33m    b = 4\u001b[0m\n\u001b[1;37m    ^\u001b[0m\n\u001b[1;31mIndentationError\u001b[0m\u001b[1;31m:\u001b[0m unexpected indent\n"
     ]
    }
   ],
   "metadata": {}
  },
  {
   "cell_type": "code",
   "execution_count": 2,
   "source": [
    "number = 100\r\n",
    "if number > 0:\r\n",
    "    print(\"Number is greater than 0\")"
   ],
   "outputs": [
    {
     "output_type": "stream",
     "name": "stdout",
     "text": [
      "Number is greater than 0\n"
     ]
    }
   ],
   "metadata": {}
  },
  {
   "cell_type": "markdown",
   "source": [
    "Look at the last instruction `print(\"Done\")` in the following code. It is not indented. What does this mean for the program? Change the program and indent the last instruction (just below the other print). How does the flow of the program change now?"
   ],
   "metadata": {}
  },
  {
   "cell_type": "code",
   "execution_count": null,
   "source": [
    "zahl = int(input(\"Please insert a number: \"))\r\n",
    "if zahl > 100:\r\n",
    "    print(zahl, \"is greater than 100!\")\r\n",
    "else: \r\n",
    "    print(zahl, \"is smaller oder equals 100!\")\r\n",
    "print(\"Done\")"
   ],
   "outputs": [],
   "metadata": {}
  }
 ],
 "metadata": {
  "file_extension": ".py",
  "kernelspec": {
   "name": "python3",
   "display_name": "Python 3.9.7 64-bit"
  },
  "language_info": {
   "codemirror_mode": {
    "name": "ipython",
    "version": 3
   },
   "file_extension": ".py",
   "mimetype": "text/x-python",
   "name": "python",
   "nbconvert_exporter": "python",
   "pygments_lexer": "ipython3",
   "version": "3.9.7"
  },
  "mimetype": "text/x-python",
  "name": "python",
  "npconvert_exporter": "python",
  "pygments_lexer": "ipython3",
  "version": 3,
  "interpreter": {
   "hash": "ac59ebe37160ed0dfa835113d9b8498d9f09ceb179beaac4002f036b9467c963"
  }
 },
 "nbformat": 4,
 "nbformat_minor": 2
}