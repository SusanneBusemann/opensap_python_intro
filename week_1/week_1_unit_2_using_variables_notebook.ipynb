{
 "cells": [
  {
   "cell_type": "markdown",
   "source": [
    "# Using Variables\r\n",
    "\r\n",
    "## Statements\r\n",
    "\r\n",
    "All Python programs consist of a series of statements. These statements describe what steps the Python interpreter takes when executing a Python program. An example of an instruction is the multiplication of two numbers. Multiplication is represented in Python by the character `*`. \r\n",
    "\r\n",
    "A computer-program typically consists of many instructions. These are executed one after the other from top to bottom. (The program sequence can, however, be changed e.g. by conditions, which will be discussed later this week.)\r\n",
    "\r\n",
    "In code cells of Jupyter Notebooks, the result of the execution of the last statement is the output below this cell."
   ],
   "metadata": {}
  },
  {
   "cell_type": "code",
   "execution_count": 3,
   "source": [
    "5 * 7"
   ],
   "outputs": [
    {
     "output_type": "execute_result",
     "data": {
      "text/plain": [
       "35"
      ]
     },
     "metadata": {},
     "execution_count": 3
    }
   ],
   "metadata": {}
  },
  {
   "cell_type": "markdown",
   "source": [
    "The `*` is called an operator in Python. The following table contains a list of frequently used arithemetic operators.\r\n",
    "\r\n",
    " |  Description        | Operator | Example     | Result   |\r\n",
    " |----------------------|----------|--------------|------------|\r\n",
    " | Addition             | +        | 2 + 3        | 5          |\r\n",
    " | Subtraction          | -        | 2 - 3        | -1         |\r\n",
    " | Multiplication       | *        | 2 * 3        | 6          |\r\n",
    " | Division             | /        | 7 / 3        | 2.3333333333333335 |\r\n",
    " | Division by Integer  | //       | 7 // 3       | 2          |\r\n",
    " | Modulo               | %        | 7 % 3        | 1          |\r\n",
    " | Exponentiation       | **       | 2 ** 0.5     | 1.4142135623730951 |\r\n",
    " \r\n",
    "In Python, the priorities for operators known from algebra are valid. \r\n",
    "Multiplication and division are performed before addition and subtraction. Brackets can be used to influence the order of execution.\r\n",
    " \r\n",
    "Brief explanation of integer division and modulo: In primary school, you first learned about integer division. If you divide 7 by 3 (and do not yet know any decimal places), the result is 2 with a remainder of 1. Integer division and modulo lead to exactly these results. The integer division of `7 // 3` results in `2`, the modulo operation `7 % 3` leads to the remainder, in the above example 1. Especially the modulo operation is **frequently** used in programming!"
   ],
   "metadata": {}
  },
  {
   "cell_type": "code",
   "execution_count": null,
   "source": [
    "1 + 2 * 3 * 4 * 5 - 6 / 7 % 8 ** 9 *100"
   ],
   "outputs": [],
   "metadata": {}
  },
  {
   "cell_type": "code",
   "execution_count": null,
   "source": [
    "1 + 2 * (3 * 4 * 5 - 6) / (7 % 8) ** 9"
   ],
   "outputs": [],
   "metadata": {}
  },
  {
   "cell_type": "markdown",
   "source": [
    "## Variables\n",
    "\n",
    "Variables exist in (almost) every programming language. However, the term has a different meaning in programming than in mathematics. In programming, a variable is a name to which a value can be assigned. From a technical point of view, a variable is a box or a cell in the memory that has a certain value at a point in time.\n",
    "\n",
    "The value of a variable can be set by the assignment operator `=`. In subsequent instructions, the name of the variable is then replaced by the stored value.\n",
    "\n",
    "Attention: In mathematics, `a = 2` is an *assertion*, which is either true or false. This is either true or false. In programming, a = 2 is an instruction, which describes the assignment of the value `2` to the variable `a`."
   ],
   "metadata": {}
  },
  {
   "cell_type": "code",
   "execution_count": null,
   "source": [
    "a = 2\r\n",
    "b = 3\r\n",
    "a * b"
   ],
   "outputs": [],
   "metadata": {}
  },
  {
   "cell_type": "markdown",
   "source": [
    "### Several assignments in a sequence\n",
    "\n",
    "The value of a variable can also be changed by an assignment, if assignments take place one after the other. In the example below, there is the variable `a`. First, the value `2` is assigned to `a`, then the value `3` is assigned. This second assignment deletes the `2`, the memory is just occupied with the new value `3`. The `2` is forgotten."
   ],
   "metadata": {}
  },
  {
   "cell_type": "code",
   "execution_count": null,
   "source": [
    "a = 2\r\n",
    "a = 3\r\n",
    "a"
   ],
   "outputs": [],
   "metadata": {}
  },
  {
   "cell_type": "markdown",
   "source": [
    "### A variable on both sides of the assignment\n",
    "\n",
    "Assignments can look strange (or even wrong) through the eyes of mathematics. This is the case, for example, when a variable is on both sides of the assignment. In the example below, the variable `a` is increased by `10`. To be more precise: First, the value of the variable `a` is read, the `10` is added, and the result is written back into the memory location named `a` at the end. This happens to be the same memory location as before.\n"
   ],
   "metadata": {}
  },
  {
   "cell_type": "code",
   "execution_count": null,
   "source": [
    "a = 25\r\n",
    "a = a + 10\r\n",
    "a"
   ],
   "outputs": [],
   "metadata": {}
  },
  {
   "cell_type": "markdown",
   "source": [
    "### A variable can only be accessed in read mode if a value has been assigned to it.\n",
    "\n",
    "In the examples above you have seen, that variables can be on the right side of the `=`. These variables are accessed in *read mode*. The value is written into the variables on the left side. This variable is accessed in *write mode*. A variable can only be accessed in read mode if a value has been assigned to the variable beforehand. Otherwise there is an error message. Execute the next cell and try to understand the error message.\n"
   ],
   "metadata": {}
  },
  {
   "cell_type": "code",
   "execution_count": null,
   "source": [
    "a = unknown_variable"
   ],
   "outputs": [],
   "metadata": {}
  },
  {
   "cell_type": "markdown",
   "source": [
    "### Small Excursion: Cells in notebooks are connected to each other\n",
    "\n",
    "When a cell in a notebook has been successfully executed, the results are also known in other cells of the notebook.\n",
    "\n",
    "- First execute the first of the following two cells. An error message will appear.\n",
    "- Then execute the second cell and then the first cell again. This time everything should work.\n",
    "- If you want to repeat the whole process, you must reset the output of all cells in the \"Kernel\" menu at the top. Then the variables will *forget* their current values."
   ],
   "metadata": {}
  },
  {
   "cell_type": "code",
   "execution_count": null,
   "source": [
    "a = new_variable + 10\r\n",
    "a"
   ],
   "outputs": [],
   "metadata": {}
  },
  {
   "cell_type": "code",
   "execution_count": null,
   "source": [
    "new_variable = 20"
   ],
   "outputs": [],
   "metadata": {}
  },
  {
   "cell_type": "markdown",
   "source": [
    "### Sequentialisation of assignments\n",
    "\n",
    "Sometimes it happens that several operations are applied to one variable. These can also be sequentialised with the help of the construct above. This sometimes helps to make a programme better readable. For example, the assignment a = 5 * 3 * 7 + (2 - 10 * 3) can be written as follows: (When sequentialising, one must be careful not to violate any bracket rule or the like)."
   ],
   "metadata": {}
  },
  {
   "cell_type": "code",
   "execution_count": null,
   "source": [
    "a = 5\r\n",
    "a = a * 3\r\n",
    "a = a * 7\r\n",
    "a = a + (2 - 10 * 3)\r\n",
    "a"
   ],
   "outputs": [],
   "metadata": {}
  },
  {
   "cell_type": "markdown",
   "source": [
    "### On the left side of an assignment only ONE variable.\n",
    "\n",
    "On the right-hand side of an assignment, there can be complex expressions which themselves contain variables (e.g. a = b ** 2 + c ** 2). On the left side, on the other hand, there can only be the one variable. If you execute the following construct, an error message will occur."
   ],
   "metadata": {}
  },
  {
   "cell_type": "code",
   "execution_count": null,
   "source": [
    "b = 3\r\n",
    "c = 4\r\n",
    "\r\n",
    "a ** 2 = b ** 2 + c ** 2\r\n",
    "a"
   ],
   "outputs": [],
   "metadata": {}
  },
  {
   "cell_type": "markdown",
   "source": [
    "You have certainly recognised Pythagoras' theorem in the cell above. But how do you then obtain the length of a if b and c are given? The calculation can be done in two steps as follows."
   ],
   "metadata": {}
  },
  {
   "cell_type": "code",
   "execution_count": null,
   "source": [
    "b = 3\r\n",
    "c = 4\r\n",
    "\r\n",
    "a = b ** 2 + c ** 2\r\n",
    "a = a ** 0.5\r\n",
    "a"
   ],
   "outputs": [],
   "metadata": {}
  },
  {
   "cell_type": "markdown",
   "source": [
    "### Variable names\n",
    "\n",
    "There are a number of rules for variable names in Python. A variable name must always begin with a letter or an underscore `_`. This can be followed by any number of letters, digits and underscores.\n",
    "\n",
    "Variable names may not contain special characters or spaces. Thus, for example, the following variable names are valid:"
   ],
   "metadata": {}
  },
  {
   "cell_type": "code",
   "execution_count": null,
   "source": [
    "name = 'David'\r\n",
    "surname = 'Bowie'\r\n",
    "account_balance = -2000\r\n",
    "_new_balance = 1000"
   ],
   "outputs": [],
   "metadata": {}
  },
  {
   "cell_type": "markdown",
   "source": [
    "In contrast, the following variable names are invalid. Execute the cell and check the error message."
   ],
   "metadata": {}
  },
  {
   "cell_type": "code",
   "execution_count": null,
   "source": [
    "1_konto = 1234\r\n",
    "email@fh = 'jacobs@fh-aachen.de'"
   ],
   "outputs": [],
   "metadata": {}
  },
  {
   "cell_type": "markdown",
   "source": [
    "In Python, variable names are case sensitive. This means that in a Python program, `name` and `Name` represent different variables. This is illustrated in the following example."
   ],
   "metadata": {}
  },
  {
   "cell_type": "code",
   "execution_count": 1,
   "source": [
    "name = 'Joey'\r\n",
    "Name = 'Ramone'\r\n",
    "\r\n",
    "name + ' ' + Name"
   ],
   "outputs": [
    {
     "output_type": "execute_result",
     "data": {
      "text/plain": [
       "'Joey Ramone'"
      ]
     },
     "metadata": {},
     "execution_count": 1
    }
   ],
   "metadata": {}
  },
  {
   "cell_type": "markdown",
   "source": [
    "Finally, there are a number of *reserved keywords* in Python that must not be used as variable names. These keywords have a special meaning in Python, which you will learn about in the course of the lecture. Example of reserved keywords are `and`, `while` or `if`. Execute the following cell and have a look at the error message."
   ],
   "metadata": {}
  },
  {
   "cell_type": "code",
   "execution_count": 2,
   "source": [
    "if = 42"
   ],
   "outputs": [
    {
     "output_type": "error",
     "ename": "SyntaxError",
     "evalue": "invalid syntax (Temp/ipykernel_16824/3014521316.py, line 1)",
     "traceback": [
      "\u001b[1;36m  File \u001b[1;32m\"C:\\Users\\lh7873e\\AppData\\Local\\Temp/ipykernel_16824/3014521316.py\"\u001b[1;36m, line \u001b[1;32m1\u001b[0m\n\u001b[1;33m    if = 42\u001b[0m\n\u001b[1;37m       ^\u001b[0m\n\u001b[1;31mSyntaxError\u001b[0m\u001b[1;31m:\u001b[0m invalid syntax\n"
     ]
    }
   ],
   "metadata": {}
  },
  {
   "cell_type": "markdown",
   "source": [
    "### Conventions for Variable Names\n",
    "\n",
    "In the Python community, lower case is preferred for variable names. Thus,  `name` is used instead of `Name`. Variable names that consist of several words are separated by an underscore `_`, e.g. `account_number` or `minimum_account_balance`.\n",
    "\n",
    "Not every allowed variable name is a good variable name! A good programming style (not only in Python) is characterised by the fact that a program is easy for a human to understand.\n",
    "\n",
    "> Any fool can write code that a computer can understand. Good programmers write code that humans can understand.<br>\n",
    "> Martin Fowler, 2008.\n",
    "\n",
    "For this reason, you should use variable names that have a meaning.\n",
    "\n",
    "- `new_account_balance` is better than `nab`\n",
    "- `car_length` is better than `lenght`\n",
    "\n",
    "Make your programmes readable by using good variable names so that you will still understand in a year's time what the program is supposed to calculate.\n",
    "\n"
   ],
   "metadata": {}
  },
  {
   "cell_type": "markdown",
   "source": [
    "### Exercise\n",
    "\n",
    "Create some variables and test which names are allowed. See what happens when a name is not allowed. Assign values to your variables and test what is (not) possible. The `print()` used below is for outputting variables and other parameters. Details on this later."
   ],
   "metadata": {}
  },
  {
   "cell_type": "code",
   "execution_count": null,
   "source": [
    "a = 5\r\n",
    "b = 7\r\n",
    "a = b\r\n",
    "print(a)"
   ],
   "outputs": [],
   "metadata": {}
  },
  {
   "cell_type": "code",
   "execution_count": null,
   "source": [
    "a = 5\r\n",
    "b = 7\r\n",
    "b = a\r\n",
    "print(a)\r\n",
    "print(b)"
   ],
   "outputs": [],
   "metadata": {}
  },
  {
   "cell_type": "markdown",
   "source": [
    "## More Details about Variables\n",
    "\n",
    "In Python, a *variable* is created in an assignment the first time it is used. Variables do not have to be declared first, as in some other programming languages.\n",
    "\n",
    "A *variable* can be on both the right and left side of the assignment operator at the same time."
   ],
   "metadata": {}
  },
  {
   "cell_type": "code",
   "execution_count": null,
   "source": [
    "a = 10\r\n",
    "a = a + 1\r\n",
    "print(a)"
   ],
   "outputs": [],
   "metadata": {}
  },
  {
   "cell_type": "markdown",
   "source": [
    "In programming the statement in the middle means, that the value in the variable `a` is increased by `1`. Sometimes the term *Increment* is used. This construction is used quite often. Thus Python offers a short way of writing this statement: `a += 1`. Yes, from a mathematics point of view this looks really weird but it simply means that the value stored in `a` is increased by `1`."
   ],
   "metadata": {}
  },
  {
   "cell_type": "code",
   "execution_count": null,
   "source": [
    "a = 1\r\n",
    "a += 1  \r\n",
    "print(a)"
   ],
   "outputs": [],
   "metadata": {}
  },
  {
   "cell_type": "markdown",
   "source": [
    "The same short way of writing works with other operators and values:"
   ],
   "metadata": {}
  },
  {
   "cell_type": "code",
   "execution_count": null,
   "source": [
    "a = 10 \r\n",
    "a *= 2\r\n",
    "a -= 100\r\n",
    "print(a)"
   ],
   "outputs": [],
   "metadata": {}
  },
  {
   "cell_type": "markdown",
   "source": [
    "## Exercise\n",
    "\n",
    "Calculate the volume and surface area of a cube (side lengths a, b, c equal) or a cuboid (side lengths a, b, c different). Proceed as follows:\n",
    "\n",
    "- Define reasonable names for the variables representing the side length of the cube and assign values to them.\n",
    "- Calculate the area of the cube and assign the result to the variable cube_area.\n",
    "- Calculate the volume of the cube and assign the result to the variable cube_volume.\n",
    "- Output the result of the calculation using the following statements: `print(cube_area)` and `print(cube_volume)`\n",
    "\n",
    "Repeat these steps for the cuboid.\n"
   ],
   "metadata": {}
  },
  {
   "cell_type": "code",
   "execution_count": null,
   "source": [],
   "outputs": [],
   "metadata": {}
  }
 ],
 "metadata": {
  "kernelspec": {
   "name": "python3",
   "display_name": "Python 3.9.7 64-bit ('python_introduction-FuZ6QBtY': virtualenv)"
  },
  "language_info": {
   "codemirror_mode": {
    "name": "ipython",
    "version": 3
   },
   "file_extension": ".py",
   "mimetype": "text/x-python",
   "name": "python",
   "nbconvert_exporter": "python",
   "pygments_lexer": "ipython3",
   "version": "3.9.7"
  },
  "interpreter": {
   "hash": "b1a0367e98061e279be89828867fcba5caa78bcf33c17cfd4b56ba11474ed448"
  }
 },
 "nbformat": 4,
 "nbformat_minor": 5
}