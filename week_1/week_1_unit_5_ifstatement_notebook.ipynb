{
 "cells": [
  {
   "cell_type": "markdown",
   "metadata": {},
   "source": [
    "# Conditional instructions - part 1\n",
    "## Prerequisites\n",
    "This unit assumes that you know the following content: [Variables](./week_1_unit_2_using_variables_notebook.ipynb), [Input and output](./week_1_unit_3_in_and_output_notebook.ipynb), [Data types](./week_1_unit_4_datatypes_notebook.ipynb)"
   ]
  },
  {
   "cell_type": "markdown",
   "metadata": {},
   "source": [
    "## Motivation\n",
    "All your previous programs include a sequence of instructions. After the start of the program the instructions were worked off step by step and the program ended afterwards. However, it is often necessary that parts of a program are only executed under certain conditions. For example the following sentence is to be converted into a [pseudo code](https://de.wikipedia.org/wiki/Pseudocode) program:\n",
    "\n",
    "> If it rains tomorrow, I will clean up the basement. Then I will tidy the cupboards and sort the photos. Otherwise, I will go swimming. In the evening I will go to the cinema with my wife.\n",
    "\n",
    "Through textual description, it is not exactly clear what is to be done. Natural language often is unprecise. What is probably meant in this example is the following:\n",
    "```\n",
    "   If it rains tomorrow, I will:\n",
    "      - clean up the basement\n",
    "      - tidy the cupboards\n",
    "      - sort the photos\n",
    "   Otherwise (so if it doesn't rain), I will:\n",
    "      go swimming.\n",
    "\n",
    "   In the evening I will go to the cinema with my wife.\n",
    "```\n",
    "So, depending on whether the condition is true or false, either one or the other path of the program is executed. This is illustrated in the following graphic:\n",
    "\n",
    "![img_conditionals.png](./img/img_conditionals.png)"
   ]
  },
  {
   "cell_type": "markdown",
   "metadata": {},
   "source": [
    "## Comparison operators\n",
    "So for conditional instructions a way to formulate conditions is needed. For this the relational operators can be used. With the relational operators shown in the following table it is possible to formulate instructions whose result is of the `Boolean` data type. As already explained, a `Boolean` data type can only be one of the two values `True` and `False`.\n",
    "\n",
    "| Operator | Explanation    | Example True |   Example False |\n",
    "|----------|----------------|--------------|-----------------|\n",
    "| ==    | Check for equality                    | 2 == 2 | 2 == 3 |\n",
    "| !=    | Check for inequality                  | 2 != 3 | 2 != 2 |\n",
    "| <     | Check for \"smaller\"                   | 2 < 3  | 2      |\n",
    "| >     | Check for \"larger\"                    | 3 > 2  | 2 > 3  |\n",
    "| <=    | Check for \"less than or equal to\"     | 3 <= 3 | 3 <= 2 |\n",
    "| >=    | Check for \"greater than or equal to\"  | 2 >= 2 | 2 >= 3 |\n",
    "\n",
    "\n",
    "### Exercise\n",
    "Familiarize yourself with the comparison operators. Also test more complex comparisons, such as:\n",
    "\n",
    "```python\n",
    "\"abc\" < \"abd\"\n",
    "\"abcd\" > \"abc\"\n",
    "2 == 2.0\n",
    "1 == True\n",
    "0 != True\n",
    "```"
   ]
  },
  {
   "cell_type": "code",
   "execution_count": null,
   "metadata": {},
   "outputs": [],
   "source": [
    "1 == True"
   ]
  },
  {
   "cell_type": "markdown",
   "metadata": {},
   "source": [
    "## Conditional instructions\n",
    "The syntax for conditional instructions in Python is:\n",
    "\n",
    "```python\n",
    "if condition:\n",
    "   instruction_1\n",
    "   ...\n",
    "   instruction_n\n",
    "else:\n",
    "   instruction_1\n",
    "   ...\n",
    "   instruction_m\n",
    "```\n",
    "A condition can be either `True` or `False`. In the first case the instructions are executed immediately after the condition is met. In the second case the instructions are executed after `else`. The `else` branch is optional, i.e. an `if` condition can also be specified without an `else` alternative. If the condition then is not true (i.e. `false`), the instructions of the `if` block are simply skipped."
   ]
  },
  {
   "cell_type": "code",
   "execution_count": 2,
   "metadata": {},
   "outputs": [],
   "source": [
    "number = int(input(\"Please type a number: \"))\n",
    "if number > 100:\n",
    "    print(number, \"is greater than 100!\")"
   ]
  },
  {
   "cell_type": "code",
   "execution_count": null,
   "metadata": {},
   "outputs": [],
   "source": [
    "number = int(input(\"Please typ a number: \"))\n",
    "if number > 100:\n",
    "    print(number, \"is greater than 100!\")\n",
    "else: \n",
    "    print(number, \"is smaller or equals 100!\")"
   ]
  },
  {
   "cell_type": "markdown",
   "metadata": {},
   "source": [
    "### Indentations mark the boundaries of code blocks\n",
    "As can be seen from the previous examples, Python does not use special characters to mark code blocks (other programming languages use parentheses or keywords like *begin* and *end*).\n",
    "Code blocks are instructions that belong together. are called code blocks. Here, for example, the instructions in the `if` or `else` branch of the conditional instruction.\n",
    "Instead, Python uses indentation to group instructions into code blocks. Usually, spaces are used for for this.\n",
    "\n",
    "So indentation has a meaning! Therefore, you must not indent arbitrarily in a program. Execute the code in the following two cells. But first consider what happens."
   ]
  },
  {
   "cell_type": "code",
   "execution_count": null,
   "metadata": {},
   "outputs": [],
   "source": [
    "a = 3\n",
    "    b = 4\n",
    "print(a + b)"
   ]
  },
  {
   "cell_type": "code",
   "execution_count": 2,
   "metadata": {},
   "outputs": [
    {
     "name": "stdout",
     "output_type": "stream",
     "text": [
      "Number is greater than 0\n"
     ]
    }
   ],
   "source": [
    "number = 100\n",
    "if number > 0:\n",
    "    print(\"Number is greater than 0\")"
   ]
  },
  {
   "cell_type": "markdown",
   "metadata": {},
   "source": [
    "Look at the last instruction `print(\"Done\")` in the following code. It is not indented. What does this mean for the program? Change the program and indent the last instruction (just below the other print). How does the flow of the program change now?"
   ]
  },
  {
   "cell_type": "code",
   "execution_count": null,
   "metadata": {},
   "outputs": [],
   "source": [
    "zahl = int(input(\"Please insert a number: \"))\n",
    "if zahl > 100:\n",
    "    print(zahl, \"is greater than 100!\")\n",
    "else: \n",
    "    print(zahl, \"is smaller oder equals 100!\")\n",
    "print(\"Done\")"
   ]
  }
 ],
 "metadata": {
  "file_extension": ".py",
  "interpreter": {
   "hash": "ac59ebe37160ed0dfa835113d9b8498d9f09ceb179beaac4002f036b9467c963"
  },
  "kernelspec": {
   "display_name": "Python 3.9.7 64-bit",
   "name": "python3"
  },
  "language_info": {
   "codemirror_mode": {
    "name": "ipython",
    "version": 3
   },
   "file_extension": ".py",
   "mimetype": "text/x-python",
   "name": "python",
   "nbconvert_exporter": "python",
   "pygments_lexer": "ipython3",
   "version": "3.9.7"
  },
  "mimetype": "text/x-python",
  "name": "python",
  "npconvert_exporter": "python",
  "pygments_lexer": "ipython3",
  "version": 3
 },
 "nbformat": 4,
 "nbformat_minor": 2
}
