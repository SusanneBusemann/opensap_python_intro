{
 "metadata": {
  "language_info": {
   "codemirror_mode": {
    "name": "ipython",
    "version": 3
   },
   "file_extension": ".py",
   "mimetype": "text/x-python",
   "name": "python",
   "nbconvert_exporter": "python",
   "pygments_lexer": "ipython3",
   "version": "3.9.6"
  },
  "orig_nbformat": 2,
  "kernelspec": {
   "name": "python3",
   "display_name": "Python 3.9.6 64-bit ('opensap_python_intro-SgMpohZV': pipenv)"
  },
  "interpreter": {
   "hash": "ae5a99a2531053e9be9d669b7bfc08eaacd0186491e01eb4522a2d385742a1d5"
  }
 },
 "nbformat": 4,
 "nbformat_minor": 2,
 "cells": [
  {
   "cell_type": "markdown",
   "source": [
    "# Unit 2.1: What are lists in python?\n",
    "\n",
    "## Motivation\n",
    "\n",
    "So far we have only used primitive data types in our programs. However, these simple data types are quite limited.\n",
    "As an example consider the following task. You should write a Python 🐍  program that performs the following steps:\n",
    "\n",
    "- Read numerical values form the user "
   ],
   "metadata": {}
  },
  {
   "cell_type": "markdown",
   "source": [
    "## Lists in Python\n",
    "\n",
    "List are on the [sequence types](https://docs.python.org/3/library/stdtypes.html?highlight=list#sequence-types-list-tuple-range) in Python.\n",
    "We will learn about other sequence types in subsequent units.\n",
    "\n",
    "In Python squre brackets (i.e. `[` and `]`) are used to create a list. The individual eleements of the list are seperated by commas. Just like\n",
    "primitive data types, list can be assigned to variables. The following example shows a simple list containing different integer values:"
   ],
   "metadata": {}
  },
  {
   "cell_type": "code",
   "execution_count": null,
   "source": [
    "my_number_list = [0, 1, 1, 2, 3, 5, 8, 13, 21]\n",
    "print(my_number_list)"
   ],
   "outputs": [],
   "metadata": {}
  }
 ]
}