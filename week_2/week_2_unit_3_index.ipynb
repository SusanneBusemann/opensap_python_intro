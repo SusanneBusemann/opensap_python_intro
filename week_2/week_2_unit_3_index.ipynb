{
 "cells": [
  {
   "cell_type": "markdown",
   "metadata": {},
   "source": [
    "# Important functions and methods for lists\n",
    "\n",
    "In the previous units we learned how to create list and how to access list items using indices. Besides\n",
    "these basic operations Python's standard library offers a wide range of functions and methods to manipulate\n",
    "lists. Note, that there is an important distinctions between functions and list. We will use\n",
    "the correct terms in this course. However, the underlying details of the distinctions are beyond the contents\n",
    "of this course.\n",
    "\n",
    "## Important functions\n",
    "\n",
    "First, we are going to introduce some of the important\n",
    "[functions](https://docs.python.org/3/library/stdtypes.html#common-sequence-operations) available for list\n",
    "and strings (or sequence types to be precise).\n",
    "\n",
    "The follow cell shows the usage of the `len()` function to get the length of a list or a string."
   ]
  },
  {
   "cell_type": "markdown",
   "metadata": {},
   "source": []
  },
  {
   "cell_type": "code",
   "execution_count": null,
   "metadata": {},
   "outputs": [],
   "source": [
    "fruit_list = [\"apple\", \"banana\", \"coconut\", \"damson\", \"elderberry\"]\n",
    "print(\"The fruit list contains\", len(fruit_list), \"items.\")\n",
    "\n",
    "course_name = \"Python Introduction\"\n",
    "print(course_name, \"contains\", len(course_name), \"characters.\")"
   ]
  },
  {
   "cell_type": "markdown",
   "metadata": {},
   "source": [
    "The functions `min()` and `max()` can be used to get the smallest and largest item in a list. The\n",
    "example in the following cell uses a list of [SAP SE](https://en.wikipedia.org/wiki/SAP) stock\n",
    "prices. Using the `min()` and `max()` function the lowest and highest stock price in the list \n",
    "can be determined."
   ]
  },
  {
   "cell_type": "code",
   "execution_count": null,
   "metadata": {},
   "outputs": [],
   "source": [
    "sap_stock_price = [120.80, 121.68, 123.90, 125.46, 124.62, 124.88, 124.04, 123.54]\n",
    "print(\"The lowest price was:\", min(sap_stock_price), \"€.\")\n",
    "print(\"The highest price was:\", max(sap_stock_price), \"€.\")"
   ]
  },
  {
   "cell_type": "markdown",
   "metadata": {},
   "source": [
    "Using the function `soreted()` the items in a list can be sorted. Note, that the functions sorted\n",
    "returns a new list instead of modifying the existing one. Again, the `sorted()` function can be used\n",
    "with any sequence type. Therefore, it is also possible to sort the characters in a string. In this case,\n",
    "however, the result is not a string but a list of characters. "
   ]
  },
  {
   "cell_type": "code",
   "execution_count": null,
   "metadata": {},
   "outputs": [],
   "source": [
    "random_numbers = [7, 3, 6, 7, 12, 45, -21]\n",
    "sorted_numbers = sorted(random_numbers)\n",
    "print(random_numbers)\n",
    "print(sorted_numbers)\n",
    "\n",
    "print(sorted(\"Python Introduction\"))"
   ]
  },
  {
   "cell_type": "markdown",
   "metadata": {},
   "source": [
    "If the elemets of a list cannot be compared, they cannot be sorted. In this case the `sorted()` function raises an error message. "
   ]
  },
  {
   "cell_type": "code",
   "execution_count": null,
   "metadata": {},
   "outputs": [],
   "source": [
    "unsortable_list = [True, 56, \"abc\"]\n",
    "print(sorted(unsortable_list))"
   ]
  },
  {
   "cell_type": "markdown",
   "metadata": {},
   "source": [
    "## Importand methods\n",
    "\n",
    "Besides the functions introduces above there are also a large number of methods for lists. The syntax to execute a methods is to add a `.` \n",
    "then the method name to a list. This is called _invoking_ a methods. The first method we use is the `sort()` method.\n",
    "The following cell shows how to invoke the `sort()` method of a list."
   ]
  },
  {
   "cell_type": "code",
   "execution_count": null,
   "metadata": {},
   "outputs": [],
   "source": [
    "random_numbers = [7, 3, 6, 7, 12, 45, -21]\n",
    "random_numbers.sort()\n",
    "print(random_numbers)"
   ]
  },
  {
   "cell_type": "markdown",
   "metadata": {},
   "source": [
    "The most obvious distinction between function and methods (besides the syntax) is, that methods modify a list.\n",
    "In the example above the list `random_numbers` is sorted after the `sort()` method was invoked. Compare this\n",
    "with the behavior of the `sorted()` function. The `sorted()` function does not modify the list but instead \n",
    "returns a new, sorted list. \n",
    "\n",
    "As methods are able to modify a list they can be used to add and remove elements from lists. In the following\n",
    "examples the methods `append()`, `pop()`, `insert()` and `remove()` are used to modify lists."
   ]
  },
  {
   "cell_type": "code",
   "execution_count": null,
   "metadata": {},
   "outputs": [],
   "source": [
    "numbers = [1, 2, 3, 4]\n",
    "numbers.append(10)\n",
    "print(numbers)"
   ]
  },
  {
   "cell_type": "markdown",
   "metadata": {},
   "source": [
    "Using the `append()` method a new item can be added to the end of a list.\n",
    "In contrast to that the method `pop()` can be used to remove the first \n",
    "element of a list.\n"
   ]
  },
  {
   "cell_type": "code",
   "execution_count": null,
   "metadata": {},
   "outputs": [],
   "source": [
    "numbers = [1, 2, 3, 4]\n",
    "first_item = numbers.pop()\n",
    "\n",
    "print(numbers)\n",
    "print(first_item)"
   ]
  },
  {
   "cell_type": "markdown",
   "metadata": {},
   "source": [
    "\n",
    "Append always adds items to the end a list. In order to add an item \n",
    "at an other position of the list the `insert()` method can be used. This method requires two \n",
    "parameters, a position and a value. In the example int eh following cell the value 10 is inserted\n",
    "at position 2. "
   ]
  },
  {
   "cell_type": "code",
   "execution_count": null,
   "metadata": {},
   "outputs": [],
   "source": [
    "numbers = [1, 2, 3, 4]\n",
    "numbers.insert(2, 10)\n",
    "print(numbers)"
   ]
  },
  {
   "cell_type": "markdown",
   "metadata": {},
   "source": [
    "Using the `remove()` method, the fist occurrence of an item in the list is removed. "
   ]
  },
  {
   "cell_type": "code",
   "execution_count": null,
   "metadata": {},
   "outputs": [],
   "source": [
    "numbers = [1, 2, 3, 4, 3, 2, 1]\n",
    "numbers.remove(3)\n",
    "print(numbers)"
   ]
  },
  {
   "cell_type": "markdown",
   "metadata": {},
   "source": [
    "Note, that this was only a small selection of the function and methods available for list.\n",
    "If you are looking for a particular functionality it is a good approach to search in the\n",
    "[Python documentation](https://docs.python.org) for it. While you might find it difficult\n",
    "to read the documentation a first you will quickly get used to it. Therefore, I \n",
    "recommend bookmarking the Python documentation and start to work with it. "
   ]
  },
  {
   "cell_type": "markdown",
   "metadata": {},
   "source": []
  }
 ],
 "metadata": {
  "interpreter": {
   "hash": "ae5a99a2531053e9be9d669b7bfc08eaacd0186491e01eb4522a2d385742a1d5"
  },
  "kernelspec": {
   "display_name": "Python 3.9.6 64-bit ('opensap_python_intro-SgMpohZV': pipenv)",
   "name": "python3"
  },
  "language_info": {
   "codemirror_mode": {
    "name": "ipython",
    "version": 3
   },
   "file_extension": ".py",
   "mimetype": "text/x-python",
   "name": "python",
   "nbconvert_exporter": "python",
   "pygments_lexer": "ipython3",
   "version": "3.9.6"
  }
 },
 "nbformat": 4,
 "nbformat_minor": 2
}
