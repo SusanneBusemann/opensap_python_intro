{
 "metadata": {
  "language_info": {
   "codemirror_mode": {
    "name": "ipython",
    "version": 3
   },
   "file_extension": ".py",
   "mimetype": "text/x-python",
   "name": "python",
   "nbconvert_exporter": "python",
   "pygments_lexer": "ipython3",
   "version": "3.9.6"
  },
  "orig_nbformat": 2,
  "kernelspec": {
   "name": "python3",
   "display_name": "Python 3.9.6 64-bit ('opensap_python_intro-SgMpohZV': pipenv)"
  },
  "interpreter": {
   "hash": "ae5a99a2531053e9be9d669b7bfc08eaacd0186491e01eb4522a2d385742a1d5"
  }
 },
 "nbformat": 4,
 "nbformat_minor": 2,
 "cells": [
  {
   "cell_type": "markdown",
   "source": [
    "# Unit 2.1: What are lists in python?\n",
    "\n",
    "## Motivation\n",
    "\n",
    "So far we have only used primitive data types in our programs. However, these simple data types are quite limited.\n",
    "As an example consider the following task. You should write a Python 🐍  program that performs the following steps:\n",
    "\n",
    "- Read numerical values form the user "
   ],
   "metadata": {}
  },
  {
   "cell_type": "markdown",
   "source": [
    "## Lists in Python\n",
    "\n",
    "List are on the [sequence types](https://docs.python.org/3/library/stdtypes.html?highlight=list#sequence-types-list-tuple-range) in Python.\n",
    "We will learn about other sequence types in subsequent units.\n",
    "\n",
    "In Python squre brackets (i.e. `[` and `]`) are used to create a list. The individual eleements of the list are seperated by commas. Just like\n",
    "primitive data types, list can be assigned to variables. The following example shows a simple list containing different integer values.\n",
    "This list is assigned to the variable `my_number_list`. Finally, the variable `my_number_list` is printed using the `print()` function."
   ],
   "metadata": {}
  },
  {
   "cell_type": "code",
   "execution_count": null,
   "source": [
    "my_number_list = [0, 1, 1, 2, 3, 5, 8, 13, 21]\n",
    "print(my_number_list)"
   ],
   "outputs": [],
   "metadata": {}
  },
  {
   "cell_type": "markdown",
   "source": [
    "List can not only contain number but any of the data types we have seen so far.\n",
    "In the following example lists containing different data types are created."
   ],
   "metadata": {}
  },
  {
   "cell_type": "code",
   "execution_count": null,
   "source": [
    "my_string_list = [\"Hello\", \"open\", \"SAP\"]\n",
    "my_float_list = [3.14, -6.63e-34]\n",
    "my_boolean_list = [True, False, False, True]\n",
    "\n",
    "print(my_string_list)"
   ],
   "outputs": [],
   "metadata": {}
  },
  {
   "cell_type": "markdown",
   "source": [
    "Finally, it is even possible that lists contain elements of different data types. "
   ],
   "metadata": {}
  },
  {
   "cell_type": "code",
   "execution_count": null,
   "source": [
    "my_mixed_list = [1, 3, 5, -23, \"a\", \"abc\", True, 3.234]\n",
    "print(my_mixed_list)"
   ],
   "outputs": [],
   "metadata": {}
  },
  {
   "cell_type": "markdown",
   "source": [
    "## Basic operations on lists\n",
    "\n",
    "Similar to the primitive data types there are a number of basic operation that can be perfomed on list.\n",
    "\n"
   ],
   "metadata": {}
  },
  {
   "cell_type": "code",
   "execution_count": 10,
   "source": [
    "first_list = [1, 2, 3]\n",
    "second_list = [4, 5, 6]\n",
    "\n",
    "print(3 * first_list)\n",
    "new_list = first_list + second_list\n",
    "\n",
    "print(new_list)"
   ],
   "outputs": [
    {
     "output_type": "stream",
     "name": "stdout",
     "text": [
      "[1, 2, 3, 1, 2, 3, 1, 2, 3]\n",
      "[1, 2, 3, 4, 5, 6]\n"
     ]
    }
   ],
   "metadata": {}
  },
  {
   "cell_type": "code",
   "execution_count": 14,
   "source": [
    "prime_numbers = [2, 3, 5, 7, 11, 13, 17, 19, 23, 29, 31, 37, 41, 43, 47]\n",
    "my_number = int(input(\"Please enter a number: \"))\n",
    "\n",
    "if my_number in prime_numbers:\n",
    "    print(\"The list contains the number\", my_number)\n",
    "else:\n",
    "    print(\"The list does not contain the number\", my_number)"
   ],
   "outputs": [
    {
     "output_type": "stream",
     "name": "stdout",
     "text": [
      "The list does not contain the number 55\n"
     ]
    }
   ],
   "metadata": {}
  },
  {
   "cell_type": "markdown",
   "source": [
    "# Unit 2.2: Using an index to access lists"
   ],
   "metadata": {}
  },
  {
   "cell_type": "markdown",
   "source": [
    "# Unit 2.3: Important functions and methods for list"
   ],
   "metadata": {}
  },
  {
   "cell_type": "markdown",
   "source": [],
   "metadata": {}
  }
 ]
}