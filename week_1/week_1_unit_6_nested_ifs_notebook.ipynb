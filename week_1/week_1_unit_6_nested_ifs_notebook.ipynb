{
 "cells": [
  {
   "cell_type": "markdown",
   "source": [
    "# Conditional instructions - part 2\r\n",
    "## Multiple conditions\r\n",
    "It is also possible to check several conditions one after the other. The syntax for this is:\r\n",
    "\r\n",
    "```python\r\n",
    "if condition_1:\r\n",
    "    instruction_1\r\n",
    "elif condition_2:\r\n",
    "    instruction_2\r\n",
    "elif condition_3:\r\n",
    "    instruction_3\r\n",
    "else:\r\n",
    "    instruction_4\r\n",
    "instruction_5\r\n",
    "```\r\n",
    "\r\n",
    "In this case, the conditions are checked in order. For the first true condition the corresponding code block (the indented instructions) is executed. The code block after the `else` is executed only if no condition before was true. Once a code block has been executed, no further conditions are checked. The order of the of the conditions can be crucial. This is illustrated in the following examples."
   ],
   "metadata": {}
  },
  {
   "cell_type": "code",
   "execution_count": null,
   "source": [
    "temperature = int(input(\"How many degrees (Celsius) is it? \"))\r\n",
    "\r\n",
    "if temperature > 30:\r\n",
    "    print(\"hot\")\r\n",
    "elif temperature > 20:\r\n",
    "    print(\"warm\")\r\n",
    "else:\r\n",
    "    print(\"cold\")"
   ],
   "outputs": [],
   "metadata": {}
  },
  {
   "cell_type": "code",
   "execution_count": null,
   "source": [
    "temperature = int(input(\"How many degrees (Celsius) is it? \"))\r\n",
    "\r\n",
    "if temperature > 20:\r\n",
    "    print(\"warm\")\r\n",
    "elif temperature > 30:\r\n",
    "    print(\"hot\")\r\n",
    "else:\r\n",
    "    print(\"cold\")"
   ],
   "outputs": [],
   "metadata": {}
  },
  {
   "cell_type": "markdown",
   "source": [
    "## Complex conditions\r\n",
    "As shown in the introduction to primitive data types, the operators *`and`*, *`or`* and *`not`* can be used to create complex expressions. Thus, these operators can be used to formulate complex conditions consisting of various comparisons. Parentheses can be used here for grouping, too."
   ],
   "metadata": {}
  },
  {
   "cell_type": "code",
   "execution_count": 2,
   "source": [
    "number = int(input(\"Please insert a number: \"))\r\n",
    "if (number % 3 == 0) and (number % 5 == 0) and not (number % 2 == 0):\r\n",
    "    print(number, \"can be divided by 3 and 5.\")"
   ],
   "outputs": [],
   "metadata": {}
  },
  {
   "cell_type": "markdown",
   "source": [
    "## Nesting\r\n",
    "Conditional instructions can be nested. This means that an `if` statement itself can contain one or several `if` statements. Sometimes this is needed to check several conditions one after the other."
   ],
   "metadata": {}
  },
  {
   "cell_type": "code",
   "execution_count": 3,
   "source": [
    "temperature = int(input(\"Please insert the current temperature: \"))\r\n",
    "rain = True\r\n",
    "wind = False\r\n",
    "\r\n",
    "if temperature > 20:\r\n",
    "    print(\"It's warm\")\r\n",
    "    if rain:\r\n",
    "        print(\"Warm & raining: summer in Aachen\")\r\n",
    "        if wind:\r\n",
    "            print(\"It's warm, it rains and it's windy!\")\r\n",
    "        else:\r\n",
    "            print(\"Warm, raining, no wind at all\")\r\n",
    "    else:\r\n",
    "        print(\"Warm and dry, beautiful!\")\r\n",
    "        if wind:\r\n",
    "            print(\"Warm, dry and windy: Good weather for sailing\")\r\n",
    "        else:\r\n",
    "            print(\"Warm, dry, windless: Just lie in the sun\")\r\n",
    "else:\r\n",
    "    print(\"If it's cold, I don't care about rain and wind\")"
   ],
   "outputs": [
    {
     "output_type": "stream",
     "name": "stdout",
     "text": [
      "It's warm\n",
      "Warm & raining: summer in Aachen\n",
      "Warm, raining, no wind at all\n"
     ]
    }
   ],
   "metadata": {}
  },
  {
   "cell_type": "markdown",
   "source": [
    "## Exercise 1\r\n",
    "Examine the previous example and consider why the conditions were nested. Would it be possible to rewrite the program so that nesting is not necessary? Try it yoursel..."
   ],
   "metadata": {}
  },
  {
   "cell_type": "code",
   "execution_count": null,
   "source": [],
   "outputs": [],
   "metadata": {}
  },
  {
   "cell_type": "markdown",
   "source": [
    "## Exercise 2\r\n",
    "Write a program that simulates the input at an ATM. For this the following steps need to be carried out:\r\n",
    "- First ask for the PIN\r\n",
    "- Compare the input with a constant you have chosen\r\n",
    "- The following steps will be executed only if the correct PIN is entered:\r\n",
    "    - Ask how much money should be withdrawn\r\n",
    "    - Compare the amount with a fixed account balance\r\n",
    "    - If the account is covered, display a corresponding output (\"Money is issued\") and the new account balance\r\n",
    "    - If the account is not covered, display an appropriate error message\r\n",
    "- If the PIN was entered incorrectly, issue an error message"
   ],
   "metadata": {}
  },
  {
   "cell_type": "code",
   "execution_count": null,
   "source": [],
   "outputs": [],
   "metadata": {}
  },
  {
   "cell_type": "markdown",
   "source": [
    "## Checking input\r\n",
    "You can use `input()` to read input from the user. The output data type of this function is always `string`. With the help of the functions `int()`, `bool()`... you can convert the data type. So far we have often used the following instruction. What happens if the entered value is not convertible to a number (e.g. when entering 'twenty')?"
   ],
   "metadata": {}
  },
  {
   "cell_type": "code",
   "execution_count": 4,
   "source": [
    "zahl = int(input(\"Please insert a number:\"))"
   ],
   "outputs": [
    {
     "output_type": "error",
     "ename": "ValueError",
     "evalue": "invalid literal for int() with base 10: 'zehn'",
     "traceback": [
      "\u001b[1;31m---------------------------------------------------------------------------\u001b[0m",
      "\u001b[1;31mValueError\u001b[0m                                Traceback (most recent call last)",
      "\u001b[1;32m~\\AppData\\Local\\Temp/ipykernel_11696/1746748573.py\u001b[0m in \u001b[0;36m<module>\u001b[1;34m\u001b[0m\n\u001b[1;32m----> 1\u001b[1;33m \u001b[0mzahl\u001b[0m \u001b[1;33m=\u001b[0m \u001b[0mint\u001b[0m\u001b[1;33m(\u001b[0m\u001b[0minput\u001b[0m\u001b[1;33m(\u001b[0m\u001b[1;34m\"Please insert a number:\"\u001b[0m\u001b[1;33m)\u001b[0m\u001b[1;33m)\u001b[0m\u001b[1;33m\u001b[0m\u001b[1;33m\u001b[0m\u001b[0m\n\u001b[0m",
      "\u001b[1;31mValueError\u001b[0m: invalid literal for int() with base 10: 'zehn'"
     ]
    }
   ],
   "metadata": {}
  },
  {
   "cell_type": "markdown",
   "source": [
    "In order to prevent the program from being aborted and the error message from being shown, it must be checked whether the input can be converted into a certain data type. For this purpose Python provides several [`String` methods](https://docs.python.org/3/library/stdtypes.html#string-methods) including:\r\n",
    "- isdecimal()\r\n",
    "- isalpha()\r\n",
    "- isspace()\r\n",
    "\r\n",
    "All these *`.issomething()`* methods return a boolean value (`True` or `False`).\r\n",
    "Thus they can be used to check if a string can be converted."
   ],
   "metadata": {}
  },
  {
   "cell_type": "markdown",
   "source": [],
   "metadata": {}
  },
  {
   "cell_type": "code",
   "execution_count": 6,
   "source": [
    "number = input(\"Please insert a number: \")\r\n",
    "\r\n",
    "if number.isdigit():\r\n",
    "    number = int(number)\r\n",
    "    print(\"Very nice,\", number, \"is my favourite number.\")\r\n",
    "else:\r\n",
    "    print(\"Sorry, that was not a number!\")"
   ],
   "outputs": [
    {
     "output_type": "stream",
     "name": "stdout",
     "text": [
      "Sorry, that was not a number!\n"
     ]
    }
   ],
   "metadata": {}
  },
  {
   "cell_type": "markdown",
   "source": [
    "## Task\r\n",
    "As is well known, a calendar year has 365 or 366 days. According to the Gregorian calendar, a year lasts exactly 365.2425 days, i.e. 365 days, 5 hours, 49 minutes, 12 seconds or in other words: 31,556,952 seconds. So, roughly speaking, a year is 1/4 of a day longer than 365 days.\r\n",
    "\r\n",
    "To correct this difference, leap days have been introduced. Every four years the 29th of February is inserted as a leap day. However, with this we make a new small \"mistake\" because now we have a hundredth of a day too much.\r\n",
    "For this reason, every 100 years - namely, if the year number is divisible by 100 - a leap day is omitted. For example, the year 1900 was not a leap year, although it was divisible by four.\r\n",
    "\r\n",
    "Albeit this is almost sufficient, we need another adjustment every 400 years, then a leap day is inserted, although the year number is divisible by hundred. According to this rule, the year 2000 was a leap year for example.\r\n",
    "\r\n",
    "With these information now write a Python program that calculates whether a given year is a leap year or not."
   ],
   "metadata": {}
  },
  {
   "cell_type": "code",
   "execution_count": null,
   "source": [],
   "outputs": [],
   "metadata": {}
  }
 ],
 "metadata": {
  "file_extension": ".py",
  "kernelspec": {
   "name": "python3",
   "display_name": "Python 3.9.7 64-bit"
  },
  "language_info": {
   "codemirror_mode": {
    "name": "ipython",
    "version": 3
   },
   "file_extension": ".py",
   "mimetype": "text/x-python",
   "name": "python",
   "nbconvert_exporter": "python",
   "pygments_lexer": "ipython3",
   "version": "3.9.7"
  },
  "mimetype": "text/x-python",
  "name": "python",
  "npconvert_exporter": "python",
  "pygments_lexer": "ipython3",
  "version": 3,
  "interpreter": {
   "hash": "ac59ebe37160ed0dfa835113d9b8498d9f09ceb179beaac4002f036b9467c963"
  }
 },
 "nbformat": 4,
 "nbformat_minor": 2
}