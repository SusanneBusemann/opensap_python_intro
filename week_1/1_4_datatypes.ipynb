{
 "cells": [
  {
   "cell_type": "markdown",
   "source": [
    "# datatypes\r\n",
    "## Prerequisites\r\n",
    "This unit assumes that you know the following content: Variables, Input and Output.\r\n",
    "\r\n",
    "## Primitive datatypes\r\n",
    "In Python, as in other programming languages, the result of the evaluation of an expression always has a *datatype*. In the previous Juypter Notebooks we have already used a number of these *datatypes*, without explicitly mentioning them.\r\n",
    "For example, the following expression contains two values of the *datatype* `Integer`"
   ],
   "metadata": {}
  },
  {
   "cell_type": "code",
   "execution_count": null,
   "source": [
    "1 + 2"
   ],
   "outputs": [],
   "metadata": {}
  },
  {
   "cell_type": "markdown",
   "source": [
    "In principle, Python distinguishes between *primitive* and *complex* datatypes. In this Notbook we will introduce the different primitive datatypes. In Python, the primitive datatypes shown in the following table are available.\r\n",
    "\r\n",
    "| Description   | Python datatype | Examples    |\r\n",
    "|----------------|-----------------|--------------|\r\n",
    "| Integer numbers   | `Integer`         | 42, 0, -11   |\r\n",
    "| Decimal numbers    | `Float`           | 2.0, -3.14   |\r\n",
    "| Logical values | `Boolean`         | True, False  |\r\n",
    "| Character strings  | `String`          | \"Hello world\" |"
   ],
   "metadata": {}
  },
  {
   "cell_type": "markdown",
   "source": [
    "The built-in Python function `type()` ([Python documentation: type](https://docs.python.org/3/library/functions.html#type)) can be used to determine the datatype of an expression. In the following cell, the function `type()` is used to output the datatype of the values *41*, *-3.14*, *True* and *\"Hello World\"*."
   ],
   "metadata": {}
  },
  {
   "cell_type": "code",
   "execution_count": 1,
   "source": [
    "print(type(42))\r\n",
    "print(type(-3.14))\r\n",
    "print(type(True))\r\n",
    "\r\n",
    "s = \"Hello World\"\r\n",
    "print(type(s))"
   ],
   "outputs": [
    {
     "output_type": "stream",
     "name": "stdout",
     "text": [
      "<class 'int'>\n",
      "<class 'float'>\n",
      "<class 'bool'>\n",
      "<class 'str'>\n"
     ]
    }
   ],
   "metadata": {}
  },
  {
   "cell_type": "markdown",
   "source": [
    "Short explanation about the notation of `print(type(42))`: Here the two functions `print()` and `type()` are nested in each other. That means, `type()` receives the 42 as input value. `type()` now generates the value `<class 'int'>` as output. This output now serves as input of `print()`. As output of `print()` the final value is then printed on the screen.\r\n",
    "\r\n",
    "Functions can be nested inside each other. They are then called from the inside out. The output of a function then serves as input for the next outer function."
   ],
   "metadata": {}
  },
  {
   "cell_type": "markdown",
   "source": [
    "## Integer\r\n",
    "\r\n",
    "The first primitive datatype we will discuss in detail is the datatype `Integer`. The `Integer` datatype is used to represent integers. The value range of the datatype thus includes the numbers ..., -3, -2, -1, 0, 1, 2, 3, ...\r\n",
    "\r\n",
    "It is important to note that the range of `Integer` values in Python is only limited by the available internal memory of the computer. Thus, calculations with very large numbers can be performed with Python. In the following cell you can see some examples for the datatype `Integer`. Test some numbers yourself, too."
   ],
   "metadata": {}
  },
  {
   "cell_type": "code",
   "execution_count": 1,
   "source": [
    "print(type(2))\r\n",
    "print(type(-5))\r\n",
    "\r\n",
    "x = 10000000000000000000000000000000000000\r\n",
    "print(type(x))\r\n",
    "\r\n",
    "x_squared = x * x\r\n",
    "print(x_squared)\r\n",
    "print(type(x_squared))"
   ],
   "outputs": [
    {
     "output_type": "stream",
     "name": "stdout",
     "text": [
      "<class 'int'>\n",
      "<class 'int'>\n",
      "<class 'int'>\n",
      "100000000000000000000000000000000000000000000000000000000000000000000000000\n",
      "<class 'int'>\n"
     ]
    }
   ],
   "metadata": {}
  },
  {
   "cell_type": "markdown",
   "source": [
    "## Float\r\n",
    "In contrast to the datatype `Integer`, the datatype `Float` is used to represent floating point numbers. Decimal places are separated by a dot (`.`). As shown in the following cell, the datatype `Float` also supports the exponential notation. The notation 6.62e-34 represents the number $ 6.62 * 10^{-34} $."
   ],
   "metadata": {}
  },
  {
   "cell_type": "code",
   "execution_count": null,
   "source": [
    "print(type(0.1))\r\n",
    "print(type(0.0))\r\n",
    "\r\n",
    "h = 6.63e-34            # https://en.wikipedia.org/wiki/Planck_constant\r\n",
    "print(h)\r\n",
    "print(type(h))\r\n",
    "\r\n",
    "g = 1e100               # https://en.wikipedia.org/wiki/Googol\r\n",
    "print(g)\r\n",
    "print(type(g))"
   ],
   "outputs": [],
   "metadata": {}
  },
  {
   "cell_type": "markdown",
   "source": [
    "## Operations\r\n",
    "You already got to know a number of operations for primitive datatypes in the introduction to variables.\r\n",
    "The following table shows the most important operations again.\r\n",
    "\r\n",
    "|  Description   | Operator | Example     | Result    |\r\n",
    "|-----------------|----------|--------------|------------|\r\n",
    "| Addition        | +        | 2 + 3        | 5          |\r\n",
    "| Subtraction     | -        | 2 - 3        | -1         |\r\n",
    "| Multiplication  | *        | 2 * 3        | 6          |\r\n",
    "| Division        | /        | 7 / 3        | 2.3333333333333335 |\r\n",
    "| Integer division | //  | 7 // 3       | 2          |\r\n",
    "| Modulo          | %        | 7 % 3        | 1          |\r\n",
    "| Exponentiation  | **       | 2 ** 0.5     | 1.4142135623730951 |\r\n",
    "\r\n",
    "As mentioned above, the usual priorities for arithmetic operations apply in Python.\r\n",
    "Parentheses can be used to control the order of evaluation."
   ],
   "metadata": {}
  },
  {
   "cell_type": "markdown",
   "source": [
    "### **Exercise**\r\n",
    "Test different operations for the datatypes `Integer` and `Float`. Use the function `type()` to determine the datatype of a variable.\r\n",
    "\r\n",
    "Which datatype is created when an `Integer` value is combined with a `Float` value using an operator?\r\n",
    "Is the result of operations on `Integer` values always an `Integer` value?"
   ],
   "metadata": {}
  },
  {
   "cell_type": "code",
   "execution_count": 3,
   "source": [
    "integer_value = 5\r\n",
    "print(type(integer_value))\r\n",
    "\r\n",
    "float_value = 6.78\r\n",
    "print(type(float_value))\r\n",
    "\r\n",
    "combinated_value = integer_value + float_value\r\n",
    "print(\"The combined value's type is:\", type(combinated_value))\r\n",
    "\r\n",
    "# More values for experimentations:\r\n",
    "print(-12345678900000000000.0)\r\n",
    "print(3/1)\r\n",
    "print(2e306 * 10)"
   ],
   "outputs": [
    {
     "output_type": "stream",
     "name": "stdout",
     "text": [
      "<class 'int'>\n",
      "<class 'float'>\n",
      "The combined value's type is: <class 'float'>\n",
      "-1.23456789e+19\n",
      "3.0\n",
      "2e+307\n"
     ]
    }
   ],
   "metadata": {}
  },
  {
   "cell_type": "markdown",
   "source": [
    "## Accuracy of operations on 'float' values\r\n",
    "Execute the calculations in the following two cells.\r\n",
    "\r\n",
    "Are the calculated results correct? What could be the cause of these results?"
   ],
   "metadata": {}
  },
  {
   "cell_type": "code",
   "execution_count": 1,
   "source": [
    "a = 0.1\r\n",
    "b = 0.2\r\n",
    "\r\n",
    "sum = a + b\r\n",
    "print(sum)"
   ],
   "outputs": [
    {
     "output_type": "stream",
     "name": "stdout",
     "text": [
      "0.30000000000000004\n"
     ]
    }
   ],
   "metadata": {}
  },
  {
   "cell_type": "code",
   "execution_count": 2,
   "source": [
    "root_of_2 = 2 ** 0.5\r\n",
    "\r\n",
    "two = root_of_2 ** 2\r\n",
    "print(two)"
   ],
   "outputs": [
    {
     "output_type": "stream",
     "name": "stdout",
     "text": [
      "2.0000000000000004\n"
     ]
    }
   ],
   "metadata": {}
  },
  {
   "cell_type": "markdown",
   "source": [
    "Internally Python represents floating point numbers with a precision of 15 to 16 digits in the binary system ([IEEE_754](https://de.wikipedia.org/wiki/IEEE_754)). This representation allows to work with both very large and very small numbers. However, rounding errors occur in certain cases. Some numbers cannot be represented precisely in the  binary system (similar to the number $1/3$ in the decimal system).\r\n",
    "\r\n",
    "Some more examples of possible surprises when working with floating point numbers can be found here: [Python Documentation](https://docs.python.org/3/tutorial/floatingpoint.html)"
   ],
   "metadata": {}
  },
  {
   "cell_type": "markdown",
   "source": [
    "## Boolean\r\n",
    "Truth values are represented with the `Boolean` datatype. The `Boolean` datatype can only take two values: `True` or `False`.\r\n",
    "\r\n",
    "There is a set of special logical operators for the `Boolean` datatype.\r\n",
    "\r\n",
    "| Operator   | Explanation           | Example           |\r\n",
    "|------------|-----------------------|-------------------|\r\n",
    "| not        | Negation              | not y             |\r\n",
    "| and        | Logical AND           | x and y           |\r\n",
    "| or         | Logical OR            | a or b or c       |\r\n",
    "\r\n",
    "\r\n",
    "### **Exercise**\r\n",
    "In the following cell you will find some examples for the use of `Boolean` values. What happens when you combine a `Boolean` value with an `Integer` value? What happens when you combine a `Boolean` value with a `Float` value? What operators can you use for this? Of which datatype is the result?"
   ],
   "metadata": {}
  },
  {
   "cell_type": "code",
   "execution_count": null,
   "source": [
    "print(False and False)\r\n",
    "print(not False)\r\n",
    "\r\n",
    "a = True\r\n",
    "b = False\r\n",
    "\r\n",
    "print(\"True and True: \",True and True)\r\n",
    "print(\"a and b: \", a and b)\r\n",
    "print(\"a or b: \",a or b)\r\n",
    "\r\n",
    "print(\"Complex logical expression: \", a and (b or (True and False)))"
   ],
   "outputs": [],
   "metadata": {}
  },
  {
   "cell_type": "markdown",
   "source": [
    "## String\r\n",
    "To process character strings, the `String` datatype is used. The datatype `String` strictly speaking is not a primitive datatype, but a sequential datatype. Since strings happen to occur very often in simple programs, the datatype `String` will be introduced nevertheless.\r\n",
    "\r\n",
    "In Python, `Strings` can be created with either single or double quotes. There are subtle differences between the two variations, which will not be discussed further at this point. Therefore, we will prefer to use double quotes when working with `Strings`."
   ],
   "metadata": {}
  },
  {
   "cell_type": "code",
   "execution_count": 4,
   "source": [
    "print(type(\"Hello World\"))\r\n",
    "\r\n",
    "a = \"Hello\"\r\n",
    "b = \"World\"\r\n",
    "\r\n",
    "print(a, b)\r\n",
    "print(a+b)\r\n",
    "\r\n",
    "print(3*a)"
   ],
   "outputs": [
    {
     "output_type": "stream",
     "name": "stdout",
     "text": [
      "<class 'str'>\n",
      "Hello World\n",
      "HelloWorld\n",
      "HelloHelloHello\n"
     ]
    }
   ],
   "metadata": {}
  },
  {
   "cell_type": "markdown",
   "source": [
    "### **String methods**\r\n",
    "There are a number of methods in Python to process `Strings` [Python documentation: Strings](https://docs.python.org/3/library/string.html).\r\n",
    "\r\n",
    "A small selection of these methods is shown here:\r\n",
    "* `.lower()`:    changes all upper case letters to lower case\r\n",
    "* `.upper()`:    changes all lowercase letters to uppercase\r\n",
    "* `.replace()`:  is used to replace a given sequence within a `String` with another one"
   ],
   "metadata": {}
  },
  {
   "cell_type": "markdown",
   "source": [
    "### **Exercise**\r\n",
    "Test different operations for `Strings`.\r\n",
    "What happens when you try to add a `string` and an `integer`?\r\n",
    "Also use the above methods to manipulate `Strings`."
   ],
   "metadata": {}
  },
  {
   "cell_type": "code",
   "execution_count": 5,
   "source": [
    "a = \"Ramones\"\r\n",
    "print(a.upper())\r\n",
    "\r\n",
    "print(\"hitchhiker\".replace(\"hi\", \"ma\"))"
   ],
   "outputs": [
    {
     "output_type": "stream",
     "name": "stdout",
     "text": [
      "RAMONES\n",
      "matchmaker\n"
     ]
    }
   ],
   "metadata": {}
  },
  {
   "cell_type": "markdown",
   "source": [
    "### **Exercise**\r\n",
    "Read in two numbers that you want the user to input (hint: use the function `input()`). Add up those numbers and print the result.\r\n",
    "\r\n",
    "Which problem occurs? Of which datatype are the read-in values?"
   ],
   "metadata": {}
  },
  {
   "cell_type": "code",
   "execution_count": 6,
   "source": [
    "a = input(\"Please insert a number A: \")\r\n",
    "\r\n",
    "# Please add the following lines\r\n",
    "\r\n",
    "b = "
   ],
   "outputs": [
    {
     "output_type": "error",
     "ename": "SyntaxError",
     "evalue": "invalid syntax (Temp/ipykernel_20320/3556848571.py, line 5)",
     "traceback": [
      "\u001b[1;36m  File \u001b[1;32m\"C:\\Users\\lh7873e\\AppData\\Local\\Temp/ipykernel_20320/3556848571.py\"\u001b[1;36m, line \u001b[1;32m5\u001b[0m\n\u001b[1;33m    b =\u001b[0m\n\u001b[1;37m        ^\u001b[0m\n\u001b[1;31mSyntaxError\u001b[0m\u001b[1;31m:\u001b[0m invalid syntax\n"
     ]
    }
   ],
   "metadata": {}
  },
  {
   "cell_type": "markdown",
   "source": [
    "### **Conversion**\r\n",
    "Operations on `Strings` sometimes lead to unexpected results. The attempt to add a `String` and an `Integer` leads to an error message. The addition of two `Strings` causes both strings to be joined together.\r\n",
    "\r\n",
    "This is a common problem when working with user input. The datatype of the input is always `String`. This may have to be converted to a different datatype before it can be used. For the conversion between the different datatypes, Python provides a number of built-in functions [Python Documentation: typecast functions](https://docs.python.org/3/library/functions.html):\r\n",
    "\r\n",
    "| Function | Explanation | Example |\r\n",
    "|----------------|-------------------------|----------------|\r\n",
    "| int() | Converts the passed parameter to the datatype `Integer` | int(\"10\") |\r\n",
    "| float() | Converts the given parameter to the datatype `float`   | float(\"3.14\") |\r\n",
    "| bool() | Converts the given parameter to the datatype `Boolean` | bool(\"Hello \") |\r\n",
    "| str() | Converts the given parameter to the datatype `String` | str(True) |"
   ],
   "metadata": {}
  },
  {
   "cell_type": "markdown",
   "source": [
    "### **Exercise**\r\n",
    "Perform some conversions between the different datatypes. Analyze which datatype and which value the result of the conversion has. What happens when you concatenate different conversions?"
   ],
   "metadata": {}
  },
  {
   "cell_type": "code",
   "execution_count": null,
   "source": [
    "s = \"Hello\"\r\n",
    "i = 2019\r\n",
    "print(s + str(i))\r\n",
    "\r\n",
    "print(bool(0))\r\n",
    "\r\n",
    "print(int(bool(3)))\r\n",
    "\r\n",
    "bool(\" \")"
   ],
   "outputs": [],
   "metadata": {}
  },
  {
   "cell_type": "markdown",
   "source": [
    "## Converting and the function `input()`\r\n",
    "As already mentioned, the result of the `input()` function is always a `String`. If you need another datatype, you must convert the input data at first. The necessary procedure is shown in the following cells."
   ],
   "metadata": {}
  },
  {
   "cell_type": "code",
   "execution_count": null,
   "source": [
    "age = input(\"Please insert your age: \")\r\n",
    "age = int(age)\r\n",
    "print(age)\r\n",
    "type(age)"
   ],
   "outputs": [],
   "metadata": {}
  },
  {
   "cell_type": "code",
   "execution_count": 2,
   "source": [
    "# Alternatively also possible by chaining functions\r\n",
    "age = int(input(\"Please insert your Age: \"))\r\n",
    "type(age)"
   ],
   "outputs": [
    {
     "output_type": "stream",
     "name": "stdout",
     "text": [
      "Please insert your Age: 26\n"
     ]
    },
    {
     "output_type": "execute_result",
     "data": {
      "text/plain": [
       "int"
      ]
     },
     "metadata": {},
     "execution_count": 2
    }
   ],
   "metadata": {}
  },
  {
   "cell_type": "markdown",
   "source": [
    " ## Exercise\r\n",
    " Create a new version of the cuboid program that reads length, width and height via the input function.\r\n",
    "\r\n",
    "**Notes:**\r\n",
    "- In the function `print()` you can output several parameters. These must be separated by commas.\r\n",
    "  Example: `print(a, b, c)`\r\n",
    "- In the function `print()` you can also pass `Strings` directly as parameters.\r\n",
    "  Example: `print(\"The result is:\")`"
   ],
   "metadata": {}
  },
  {
   "cell_type": "code",
   "execution_count": null,
   "source": [],
   "outputs": [],
   "metadata": {}
  }
 ],
 "metadata": {
  "file_extension": ".py",
  "kernelspec": {
   "name": "python3",
   "display_name": "Python 3.9.7 64-bit"
  },
  "language_info": {
   "codemirror_mode": {
    "name": "ipython",
    "version": 3
   },
   "file_extension": ".py",
   "mimetype": "text/x-python",
   "name": "python",
   "nbconvert_exporter": "python",
   "pygments_lexer": "ipython3",
   "version": "3.9.7"
  },
  "mimetype": "text/x-python",
  "name": "python",
  "npconvert_exporter": "python",
  "pygments_lexer": "ipython3",
  "version": 3,
  "interpreter": {
   "hash": "ac59ebe37160ed0dfa835113d9b8498d9f09ceb179beaac4002f036b9467c963"
  }
 },
 "nbformat": 4,
 "nbformat_minor": 2
}