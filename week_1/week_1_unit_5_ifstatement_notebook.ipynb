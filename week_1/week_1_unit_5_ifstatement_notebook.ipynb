{
 "cells": [
  {
   "cell_type": "markdown",
   "metadata": {},
   "source": [
    "# Conditional instructions - part 1\n",
    "## Prerequisites\n",
    "This unit assumes that you know the following content: [Variables](./week_1_unit_2_using_variables_notebook.ipynb),\n",
    "[Input and output](./week_1_unit_3_in_and_output_notebook.ipynb), [Data types](./week_1_unit_4_datatypes_notebook.ipynb)"
   ]
  },
  {
   "cell_type": "markdown",
   "metadata": {},
   "source": [
    "## Motivation\n",
    "\n",
    "All your previous programs include a sequence of statements. After the start of the program the statements were\n",
    "executed step by step and the program ended afterwards. However, it is often necessary that parts of a program are\n",
    "only executed under certain conditions. For example, think of the following sentence and how it \n",
    "would be converted into a [pseudo code](https://de.wikipedia.org/wiki/Pseudocode) program:\n",
    "\n",
    "> If it rains tomorrow, I will clean up the basement. Then I will tidy the cupboards and sort the photos. Otherwise, I\n",
    "> will go swimming. In the evening I will go to the cinema with my wife.\n",
    "\n",
    "The textual description of the task is not precise. It is not exactly clear what is to be done.\n",
    "This is common for description in natural language. Often addition information is conveyed through the \n",
    "context of e.g. a conversation. What is probably meant in the previous example is the following:\n",
    "```\n",
    "   If it rains tomorrow, I will:\n",
    "      - clean up the basement\n",
    "      - tidy the cupboards\n",
    "      - sort the photos\n",
    "   Otherwise (so if it doesn't rain), I will:\n",
    "      go swimming.\n",
    "\n",
    "   In the evening I will go to the cinema with my wife.\n",
    "```\n",
    "So, depending on the whether either one or the other path of the pseudo code program is executed. This\n",
    "is illustrated in the following graphic:\n",
    "\n",
    "![img_conditionals.png](./img/img_conditionals.png)"
   ]
  },
  {
   "cell_type": "markdown",
   "metadata": {},
   "source": [
    "## Comparison operators\n",
    "\n",
    "In oder to use decision in programs a way to formulate conditions is needed. To formulate condition\n",
    "the comparison operators can be used.\n",
    "The following table shows a selection of comparison operators available in Python. The result fo a \n",
    "comparison using this operators is always a `Boolean` value. As already explained, the only possible `Boolean`\n",
    "values are `True` and `False`. For each comparison operator the table contains an example expressions\n",
    "that results to `True` and `False` respectively. \n",
    "\n",
    "| Operator | Explanation    | Example True |   Example False |\n",
    "|----------|----------------|--------------|-----------------|\n",
    "| ==    | Check for equality                    | 2 == 2 | 2 == 3 |\n",
    "| !=    | Check for inequality                  | 2 != 3 | 2 != 2 |\n",
    "| <     | Check for \"smaller\"                   | 2 < 3  | 2      |\n",
    "| >     | Check for \"larger\"                    | 3 > 2  | 2 > 3  |\n",
    "| <=    | Check for \"less than or equal to\"     | 3 <= 3 | 3 <= 2 |\n",
    "| >=    | Check for \"greater than or equal to\"  | 2 >= 2 | 2 >= 3 |\n",
    "\n",
    "\n",
    "### Exercise\n",
    "Familiarize yourself with the comparison operators. Also test more complex comparisons, such as:\n",
    "\n",
    "```python\n",
    "\"abc\" < \"abd\"\n",
    "\"abcd\" > \"abc\"\n",
    "2 == 2.0\n",
    "1 == True\n",
    "0 != True\n",
    "```"
   ]
  },
  {
   "cell_type": "code",
   "execution_count": null,
   "metadata": {},
   "outputs": [],
   "source": [
    "1 == True"
   ]
  },
  {
   "cell_type": "markdown",
   "metadata": {},
   "source": [
    "## Conditional statements\n",
    "\n",
    "Using the conditional operators it is now possible to formulate conditional statements in Python.\n",
    "The syntax for conditional statements in Python is:\n",
    "\n",
    "```python\n",
    "if condition:\n",
    "   statement_a1\n",
    "   ...\n",
    "   statement_an\n",
    "else:\n",
    "   statement_b1\n",
    "   ...\n",
    "   statement_bm\n",
    "```\n",
    "\n",
    "The condition can be either `True` or `False`. If the condition is `True` the statements `a1` to `an` are executed.\n",
    "If the condition is `False` the statements `b1` to `bm` are executed.\n",
    "Note, that the `else` branch is optional, i.e. an\n",
    "`if` condition can also be specified without an `else` alternative. If the condition then is not true (i.e. `false`),\n",
    "the instructions of the `if` block are simply skipped."
   ]
  },
  {
   "cell_type": "code",
   "execution_count": null,
   "metadata": {},
   "outputs": [],
   "source": [
    "number = int(input(\"Please type a number: \"))\n",
    "if number > 100:\n",
    "    print(number, \"is greater than 100!\")"
   ]
  },
  {
   "cell_type": "code",
   "execution_count": null,
   "metadata": {},
   "outputs": [],
   "source": [
    "number = int(input(\"Please typ a number: \"))\n",
    "if number > 100:\n",
    "    print(number, \"is greater than 100!\")\n",
    "else:\n",
    "    print(number, \"is smaller or equals 100!\")"
   ]
  },
  {
   "cell_type": "markdown",
   "metadata": {},
   "source": [
    "### Indentations mark the boundaries of code blocks\n",
    "\n",
    "Statements that belong together are called code blocks.\n",
    "As can be seen in the previous examples, Python does not use special characters or keywords to mark the\n",
    "beginning and the end of code blocks. Instead, indentation is used in Python. The common convention is to use\n",
    "four spaces for this.\n",
    "\n",
    "So indentation and spaces have a meaning Python! Therefore, you must not indent arbitrarily in a program. \n",
    "Execute the code in the following two cells to see what happens."
   ]
  },
  {
   "cell_type": "code",
   "execution_count": null,
   "metadata": {},
   "outputs": [],
   "source": [
    "a = 3\n",
    "    b = 4\n",
    "print(a + b)"
   ]
  },
  {
   "cell_type": "code",
   "execution_count": null,
   "metadata": {},
   "outputs": [],
   "source": [
    "number = 100\n",
    "if number > 0:\n",
    "    print(\"Number is greater than 0\")"
   ]
  },
  {
   "cell_type": "markdown",
   "metadata": {},
   "source": [
    "Let us test your understanding of code blocks in Python. Take a look at the following program. The last statement \n",
    "`print(\"Done\")` is not indented. What does this mean for the execution of the\n",
    "program? Change the program and indent the `print(\"Done\")`. How does the execution of the\n",
    "program change?"
   ]
  },
  {
   "cell_type": "code",
   "execution_count": null,
   "metadata": {},
   "outputs": [],
   "source": [
    "zahl = int(input(\"Please insert a number: \"))\n",
    "if zahl > 100:\n",
    "    print(zahl, \"is greater than 100!\")\n",
    "else:\n",
    "    print(zahl, \"is smaller oder equals 100!\")\n",
    "print(\"Done\")"
   ]
  }
 ],
 "metadata": {
  "file_extension": ".py",
  "interpreter": {
   "hash": "9fd0e282e2343d8b38b390b803aabc7fcea80a18eee8e5bd23ce64f6435b30a1"
  },
  "kernelspec": {
   "display_name": "Python 3.9.7 64-bit ('opensap_python_intro-SgMpohZV': pipenv)",
   "name": "python3"
  },
  "language_info": {
   "codemirror_mode": {
    "name": "ipython",
    "version": 3
   },
   "file_extension": ".py",
   "mimetype": "text/x-python",
   "name": "python",
   "nbconvert_exporter": "python",
   "pygments_lexer": "ipython3",
   "version": "3.9.7"
  },
  "mimetype": "text/x-python",
  "name": "python",
  "npconvert_exporter": "python",
  "pygments_lexer": "ipython3",
  "version": 3
 },
 "nbformat": 4,
 "nbformat_minor": 2
}
