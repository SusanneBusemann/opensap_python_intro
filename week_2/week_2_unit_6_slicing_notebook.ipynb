{
 "cells": [
  {
   "cell_type": "markdown",
   "metadata": {},
   "source": [
    "# Slicing\n",
    "## Basic usage\n",
    "\n",
    "With the help of the so-called slice operator - `:` - you can access parts of a list. You can use `list[start:stop]` to\n",
    "create a new list from another one. For example, `list1[1:3]` creates a partial list that goes from the first\n",
    "(inclusive) to the third (exclusive) element of the list. If the parameter *start* (berfore the `:`) is omitted, the\n",
    "partial list starts at the beginning, if the parameter *stop* is omitted, the partial list ends with the last element of\n",
    "the original list.  \n",
    "So, the *start* parameter denotes the first parameter included in the list while the *stop* parameter stands for the\n",
    "first element, which is **not** in the list: `[first included element:first excluded element]`.\n",
    "\n",
    "\n",
    "To summarize the options:\n",
    "\n",
    "| Statement          | List items                                                             |\n",
    "| ------------------ | ---------------------------------------------------------------------- |\n",
    "| `list[start:stop]` | `start` **to** `stop-1`                                                |\n",
    "| `list[start:]`     | `start` **to** *end of list*                                           |\n",
    "| `list[:stop]`      | *beginning of list* **to** `stop-1`                                    |\n",
    "| `list[:]`          | *beginning of list* **to** *end of list*, basically a copy of the list |"
   ]
  },
  {
   "cell_type": "code",
   "execution_count": null,
   "metadata": {},
   "outputs": [],
   "source": [
    "list1 = [0, 2, 4, 6, 8, 10]\n",
    "print(list1[2:4])\n",
    "print(list1[:3])\n",
    "print(list1[3:])\n",
    "print(list1[:])"
   ]
  },
  {
   "cell_type": "markdown",
   "metadata": {},
   "source": [
    "## Negative indexing\n",
    "\n",
    "You can use negative indices with the slice operator similar to the usual list indexing. As you might remember,\n",
    "`list[-1]` returns only the last item of a list. With the slicing operator you can use this to specify the start or end\n",
    "point of slicing. With `list[-3:]` you would start slicing at position `-3` and stop at *end of list*.\n",
    "\n",
    "Further examples:\n",
    "\n",
    "| Statement   | Return value                                        | comment                              |\n",
    "| ----------- | --------------------------------------------------- | ------------------------------------ |\n",
    "| `list[-1] ` | index of last list item                             | *recap*                              |\n",
    "| `list[-2:]` | items from *end of list`-2`* **to** *end of list*   | *last 2 items*                       |\n",
    "| `list[:-3]` | items from *start of list* **to** *end of list`-3`* | *everything except the last 3 items* |"
   ]
  },
  {
   "cell_type": "code",
   "execution_count": null,
   "metadata": {},
   "outputs": [],
   "source": [
    "list = [1, 2, 3, 4, 5, 6, 7, 8]\n",
    "print(list[-1])\n",
    "print(list[-2:])\n",
    "print(list[:-3])"
   ]
  },
  {
   "cell_type": "markdown",
   "metadata": {},
   "source": [
    "## Step size\n",
    "\n",
    "If you want to create a new list from another list containing for example only every second element, you can use the\n",
    "*step* parameter to specify the increment while slicing. So the whole slicing operator becomes `list[start:stop:step]`.\n",
    "\n",
    "*Note:* For a faster list creation, `range()` is used in the following example to create a list containing the numbers\n",
    "from `1- 10`. The output of `range()` then needs to be converted to a `list` before it can be used."
   ]
  },
  {
   "cell_type": "code",
   "execution_count": null,
   "metadata": {},
   "outputs": [],
   "source": [
    "list10 = list(range(1, 11))\n",
    "print(list10)\n",
    "\n",
    "list_reduced = list10[1::2]\n",
    "print(list_reduced)"
   ]
  },
  {
   "cell_type": "markdown",
   "metadata": {},
   "source": [
    "## Reversing a sequence with a negative step size\n",
    "\n",
    "When using a negative step size, the returned list will be backwards, e.g `list[::-1]` will return the complete list,\n",
    "but in reversed order. This happens because Python will go to the sequence starting from the back, causing the\n",
    "sliced list to be reversed.  \n",
    "This has the side effect, that the *start* & *stop* parameters seem to be switched, which may seem counterintuitive at\n",
    "first. But in reality, the *start/stop* parameters can be seen as absolute markers of the list regardless of the\n",
    "indexing direction of the slicing operator.\n",
    "\n",
    "\n",
    "| Statement             | Returned items (from --> to)        | Example        | Returned items (Example)             |\n",
    "| --------------------- | ----------------------------------- | -------------- | ------------------------------------ |\n",
    "| `list[::-1]`          | all, reversed                       |                |                                      |\n",
    "| `list[::-2]`          | every second, reversed              |                |                                      |\n",
    "| `list[start::-1] `    | `start` **to** *beginning of list*  | `list[2::-1]`  | index `2` **to** *beginning of list* |\n",
    "| `list[:-stop:-1] `    | *end of list* **to** `stop`         | `list[:-4:-1]` | last 3 items, reversed               |\n",
    "| `list[-start::-1]`    | `-start` **to** *beginning of list* | `list[-3::-1]` | *all* except last 2, reversed        |\n",
    "| `list[start:stop:-1]` | `start` **to** `stop`, start > stop | `list[4:2:-1]` | index `4` **to** index `2`, reversed |\n",
    "| `list[3:4:-1]`        | empty list, cause invalid syntax    |                |                                      |\n",
    "\n",
    "Try using the different slicing methods yourself in the following cell."
   ]
  },
  {
   "cell_type": "code",
   "execution_count": null,
   "metadata": {},
   "outputs": [],
   "source": [
    "list15 = list(range(1, 16))\n",
    "print(\"Original list:\", list15)\n",
    "\n",
    "print(\"Reversed list:\", list15[::-1])\n",
    "\n",
    "print(\"Only the last 3 items:\", list15[:-4:-1])"
   ]
  },
  {
   "cell_type": "markdown",
   "metadata": {},
   "source": [
    "## Exercise - Output partial lists\n",
    "Output elements 0-4, elements 4-8 and elements 8-10 from the last list."
   ]
  },
  {
   "cell_type": "code",
   "execution_count": null,
   "metadata": {},
   "outputs": [],
   "source": []
  }
 ],
 "metadata": {
  "file_extension": ".py",
  "interpreter": {
   "hash": "ac59ebe37160ed0dfa835113d9b8498d9f09ceb179beaac4002f036b9467c963"
  },
  "kernelspec": {
   "display_name": "Python 3.9.7 64-bit",
   "name": "python3"
  },
  "language_info": {
   "codemirror_mode": {
    "name": "ipython",
    "version": 3
   },
   "file_extension": ".py",
   "mimetype": "text/x-python",
   "name": "python",
   "nbconvert_exporter": "python",
   "pygments_lexer": "ipython3",
   "version": "3.9.7"
  },
  "mimetype": "text/x-python",
  "name": "python",
  "npconvert_exporter": "python",
  "pygments_lexer": "ipython3",
  "version": 3
 },
 "nbformat": 4,
 "nbformat_minor": 2
}
