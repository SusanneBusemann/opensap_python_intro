{
 "cells": [
  {
   "cell_type": "markdown",
   "metadata": {},
   "source": [
    "# Slicing\n",
    "## Basic usage\n",
    "\n",
    "With the help of the so-called slice operator - `:` - you can access parts of a list. You can use `list[start:stop]` to\n",
    "create a new list from another one. For example, `list1[1:3]` creates a partial list that goes from the first\n",
    "(inclusive) to the third (exclusive) element of the list. If the parameter before the `:` is omitted, the partial list\n",
    "starts at the beginning, if the parameter after the `:` is omitted, the partial list ends with the last element of the\n",
    "original list.  \n",
    "So, the *start* parameter denotes the first parameter included in the list while the *stop* parameter stands for the\n",
    "first element, which is **not** in the list.\n",
    "\n",
    "\n",
    "To summarize the options:\n",
    "\n",
    "| Option             | List items                                                              |\n",
    "| ------------------ | ----------------------------------------------------------------------- |\n",
    "| `list[start:stop]` | `start` through `stop-1`                                                |\n",
    "| `list[start:]`     | `start` through *end of list*                                           |\n",
    "| `list[:stop]`      | *beginning of list* through `stop-1`                                    |\n",
    "| `list[:]`          | *beginning of list* through *end of list*, basically a copy of the list |"
   ]
  },
  {
   "cell_type": "code",
   "execution_count": null,
   "metadata": {},
   "outputs": [],
   "source": [
    "list1 = [0, 2, 4, 6, 8, 10]\n",
    "print(list1[2:4])\n",
    "print(list1[:3])\n",
    "print(list1[3:])\n",
    "print(list1[:])"
   ]
  },
  {
   "cell_type": "markdown",
   "metadata": {},
   "source": [
    "## Step size\n",
    "\n"
   ]
  },
  {
   "cell_type": "markdown",
   "metadata": {},
   "source": [
    "Steps, negative indices, reverse sequence"
   ]
  },
  {
   "cell_type": "markdown",
   "metadata": {},
   "source": [
    "### Task 5 - Output partial lists\n",
    "Output elements 0-4, elements 4-8 and elements 8-10 from the above list."
   ]
  },
  {
   "cell_type": "code",
   "execution_count": null,
   "metadata": {},
   "outputs": [],
   "source": []
  },
  {
   "cell_type": "markdown",
   "metadata": {},
   "source": [
    "### Task 6 - Two-dimensional slices\n",
    "As shown in Tasks 2 and 4, you can use two indexes to access the two dimensions of a matrix. What does this look like with slices? In fact, it works only in a limited way. Try to work with slices in two dimensions. What is the result?"
   ]
  },
  {
   "cell_type": "code",
   "execution_count": null,
   "metadata": {},
   "outputs": [],
   "source": []
  }
 ],
 "metadata": {
  "file_extension": ".py",
  "interpreter": {
   "hash": "ac59ebe37160ed0dfa835113d9b8498d9f09ceb179beaac4002f036b9467c963"
  },
  "kernelspec": {
   "display_name": "Python 3.9.7 64-bit",
   "name": "python3"
  },
  "language_info": {
   "codemirror_mode": {
    "name": "ipython",
    "version": 3
   },
   "file_extension": ".py",
   "mimetype": "text/x-python",
   "name": "python",
   "nbconvert_exporter": "python",
   "pygments_lexer": "ipython3",
   "version": "3.9.7"
  },
  "mimetype": "text/x-python",
  "name": "python",
  "npconvert_exporter": "python",
  "pygments_lexer": "ipython3",
  "version": 3
 },
 "nbformat": 4,
 "nbformat_minor": 2
}
