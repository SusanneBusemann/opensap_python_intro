{
 "cells": [
  {
   "cell_type": "markdown",
   "metadata": {},
   "source": [
    "# Sequences\n",
    "## Standard sequence types: `list`, `tuple`, `range`\n",
    "\n",
    "You already learned about two of the three basic sequence types built into Python: `list` & `range`. All sequence types\n",
    "share some properties:\n",
    "- They can consist of multiple items which follow one another\n",
    "- They maintain the order of the items they contain. The order of the items will stay the same as the input order.\n",
    "\n",
    "Contrary to lists, a `tuple` is immutable. That means you can not change its content once it is created (like appending\n",
    "items or changing values like in lists). This will be discussed further in the next week.\n",
    "\n",
    "\n",
    "## Text sequence type: `str`\n",
    "\n",
    "You already know strings, too. A string also is a sequence data type and it is immutable like a tuple. It is used\n",
    "exclusively for text and can contain any unicode character.\n",
    "\n",
    "There are more sequence data types in Python, which will not be discussed in this course, but you can read about them in\n",
    "the [Python documentation on sequence types](https://docs.python.org/3/library/stdtypes.html#typesseq), if you are\n",
    "interested.\n",
    "\n",
    "\n",
    "## Common operations on sequence types\n",
    "\n",
    "All sequence types share some common operations and some of them were already covered in this course. The following\n",
    "table is an excerpt taken from the\n",
    "[Python documentation on common operations](https://docs.python.org/3/library/stdtypes.html#common-sequence-operations)\n",
    "shows some of the possible operations common for the sequence types (`s` & `t` are sequence types):\n",
    "\n",
    "| Operation       | Result                                     |\n",
    "| --------------- | ------------------------------------------ |\n",
    "| `x in s`        | `True` if `x` can be found in `s`          |\n",
    "| `s + t`         | Concatenation of `s` and `t`               |\n",
    "| `s[start:stop]` | Partial slice from `start` **to** `stop-1` |"
   ]
  },
  {
   "cell_type": "code",
   "execution_count": null,
   "metadata": {},
   "outputs": [],
   "source": [
    "list_l = [1, 2, 3, 4, 5, 6]\n",
    "string_s = \"This is a string, right?\"\n",
    "range_100 = range(0, 100, 2)\n",
    "\n",
    "print(\"Number 4 in list?\", 4 in list_l)\n",
    "print(\"Number 10 in list?\", 10 in list_l)\n",
    "\n",
    "print(\"String contains s!\", \"s\" in string_s)\n",
    "print(\"String contains x!\", \"x\" in string_s)\n",
    "\n",
    "print(\"The range contains the number 26:\", 26 in range_100)\n",
    "print(\"The range contains the number 27:\", 27 in range_100)\n",
    "\n",
    "print(\"Those str\" + \"ings were concatenated\")"
   ]
  },
  {
   "cell_type": "code",
   "execution_count": null,
   "metadata": {},
   "outputs": [],
   "source": []
  }
 ],
 "metadata": {
  "file_extension": ".py",
  "interpreter": {
   "hash": "ac59ebe37160ed0dfa835113d9b8498d9f09ceb179beaac4002f036b9467c963"
  },
  "kernelspec": {
   "display_name": "Python 3.9.7 64-bit",
   "name": "python3"
  },
  "language_info": {
   "codemirror_mode": {
    "name": "ipython",
    "version": 3
   },
   "file_extension": ".py",
   "mimetype": "text/x-python",
   "name": "python",
   "nbconvert_exporter": "python",
   "pygments_lexer": "ipython3",
   "version": "3.9.7"
  },
  "mimetype": "text/x-python",
  "name": "python",
  "npconvert_exporter": "python",
  "pygments_lexer": "ipython3",
  "version": 3
 },
 "nbformat": 4,
 "nbformat_minor": 2
}
