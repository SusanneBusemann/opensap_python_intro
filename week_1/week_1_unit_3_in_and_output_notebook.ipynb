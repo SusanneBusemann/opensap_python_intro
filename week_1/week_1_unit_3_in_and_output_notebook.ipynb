{
 "cells": [
  {
   "cell_type": "markdown",
   "source": [
    "# Inputs and outputs\r\n",
    "## Prerequisites\r\n",
    "This unit assumes that you know the following content: Variables.\r\n",
    "## Outputs\r\n",
    "When a cell of a Jupyter notebook is executed, only the result of the last statement is printed on the screen.\r\n",
    "However, if the last statement does not have a representable result (such as assigning a value to a variable), there will be no output.\r\n",
    "Using the Python function `print()`, it is possible to print to generate output at any point in a Python program."
   ],
   "metadata": {}
  },
  {
   "cell_type": "code",
   "execution_count": null,
   "source": [
    "print(\"Hello\")\r\n",
    "print(42)\r\n",
    "\r\n",
    "name = \"Joey\"\r\n",
    "print(name)"
   ],
   "outputs": [],
   "metadata": {}
  },
  {
   "cell_type": "markdown",
   "source": [
    "Desired output is passed to the `print()` function as a parameter. Multiple arguments are also possible as an input.\r\n",
    "These must be separated by a comma (`,`)."
   ],
   "metadata": {}
  },
  {
   "cell_type": "code",
   "execution_count": null,
   "source": [
    "name = \"Joey\"\r\n",
    "lastname = \"Ramone\"\r\n",
    "\r\n",
    "print(name, lastname)"
   ],
   "outputs": [],
   "metadata": {}
  },
  {
   "cell_type": "markdown",
   "source": [
    " ## Inputs\r\n",
    " Remember the exercise to calculate the surface area and volume of a cuboid?\r\n",
    " Calculating the values for a new cuboid has been quite tedious so far.\r\n",
    " \r\n",
    " Each time you need to:\r\n",
    " - Go to the cell of the notebook and change the Python program\r\n",
    " - Execute the cell again"
   ],
   "metadata": {}
  },
  {
   "cell_type": "markdown",
   "source": [
    "It would be simpler if the program asked for the data to be processed as *input*. The Python program should be independent of the edge lengths of a concrete box.\r\n",
    "This is the classic structure of a program according to the IPO principle: input → processing → output\r\n",
    "### The input() function\r\n",
    "\r\n",
    "The `input()` function can be used to read input from the user. A typical call of the function `input()` is:\r\n",
    "\r\n",
    " ```python\r\n",
    " i = input(\"Please enter a number:\")\r\n",
    " print(i)\r\n",
    " ```"
   ],
   "metadata": {}
  },
  {
   "cell_type": "code",
   "execution_count": 1,
   "source": [
    "i = input(\"Please insert a number: \")\r\n",
    "print(i)"
   ],
   "outputs": [
    {
     "output_type": "stream",
     "name": "stdout",
     "text": [
      "Please insert a number: 1\n",
      "1\n"
     ]
    }
   ],
   "metadata": {}
  },
  {
   "cell_type": "markdown",
   "source": [
    "The function `input()` first outputs the given parameter *(\"Please ...\")*.\r\n",
    "After that, the function waits for an input from the user. The user enters a value and finishes the input with the return key (Enter key). The entered value is assigned to the variable *i*."
   ],
   "metadata": {}
  },
  {
   "cell_type": "markdown",
   "source": [
    "  ## Exercise:\n",
    "  Write a program that uses `input()` to retrieve values for first name, last name, and email address. Output the entered values afterwards."
   ],
   "metadata": {}
  },
  {
   "cell_type": "code",
   "execution_count": null,
   "source": [],
   "outputs": [],
   "metadata": {}
  }
 ],
 "metadata": {
  "file_extension": ".py",
  "kernelspec": {
   "display_name": "Python 3",
   "language": "python",
   "name": "python3"
  },
  "language_info": {
   "codemirror_mode": {
    "name": "ipython",
    "version": 3
   },
   "file_extension": ".py",
   "mimetype": "text/x-python",
   "name": "python",
   "nbconvert_exporter": "python",
   "pygments_lexer": "ipython3",
   "version": "3.8.8"
  },
  "mimetype": "text/x-python",
  "name": "python",
  "npconvert_exporter": "python",
  "pygments_lexer": "ipython3",
  "version": 3
 },
 "nbformat": 4,
 "nbformat_minor": 2
}