{
 "cells": [
  {
   "cell_type": "markdown",
   "source": [
    "## Multiple conditions\r\n",
    "It is also possible to check several conditions one after the other. The syntax for this is:\r\n",
    "\r\n",
    "```python\r\n",
    "if condition_1:\r\n",
    "    instruction_1\r\n",
    "elif condition_2:\r\n",
    "    instruction_2\r\n",
    "elif condition_3:\r\n",
    "    instruction_3\r\n",
    "else:\r\n",
    "    instruction_4\r\n",
    "instruction_5\r\n",
    "```\r\n",
    "\r\n",
    "In this case, the conditions are checked in order. For the first true condition the corresponding code block (the indented instructions) is executed. The code block after the `else` is executed only if no condition before was true. Once a code block has been executed, no further conditions are checked. The order of the of the conditions can be crucial. This is illustrated in the following examples."
   ],
   "metadata": {}
  },
  {
   "cell_type": "code",
   "execution_count": null,
   "source": [
    "temperature = int(input(\"How many degrees (Celsius) is it? \"))\r\n",
    "\r\n",
    "if temperature > 30:\r\n",
    "    print(\"hot\")\r\n",
    "elif temperature > 20:\r\n",
    "    print(\"warm\")\r\n",
    "else:\r\n",
    "    print(\"cold\")"
   ],
   "outputs": [],
   "metadata": {}
  },
  {
   "cell_type": "code",
   "execution_count": null,
   "source": [
    "temperature = int(input(\"How many degrees (Celsius) is it? \"))\r\n",
    "\r\n",
    "if temperature > 20:\r\n",
    "    print(\"warm\")\r\n",
    "elif temperature > 30:\r\n",
    "    print(\"hot\")\r\n",
    "else:\r\n",
    "    print(\"cold\")"
   ],
   "outputs": [],
   "metadata": {}
  },
  {
   "cell_type": "markdown",
   "source": [
    "## Complex conditions\n",
    "As shown in the introduction to primitive data types, the operators `and`, `or` and `not` can be used to create\n",
    "can be used to create complex expressions. These operators can thus be used to\n",
    "formulate complex conditions consisting of various comparisons. Also here\n",
    "parentheses can be used for grouping."
   ],
   "metadata": {}
  },
  {
   "cell_type": "code",
   "execution_count": null,
   "source": [
    "number = int(input(\"Please insert a number: \"))\r\n",
    "if (number % 3 == 0) and (number % 5 == 0) and not(number % 2 == 0):\r\n",
    "    print(number, \"can be divided by 3 and 5.\")"
   ],
   "outputs": [],
   "metadata": {}
  },
  {
   "cell_type": "markdown",
   "source": [
    " ## Nesting\n",
    " Conditional statements can be nested. This means that an `if` statement can itself contain one or\n",
    " several `if` statements. This is sometimes needed to check several conditions\n",
    " one after the other."
   ],
   "metadata": {}
  },
  {
   "cell_type": "code",
   "execution_count": null,
   "source": [
    "temperature = int(input(\"Please insert the current temperature: \"))\r\n",
    "rain = True\r\n",
    "wind = False\r\n",
    "\r\n",
    "if temperature > 20:\r\n",
    "    print(\"It's warm\")\r\n",
    "    if regen:\r\n",
    "        print(\"Summer in Aachen, warm rain\")\r\n",
    "        if wind:\r\n",
    "            print(\"It's warm, it rains and it's windy!\")\r\n",
    "        else:\r\n",
    "            print(\"Warm, rain, no wind at all\")\r\n",
    "    else:\r\n",
    "        print(\"Warm and dry, beautiful!\")\r\n",
    "        if wind:\r\n",
    "            print(\"Warm and dry and windy: Good weather for sailing\")\r\n",
    "        else:\r\n",
    "            print(\"Warm, dry, windstill: Simply lying in the sun\")\r\n",
    "else:\r\n",
    "    print(\"If it's cold, then I don't care about rain and wind\")"
   ],
   "outputs": [],
   "metadata": {}
  },
  {
   "cell_type": "markdown",
   "source": [
    " ## Exercise\n",
    " Examine the previous example and consider why the conditions were nested.\n",
    " Would it be possible to rewrite the program so that nesting is not necessary? Try ..."
   ],
   "metadata": {}
  },
  {
   "cell_type": "code",
   "execution_count": null,
   "source": [],
   "outputs": [],
   "metadata": {}
  },
  {
   "cell_type": "markdown",
   "source": [
    " ## Exercise\n",
    " Write a program that simulates the input at an ATM. For this the following steps are to be\n",
    " to be carried out:\n",
    " - First ask for the PIN\n",
    " - Compare the input with a constant you have chosen.\n",
    " - The following steps will be executed only if the correct PIN is entered:\n",
    "     - Ask how much money is to be withdrawn.\n",
    "     - Compare the amount with a fixed account balance.\n",
    "     - If the account is covered, issue a corresponding output (\"Money is spent\") and the new account balance.\n",
    "     - If the account is not funded, issue a corresponding error message.\n",
    " - If the PIN was entered incorrectly, issue an error message."
   ],
   "metadata": {}
  },
  {
   "cell_type": "code",
   "execution_count": null,
   "source": [],
   "outputs": [],
   "metadata": {}
  },
  {
   "cell_type": "markdown",
   "source": [
    " ## Checking input\r\n",
    " You can use `input()` to read input from the user. The data type of the input is always `string`.\r\n",
    " With the help of the functions int(), bool()etc. you can convert the data type. So far we have\r\n",
    " often used the following statement.\r\n",
    " What happens if the entered value is not convertible to a number (e.g. when entering 'twenty')?"
   ],
   "metadata": {}
  },
  {
   "cell_type": "code",
   "execution_count": null,
   "source": [
    "zahl = int(input(\"Please insert a number:\"))\r\n"
   ],
   "outputs": [],
   "metadata": {}
  },
  {
   "cell_type": "markdown",
   "source": [
    "In order to prevent the program from being aborted and the error message from being generated, it must be checked whether the input can be\n",
    " can be converted into a certain data type. For this purpose Python provides several\n",
    " [`String` methods](https://docs.python.org/3/library/stdtypes.html#string-methods) are available:\n",
    "     - isdecimal()\n",
    "     - isalpha()\n",
    "     - isspace()\n",
    " All these `.issomething()` methods return a boolean value (True or False).\n",
    " Thus they can be used to check if a string can be converted."
   ],
   "metadata": {}
  },
  {
   "cell_type": "code",
   "execution_count": null,
   "source": [
    "zahl = input(\"Geben Sie bitte eine Zahl ein \")\r\n",
    "\r\n",
    "if zahl.isdigit():\r\n",
    "    zahl = int(zahl)\r\n",
    "    print(\"Sehr schön,\", zahl, \"ist meine Lieblingszahl\")\r\n",
    "else:\r\n",
    "    print(\"Sorry, das war keine Zahl\")\r\n"
   ],
   "outputs": [],
   "metadata": {}
  },
  {
   "cell_type": "markdown",
   "source": [
    " ## Task\n",
    " As is known, a calendar year has 365 or 366 days. According to the Gregorian calendar year, a year lasts exactly 365,2425 days, i.e. 365 days, 5 hours, 49 minutes, 12 seconds, or in other words: 31,556,952 seconds. You can see that, roughly speaking, a year is therefore a quarter of a day longer than 365 days.\n",
    " To correct this difference, leap days have been inserted. Every four years a leap day is inserted with the 29th of February.\n",
    " However, we make a new small \"mistake\" with it, because now we have a hundredth day too much. For this reason, every hundred years - in fact, if the year number is divisible by a hundred - a leap day is dispensed with. For example, the year 1900 was not a leap year, although it was divisible by four.\n",
    " One needs however still every 400 years a further corrective, then a leap day is inserted, although the year number is divisible by hundred. According to this rule, the year 2000 was a leap year.\n",
    " <br>\n",
    " Now write a Python program that calculates whether a given year is a leap year or not."
   ],
   "metadata": {}
  },
  {
   "cell_type": "code",
   "execution_count": null,
   "source": [],
   "outputs": [],
   "metadata": {}
  }
 ],
 "metadata": {
  "file_extension": ".py",
  "kernelspec": {
   "name": "python3",
   "display_name": "Python 3.9.7 64-bit"
  },
  "language_info": {
   "codemirror_mode": {
    "name": "ipython",
    "version": 3
   },
   "file_extension": ".py",
   "mimetype": "text/x-python",
   "name": "python",
   "nbconvert_exporter": "python",
   "pygments_lexer": "ipython3",
   "version": "3.9.7"
  },
  "mimetype": "text/x-python",
  "name": "python",
  "npconvert_exporter": "python",
  "pygments_lexer": "ipython3",
  "version": 3,
  "interpreter": {
   "hash": "ac59ebe37160ed0dfa835113d9b8498d9f09ceb179beaac4002f036b9467c963"
  }
 },
 "nbformat": 4,
 "nbformat_minor": 2
}