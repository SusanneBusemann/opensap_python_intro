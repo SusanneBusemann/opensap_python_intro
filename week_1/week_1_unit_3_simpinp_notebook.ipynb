{
 "cells": [
  {
   "cell_type": "markdown",
   "metadata": {},
   "source": [
    "# Inputs and outputs\n",
    "## Outputs\n",
    "\n",
    "When a cell of a Jupyter notebook is executed, only the result of the last statement is printed on the screen. However,\n",
    "if the last statement does not have a representable result (such as assigning a value to a variable), there will be no\n",
    "output. Using the Python function `print()`, it is possible to generate output at any point in a Python program."
   ]
  },
  {
   "cell_type": "code",
   "execution_count": null,
   "metadata": {},
   "outputs": [],
   "source": [
    "print(\"Hello\")\n",
    "print(42)\n",
    "\n",
    "name = \"Joey\"\n",
    "print(name)"
   ]
  },
  {
   "cell_type": "markdown",
   "metadata": {},
   "source": [
    "Desired output is passed to the `print()` function as a parameter. It is also possible to provide multiple parameter to\n",
    "the `print` function. In this case the parameters must be separated by a comma (`,`)."
   ]
  },
  {
   "cell_type": "code",
   "execution_count": null,
   "metadata": {},
   "outputs": [],
   "source": [
    "name = \"Joey\"\n",
    "lastname = \"Ramone\"\n",
    "\n",
    "print(name, lastname)"
   ]
  },
  {
   "cell_type": "markdown",
   "metadata": {},
   "source": [
    " ## Inputs\n",
    " Remember the exercise to calculate the surface area and volume of a cuboid? Calculating the values for a new cuboid has\n",
    " been quite tedious so far.\n",
    " \n",
    " Each time you need to:\n",
    " - Go to the cell of the notebook and change the Python program\n",
    " - Execute the cell again"
   ]
  },
  {
   "cell_type": "markdown",
   "metadata": {},
   "source": [
    "It would be much better if the program asked for the data to be processed as *input*. The Python program should be\n",
    "independent of specific values. The specific values should be provided as input to the program. This is the classic\n",
    "structure of a program according to the IPO principle: input → processing → output\n",
    "\n",
    "### The input() function\n",
    "\n",
    "The `input()` function can be used to read input from the user. A typical call of the function `input()` is:\n",
    "\n",
    " ```python\n",
    " i = input(\"Please enter a number:\")\n",
    " print(i)\n",
    " ```"
   ]
  },
  {
   "cell_type": "code",
   "execution_count": null,
   "metadata": {},
   "outputs": [],
   "source": [
    "i = input(\"Please insert a number: \")\n",
    "print(i)"
   ]
  },
  {
   "cell_type": "markdown",
   "metadata": {},
   "source": [
    "The function `input()` first outputs the given parameter *(\"Please ...\")*. After that, the function waits for an input\n",
    "from the user. The user enters a value and finishes the input with the return key (Enter key). The entered value is\n",
    "assigned to the variable *i*."
   ]
  },
  {
   "cell_type": "markdown",
   "metadata": {},
   "source": [
    "## Exercise:\n",
    "Write a program that uses `input()` to retrieve values for first name, last name, and email address. Output the entered\n",
    "values afterwards."
   ]
  },
  {
   "cell_type": "code",
   "execution_count": null,
   "metadata": {},
   "outputs": [],
   "source": []
  }
 ],
 "metadata": {
  "file_extension": ".py",
  "interpreter": {
   "hash": "ac59ebe37160ed0dfa835113d9b8498d9f09ceb179beaac4002f036b9467c963"
  },
  "kernelspec": {
   "display_name": "Python 3.9.7 64-bit",
   "name": "python3"
  },
  "language_info": {
   "codemirror_mode": {
    "name": "ipython",
    "version": 3
   },
   "file_extension": ".py",
   "mimetype": "text/x-python",
   "name": "python",
   "nbconvert_exporter": "python",
   "pygments_lexer": "ipython3",
   "version": "3.9.7"
  },
  "mimetype": "text/x-python",
  "name": "python",
  "npconvert_exporter": "python",
  "pygments_lexer": "ipython3",
  "version": 3
 },
 "nbformat": 4,
 "nbformat_minor": 2
}
