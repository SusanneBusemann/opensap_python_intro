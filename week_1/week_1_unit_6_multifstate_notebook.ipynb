{
 "cells": [
  {
   "cell_type": "markdown",
   "metadata": {},
   "source": [
    "# Conditional instructions - part 2\n",
    "## Multiple conditions\n",
    "It is also possible to check several conditions one after the other. The syntax for this is:\n",
    "\n",
    "```python\n",
    "if condition_1:\n",
    "    instruction_1\n",
    "elif condition_2:\n",
    "    instruction_2\n",
    "elif condition_3:\n",
    "    instruction_3\n",
    "else:\n",
    "    instruction_4\n",
    "instruction_5\n",
    "```\n",
    "\n",
    "In this case, the conditions are checked in order. For the first true condition the corresponding code block (the indented instructions) is executed. The code block after the `else` is executed only if no condition before was true. Once a code block has been executed, no further conditions are checked. The order of the of the conditions can be crucial. This is illustrated in the following examples."
   ]
  },
  {
   "cell_type": "code",
   "execution_count": null,
   "metadata": {},
   "outputs": [],
   "source": [
    "temperature = int(input(\"How many degrees (Celsius) is it? \"))\n",
    "\n",
    "if temperature > 30:\n",
    "    print(\"hot\")\n",
    "elif temperature > 20:\n",
    "    print(\"warm\")\n",
    "else:\n",
    "    print(\"cold\")"
   ]
  },
  {
   "cell_type": "code",
   "execution_count": null,
   "metadata": {},
   "outputs": [],
   "source": [
    "temperature = int(input(\"How many degrees (Celsius) is it? \"))\n",
    "\n",
    "if temperature > 20:\n",
    "    print(\"warm\")\n",
    "elif temperature > 30:\n",
    "    print(\"hot\")\n",
    "else:\n",
    "    print(\"cold\")"
   ]
  },
  {
   "cell_type": "markdown",
   "metadata": {},
   "source": [
    "## Nesting\n",
    "Conditional instructions can be nested. This means that an `if` statement itself can contain one or several `if` statements. Sometimes this is needed to check several conditions one after the other."
   ]
  },
  {
   "cell_type": "code",
   "execution_count": null,
   "metadata": {},
   "outputs": [],
   "source": [
    "temperature = int(input(\"Please insert the current temperature: \"))\n",
    "rain = True\n",
    "wind = False\n",
    "\n",
    "if temperature > 20:\n",
    "    print(\"It's warm\")\n",
    "    if rain:\n",
    "        print(\"Warm & raining: summer in Aachen\")\n",
    "        if wind:\n",
    "            print(\"It's warm, it rains and it's windy!\")\n",
    "        else:\n",
    "            print(\"Warm, raining, no wind at all\")\n",
    "    else:\n",
    "        print(\"Warm and dry, beautiful!\")\n",
    "        if wind:\n",
    "            print(\"Warm, dry and windy: Good weather for sailing\")\n",
    "        else:\n",
    "            print(\"Warm, dry, windless: Just lie in the sun\")\n",
    "else:\n",
    "    print(\"If it's cold, I don't care about rain and wind\")"
   ]
  },
  {
   "cell_type": "markdown",
   "metadata": {},
   "source": [
    "## Exercise 1\n",
    "Examine the previous example and consider why the conditions were nested. Would it be possible to rewrite the program so that nesting is not necessary? Try it yourself..."
   ]
  },
  {
   "cell_type": "code",
   "execution_count": null,
   "metadata": {},
   "outputs": [],
   "source": []
  },
  {
   "cell_type": "markdown",
   "metadata": {},
   "source": [
    "## Exercise 2\n",
    "Write a program that simulates the input at an ATM. For this the following steps need to be carried out:\n",
    "- First ask for the PIN\n",
    "- Compare the input with a constant you have chosen\n",
    "- The following steps will be executed only if the correct PIN is entered:\n",
    "    - Ask how much money should be withdrawn\n",
    "    - Compare the amount with a fixed account balance\n",
    "    - If the account is covered, display a corresponding output (\"Money is issued\") and the new account balance\n",
    "    - If the account is not covered, display an appropriate error message\n",
    "- If the PIN was entered incorrectly, issue an error message"
   ]
  },
  {
   "cell_type": "code",
   "execution_count": null,
   "metadata": {},
   "outputs": [],
   "source": []
  }
 ],
 "metadata": {
  "file_extension": ".py",
  "interpreter": {
   "hash": "ac59ebe37160ed0dfa835113d9b8498d9f09ceb179beaac4002f036b9467c963"
  },
  "kernelspec": {
   "display_name": "Python 3.9.7 64-bit",
   "name": "python3"
  },
  "language_info": {
   "codemirror_mode": {
    "name": "ipython",
    "version": 3
   },
   "file_extension": ".py",
   "mimetype": "text/x-python",
   "name": "python",
   "nbconvert_exporter": "python",
   "pygments_lexer": "ipython3",
   "version": "3.9.7"
  },
  "mimetype": "text/x-python",
  "name": "python",
  "npconvert_exporter": "python",
  "pygments_lexer": "ipython3",
  "version": 3
 },
 "nbformat": 4,
 "nbformat_minor": 2
}
