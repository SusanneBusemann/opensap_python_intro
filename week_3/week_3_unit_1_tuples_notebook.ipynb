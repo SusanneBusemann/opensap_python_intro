{
 "cells": [
  {
   "cell_type": "markdown",
   "metadata": {},
   "source": [
    "# What are tuples?\n",
    "## Definition\n",
    "\n",
    "Tuples are a complex data type just like lists. While lists are mutable, tuples are not. A tuple is a complex data type\n",
    "consisting of multiple elements. A tuple is represented by **round** brackets: `()`. The individual elements of the\n",
    "tuple are separated by commas. Just like lists and simple data types, you can assign a tuple to a variable. Tuples can\n",
    "also contain tuples or lists as elements."
   ]
  },
  {
   "cell_type": "code",
   "execution_count": null,
   "metadata": {},
   "outputs": [],
   "source": [
    "address = (52066, \"Aachen\", \"Eupener Str. 70\", \"0241-6009-12345\")\n",
    "print(address)\n",
    "student = (\"Peter\", \"Meier\", 123456, \"SAP basics\", \"pm12345s@university.edu\", address)\n",
    "print(student)\n",
    "tup1 = (12312, \"absbsb\", [1, 2, 3, 4], (\"a\", \"b\", \"c\"), \"end\")\n",
    "print(tup1)"
   ]
  },
  {
   "cell_type": "markdown",
   "metadata": {},
   "source": [
    "## No alteration with tuples\n",
    "\n",
    "The big difference between a tuple and a list is: lists can be modified, tuples are immutable. That is, you cannot add an\n",
    "element to an existing tuple, you cannot delete an element of a tuple or change the value of an element. This does not\n",
    "mean that you cannot assign another tuple to a variable (see the following example), but there are **no** methods\n",
    "for tuples like `tuple.append()` or `tuple.remove()`."
   ]
  },
  {
   "cell_type": "code",
   "execution_count": null,
   "metadata": {},
   "outputs": [],
   "source": [
    "tup = (1, 2, \"a\")\n",
    "print(tup[2])\n",
    "tup[2] = \"b\""
   ]
  },
  {
   "cell_type": "code",
   "execution_count": null,
   "metadata": {},
   "outputs": [],
   "source": [
    "tup = (1, 2, 3)\n",
    "print(tup)\n",
    "tup = (\"a\", \"b\", \"c\", \"d\")\n",
    "print(tup)"
   ]
  },
  {
   "cell_type": "markdown",
   "metadata": {},
   "source": [
    "## What are tuples used for?\n",
    "\n",
    "Often one has the situation that a simple data type is not sufficient to describe a complex situation:\n",
    "- `address = (zip code, city, street, house number)`\n",
    "- `position = (x_coordinate, y_coordinate)`\n",
    "- `date = (year, month, date)`\n",
    "\n",
    "It makes no sense to add more elements to this data type or to delete a part. If a time would be added to the address,\n",
    "then it is no longer an address. In other programming languages there is the construct `struct` or `record` for this. Of\n",
    "course, you can move and assign a new value to `address`. But in Python this is a new address and not a changed address."
   ]
  },
  {
   "cell_type": "markdown",
   "metadata": {},
   "source": [
    "# Basic operations on tuples\n",
    "## Interactively create a tuple\n",
    "\n",
    "With the help of the function `input()` values can be read in successively and assembled to a tuple."
   ]
  },
  {
   "cell_type": "code",
   "execution_count": null,
   "metadata": {},
   "outputs": [],
   "source": [
    "name = input(\"Please enter name: \")\n",
    "first_name = input(\"Please enter first name: \")\n",
    "phone = input(\"Please enter phone number: \")\n",
    "age = input(\"Please enter age (integer): \")\n",
    "employee = (name, first_name, phone, age)\n",
    "\n",
    "print(employee)"
   ]
  },
  {
   "cell_type": "markdown",
   "metadata": {},
   "source": [
    "## Notations\n",
    "\n",
    "When using tuples in Python, some abbreviated notations can be used. They may look irritating the first time, but can\n",
    "come in handy (similar to `a += 1`).\n",
    "\n",
    "`student = \"Peter\", \"Parker\", 12345`\n",
    "\n",
    "is the same as\n",
    "\n",
    "`student = (\"Peter\", \"Parker\", 12345)`\n",
    "\n",
    "\n",
    "There are **not** three values assigned to the variable `student`. Instead, **one** tuple is created from the three\n",
    "values and this is assigned to the variable `student`.\n",
    "\n",
    "\n",
    "This also works the other way round - the different values of a tuple can be assigned directly to several variables:\n",
    "\n",
    "`name, first_name, matriculation_number = student`\n",
    "\n",
    "seems strange, especially since it has been emphasized that there may only be **one** variable on the left side of an\n",
    "assignment so far. In fact, this is also a shortened notation in which the individual values of the tuple are\n",
    "successively assigned to the variables on the left side. If the number of variables **does not** match the number of\n",
    "elements of the tuple, there will be an error message."
   ]
  },
  {
   "cell_type": "code",
   "execution_count": null,
   "metadata": {},
   "outputs": [],
   "source": [
    "student = \"Peter\", \"Parker\", 12345\n",
    "print(student)\n",
    "first_name, name, matriculation_number = student\n",
    "print(first_name)"
   ]
  },
  {
   "cell_type": "markdown",
   "metadata": {},
   "source": [
    "## Slicing operators and other methods\n",
    "\n",
    "The slicing operator already known from lists also work with tuples to create a subset. There are also some more methods that\n",
    "can be applied to tuples.\n",
    "\n",
    "\n",
    "### Subrange operator\n",
    "\n",
    "Just as with lists, indices can be used to access not only a single element of the tuple but also an entire range.\n",
    "For example:\n",
    "- ```address[1:3]``` corresponds to (\"Aachen, \"Eupener Str. 70\"). The first index still belongs to the subrange, the\n",
    "  second index just does not.\n",
    "- ```address[:2]``` corresponds to (52066, \"Aachen\")\n",
    "- ```address[:3]``` corresponds to (\"Eupener Str. 70\", \"0241-6009-12345\")\n",
    "- ```address[:]``` corresponds to the entire tuple\n",
    "\n",
    "### Functions and methods for tuples\n",
    "The ```len()``` function works in the same way as for lists. It returns the number of elements in a tuple. The\n",
    "```.count(value)``` method returns the number of elements with the value *value*. The ```.index(value)``` method returns\n",
    "the index of the first element that has the value *value*. If *value* does not exist in the tuple, there will be an\n",
    "error message."
   ]
  },
  {
   "cell_type": "code",
   "execution_count": null,
   "metadata": {},
   "outputs": [],
   "source": [
    "zahlen = (1, 2, \"drei\", \"four\", \"V\", 6)\n",
    "print(zahlen[2:4])\n",
    "print(len(zahlen))\n",
    "print(zahlen.count(1))\n",
    "print(zahlen.index(\"V\"))"
   ]
  },
  {
   "cell_type": "markdown",
   "metadata": {},
   "source": [
    "## One tuple, many tuples, lists of tuples.\n",
    "Suppose that not only one student is to be processed, but many students. Each student is represented by a tuple. How do you deal with many students now? One combines the properties of lists and tuples! Each student is a tuple, the individual students (i.e. the individual tuples) are added to a list one after the other."
   ]
  },
  {
   "cell_type": "code",
   "execution_count": null,
   "metadata": {},
   "outputs": [],
   "source": [
    "student1 = (\"Peter\", \"Meier\", 123456, \"BWL\", \"pm12345s@university.edu\")\n",
    "student2 = (\"Maria\", \"Schulze\", 234566, \"Mathematics\", \"ms23456@hs-hier.de\")\n",
    "list_of_students = [student1, student2]\n",
    "print(list_of_students)"
   ]
  },
  {
   "cell_type": "markdown",
   "metadata": {},
   "source": [
    "## Lists of tuples - a frequently used pattern\n",
    "The combination of lists and tuples is often used in computer science. The two constructs are used as follows:\n",
    "- Tuples: a tuple is used to describe similar objects. The objects always consist of the same attributes, but they can have different values. Example: Students (in the above example) always have a name, a first name, a matriculation number, a study subject and an e-mail. Of course, the names and matriculation numbers are different. But the structure of a student (in this program) is always identical.\n",
    "- Lists: Lists are used to group together elements that are always the same. It is deliberately avoided to create a list of different data types. Instead, a list contains e.g. only students, which (see above) are always structured in the same way.\n",
    "\n",
    "This pattern is used e.g. when editing (relational) databases. Each record has the same structure, a relation consists of identically structured records. How many records there are in a relation is unknown. Every single record can be converted into a tuple with the same structure over and over again. The single tuples can be hung in a list. Since the list is modifiable, individual tuples can be deleted, the order changed, or additional tuples added."
   ]
  },
  {
   "cell_type": "markdown",
   "metadata": {},
   "source": [
    "## Working with lists of tuples\n",
    "Since the above structure - lists of (similar) tuples - is frequently used, there are corresponding programming patterns that appear again and again.\n",
    "### Creating a list of tuples using a loop\n",
    "First, an empty list is created, in which the tuples are then appended one by one (```list.append()```). Ideally, the list has a \"speaking\" name, so that you know what it is about.\n",
    "```list_of_students = []```.\n",
    "With the help of a loop you iterate a certain (or previously undetermined) number of repetitions. Within this repetition - that is, within the loop body - a tuple is created and eventually appended to the list.\n",
    "\n",
    "```Python\n",
    "for i in range(10):\n",
    "   name = input(\"Please enter name: \")\n",
    "   ...\n",
    "   matriculation number = input(\"Please enter matriculation number: \")\n",
    "   student = (name, ..., matriculation number)\n",
    "   list_of_students.append(student)```"
   ]
  },
  {
   "cell_type": "code",
   "execution_count": null,
   "metadata": {},
   "outputs": [],
   "source": [
    "# Create empty list\n",
    "list_of_students = []\n",
    "\n",
    "# loop in which tuples are created\n",
    "for i in range(5):\n",
    "    name = input(\"Please enter name: \")\n",
    "    firstname = input(\"Please enter firstname: \")\n",
    "    subject = input(\"Please enter subject: \")\n",
    "    matriculation number = int(input(\"Please enter matriculation number (integer): \"))\n",
    "# Create a tuple from the single elements\n",
    "    student = (name, first name, subject, matriculation number)\n",
    "# Append tuple to the list\n",
    "    list_of_students.append(student)\n",
    "\n",
    "print(list_of_students)"
   ]
  },
  {
   "cell_type": "markdown",
   "metadata": {},
   "source": [
    "### Edit list of tuples\n",
    "If a list of tuples already exists, then you can iterate over this list with a loop. Since you as a developer know how the individual elements are structured, you can exploit this knowledge. In the following example, this fact is exploited in the loop body. If each element of the list had a different type, the program would crash."
   ]
  },
  {
   "cell_type": "code",
   "execution_count": null,
   "metadata": {},
   "outputs": [],
   "source": [
    "# The above list of students is accessed\n",
    "for student in list_of_students:\n",
    "    name, first name, subject, matriculation number = student\n",
    "    print(\"The student\", first name, name, \"with the number\", matriculation number, \"studies\", subject, \".\")"
   ]
  },
  {
   "cell_type": "markdown",
   "metadata": {},
   "source": [
    "## Conversion of tuples\n",
    "There are functions, like ```int()```, to convert the data type of e.g. a string to an integer. A similar conversion works between lists and tuples. ```list()``` converts the input into a list, ```tuple()``` has a tuple as return value."
   ]
  },
  {
   "cell_type": "code",
   "execution_count": null,
   "metadata": {},
   "outputs": [],
   "source": [
    "l = [1, 2, \"a\", 2.3]\n",
    "t = tuple(l)\n",
    "print(t)\n",
    "l = list(t)\n",
    "print(l)"
   ]
  },
  {
   "cell_type": "markdown",
   "metadata": {},
   "source": [
    "## Modification of tuples\n",
    "Although tuples are immutable, you can change tuples using the above functions. More precisely: a tuple is changed into a list, the list is changed (for example, a value is added), the list is changed back into a tuple and assigned to the old variable. Strictly speaking, of course, the tuple was not changed. The variable has been assigned a new tuple."
   ]
  },
  {
   "cell_type": "code",
   "execution_count": null,
   "metadata": {},
   "outputs": [],
   "source": [
    "student = (\"Peter\", \"Müller\", 123456, \"BWL\")\n",
    "# Student wechselt von BWL in die Informatik\n",
    "student = list(student)\n",
    "student[3] = \"Informatik\"\n",
    "student = tuple(student)\n",
    "print(student)"
   ]
  },
  {
   "cell_type": "markdown",
   "metadata": {},
   "source": [
    "# Using an index with tuples\n",
    "\n",
    "Just like lists, tuples have an index. It is represented with **square** brackets just like lists. And as usual in\n",
    "programming, the index starts at 0. The same negative indices can be used as for lists. **Important:** Even if the\n",
    "individual elements of a tuple are addressed with square brackets, it is still a tuple and not a list."
   ]
  },
  {
   "cell_type": "code",
   "execution_count": null,
   "metadata": {},
   "outputs": [],
   "source": [
    "address = (52066, \"Aachen\", \"Eupener Str. 70\", \"0241-6009-12345\")\n",
    "student = (\"Peter\", \"Meier\", 123456, \"BWL\", \"pm12345s@university.edu\", address)\n",
    "print(address[0])\n",
    "print(student[1])\n",
    "print(student[5])\n",
    "print(student[5][2])\n",
    "print(student[-1])\n",
    "print(address[-3])\n",
    "print(address[2])"
   ]
  },
  {
   "cell_type": "markdown",
   "metadata": {},
   "source": [
    "## Once again: Tuples are immutable.\n",
    "If you want to change a single element of a tuple via using the index, there will be an error message."
   ]
  },
  {
   "cell_type": "code",
   "execution_count": null,
   "metadata": {},
   "outputs": [],
   "source": [
    "adresse = (52066, \"Aachen\", \"Eupener Str. 70\", \"0241-6009-12345\")\n",
    "adresse[2] = \"Goethestraße 1\""
   ]
  },
  {
   "cell_type": "markdown",
   "metadata": {},
   "source": [
    "# Tasks\n",
    "## Task 1: Create a tuple\n",
    "Create a tuple for a module in your study program. The module consists of the module number, module name, lecturer and semester. Read in the values via `input()`, merge the values into a tuple and output it via `print()`."
   ]
  },
  {
   "cell_type": "code",
   "execution_count": null,
   "metadata": {},
   "outputs": [],
   "source": []
  },
  {
   "cell_type": "markdown",
   "metadata": {},
   "source": [
    "### Task 2: Modify tuples\n",
    "Of course you can't. Tuples are immutable. But as seen above, you can \"trick\" at this point. Create a tuple for a lecturer \"Müller\". The lecturer gets married and changes the name from \"Müller\" to \"Meier\". Adjust the tuple accordingly and output it via `print()`."
   ]
  },
  {
   "cell_type": "code",
   "execution_count": null,
   "metadata": {},
   "outputs": [],
   "source": []
  },
  {
   "cell_type": "markdown",
   "metadata": {},
   "source": [
    "### Task 3: Reading tuples from a file\n",
    "The \"Module.txt\" file (in the same folder as this notebook) contains several modules. Each module is in one line, and the lines are structured as follows: Module number; Module name; Lecturer; Semester.\n",
    "Between each value there is a semicolon as separator.\n",
    "\n",
    "Read the file and create a list of tuples, each containing a module. Print the list using `print()`.\n",
    "\n",
    "Note: Use the following `string` methods:\n",
    "- `split()`, with the help of this method a string is split. The character that separates the parts to be split is passed as argument. In our example the semicolon. The return value is a list of strings. (If no separator is passed as argument, the space character is the separator).\n",
    "- `strip()`: Removes leading and trailing spaces, line breaks, TABs, ...\n",
    "\n"
   ]
  },
  {
   "cell_type": "code",
   "execution_count": null,
   "metadata": {},
   "outputs": [],
   "source": []
  },
  {
   "cell_type": "markdown",
   "metadata": {},
   "source": [
    "### Task 4: Adding to the list of modules\n",
    "After the list is read, the list is to be supplemented and written back to the file. Create a loop in which more modules are created and added to the module list. If an empty input is made, the loop terminates. The list is written back to the file."
   ]
  },
  {
   "cell_type": "code",
   "execution_count": null,
   "metadata": {},
   "outputs": [],
   "source": []
  },
  {
   "cell_type": "code",
   "execution_count": null,
   "metadata": {},
   "outputs": [],
   "source": []
  }
 ],
 "metadata": {
  "interpreter": {
   "hash": "ac59ebe37160ed0dfa835113d9b8498d9f09ceb179beaac4002f036b9467c963"
  },
  "kernelspec": {
   "display_name": "Python 3.9.7 64-bit",
   "name": "python3"
  },
  "language_info": {
   "codemirror_mode": {
    "name": "ipython",
    "version": 3
   },
   "file_extension": ".py",
   "mimetype": "text/x-python",
   "name": "python",
   "nbconvert_exporter": "python",
   "pygments_lexer": "ipython3",
   "version": "3.9.7"
  }
 },
 "nbformat": 4,
 "nbformat_minor": 2
}
