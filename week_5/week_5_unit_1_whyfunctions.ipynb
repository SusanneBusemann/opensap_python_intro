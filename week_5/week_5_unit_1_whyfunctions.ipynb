{
 "cells": [
  {
   "cell_type": "markdown",
   "metadata": {},
   "source": [
    "# Why are functions necessary?\n",
    "\n",
    "## Motivation\n",
    "\n",
    "One of the basic concepts of mathematics is that of a functions. A function $ f $ assigns to each element $ x $ of\n",
    "a set $ D $ one element $ y $ of a set $ D $. The following examples show some well known functions.\n",
    "\n",
    "Examples:\n",
    "\n",
    "* $ f (x) = x ^ 2 \\text{ for } x \\in \\mathbb{N} $\n",
    "* $ s (x, y) = x + y $ for $ x \\in \\mathbb{R} $\n",
    "\n",
    "A function is therefore clearly defined by its parameters and the associated mapping rule(s).\n",
    "\n",
    "## Functions in programming\n",
    "\n",
    "A function in programming is structured similarly to a function in mathematics. A function in programming\n",
    "usually consists of a *name*, a series of *parameters* and a set of instructions. The main goal of functions \n",
    "in programming is to structure programs, make programs more readable and enable reuse. \n",
    "\n",
    "As an example consider the following small program"
   ]
  },
  {
   "cell_type": "code",
   "execution_count": null,
   "metadata": {},
   "outputs": [],
   "source": [
    "temperatures = [10, 15, 14, 32, 20]\n",
    "converted_temperatures = []\n",
    "\n",
    "for temperature in temperatures:\n",
    "    converted = (temperature * 9 / 5) + 32\n",
    "    converted_temperatures.append(converted)\n",
    "\n",
    "print(converted_temperatures)"
   ]
  },
  {
   "cell_type": "markdown",
   "metadata": {},
   "source": [
    "One problem of this program is, that it is not clear what the conversion in line 5 does.\n",
    "The program contains just a formula.\n",
    "Using functions it is possible to make this program more readable. Consider the following version of the same program.  "
   ]
  },
  {
   "cell_type": "code",
   "execution_count": null,
   "metadata": {},
   "outputs": [],
   "source": [
    "def convert_celsius_to_fahrenheit(temperature_in_c):\n",
    "    temperature_in_f = (temperature_in_c * 9 / 5) + 32\n",
    "    return temperature_in_f\n",
    "\n",
    "\n",
    "temperatures = [10, 15, 14, 32, 20]\n",
    "converted_temperatures = []\n",
    "\n",
    "for temperature in temperatures:\n",
    "    converted = convert_celsius_to_fahrenheit(temperature)\n",
    "    converted_temperatures.append(converted)\n",
    "\n",
    "print(converted_temperatures)"
   ]
  }
 ],
 "metadata": {
  "interpreter": {
   "hash": "9fd0e282e2343d8b38b390b803aabc7fcea80a18eee8e5bd23ce64f6435b30a1"
  },
  "kernelspec": {
   "display_name": "Python 3.9.7 64-bit ('opensap_python_intro-SgMpohZV': pipenv)",
   "name": "python3"
  },
  "language_info": {
   "codemirror_mode": {
    "name": "ipython",
    "version": 3
   },
   "file_extension": ".py",
   "mimetype": "text/x-python",
   "name": "python",
   "nbconvert_exporter": "python",
   "pygments_lexer": "ipython3",
   "version": "3.9.7"
  }
 },
 "nbformat": 4,
 "nbformat_minor": 2
}
