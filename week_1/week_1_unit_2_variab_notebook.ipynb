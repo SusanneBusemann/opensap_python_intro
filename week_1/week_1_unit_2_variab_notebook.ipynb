{
 "cells": [
  {
   "cell_type": "markdown",
   "id": "d32a079c",
   "metadata": {},
   "source": [
    "# Using Instructions and Variables\n",
    "\n",
    "## Instructions\n",
    "\n",
    "All Python programs consist of a series of instructions. These instructions describe what steps the Python interpreter\n",
    "takes when executing a Python program. An example of an instruction is the multiplication of two numbers. Multiplication\n",
    "is represented in Python by the character `*`.\n",
    "\n",
    "A computer program typically consists of many instructions. These are executed one after the other from top to bottom.\n",
    "(The execution sequence can be changed e.g. by conditions, which will be discussed later this week.)\n",
    "\n",
    "In code cells of Jupyter Notebooks, the result of the execution of the last instruction is the output below this cell."
   ]
  },
  {
   "cell_type": "code",
   "execution_count": 1,
   "id": "987b2f1c",
   "metadata": {},
   "outputs": [
    {
     "data": {
      "text/plain": [
       "40"
      ]
     },
     "execution_count": 1,
     "metadata": {},
     "output_type": "execute_result"
    }
   ],
   "source": [
    "5*8"
   ]
  },
  {
   "cell_type": "markdown",
   "id": "ddf904b1",
   "metadata": {},
   "source": [
    "The `*` is called an operator in Python. The following table contains a list of frequently used arithmetic operators.\n",
    "\n",
    "|  Description        | Operator | Example     | Result   |\n",
    "|----------------------|----------|--------------|------------|\n",
    "| Addition             | +        | 2 + 3        | 5          |\n",
    "| Subtraction          | -        | 2 - 3        | -1         |\n",
    "| Multiplication       | *        | 2 * 3        | 6          |\n",
    "| Division             | /        | 7 / 3        | 2.3333333333333335 |\n",
    "| Integer Division    | //       | 7 // 3       | 2          |\n",
    "| Modulo               | %        | 7 % 3        | 1          |\n",
    "| Exponentiation       | **       | 2 ** 0.5     | 1.4142135623730951 |\n",
    "\n",
    "Python uses the operators precedence known from math. Multiplication and division are performed before addition and\n",
    "subtraction. Parenthesis can be used to influence the order of execution.\n",
    " \n",
    "Additionally, a brief explanation of integer division and modulo: In primary school, you first learned about integer\n",
    "division. If you divide 7 by 3 (and do not yet know any decimal numbers), the result is 2 with a remainder of 1. Integer\n",
    "division and modulo lead to exactly these results. The integer division of `7 // 3` results in `2`. The result of the\n",
    "modulo operation `7 % 3` is `1`, the remainder of the division. Especially the modulo operation is **frequently** used\n",
    "in programming!"
   ]
  },
  {
   "cell_type": "code",
   "execution_count": null,
   "id": "20181d23",
   "metadata": {},
   "outputs": [],
   "source": [
    "1 + 2 * 3 * 4 * 5 - 6 / 7 % 8 ** 9 * 100"
   ]
  },
  {
   "cell_type": "code",
   "execution_count": null,
   "id": "c9cca149",
   "metadata": {},
   "outputs": [],
   "source": [
    "1 + 2 * (3 * 4 * 5 - 6) / (7 % 8) ** 9"
   ]
  },
  {
   "cell_type": "markdown",
   "id": "1df0121f",
   "metadata": {},
   "source": [
    "## Variables\n",
    "\n",
    "Variables exist in (almost) every programming language. However, the term has a different meaning in programming than in\n",
    "mathematics. In programming, a variable is a name to which a value can be assigned. From a (overly simplistic) technical\n",
    "point of view, a variable is space in the memory that has a certain value at a point in time.\n",
    "\n",
    "The value of a variable can be set using the assignment operator `=`. In subsequent instructions, the name of the\n",
    "variable is then replaced by the stored value.\n",
    "\n",
    "Note: In mathematics, `a = 2` is an *assertion*, which is either true or false. In programming, `a = 2` is an\n",
    "instruction, which describes the assignment of the value `2` to the variable `a`."
   ]
  },
  {
   "cell_type": "code",
   "execution_count": null,
   "id": "a249df21",
   "metadata": {},
   "outputs": [],
   "source": [
    "a = 2\n",
    "b = 3\n",
    "a * b"
   ]
  },
  {
   "cell_type": "markdown",
   "id": "b7f10cfa",
   "metadata": {},
   "source": [
    "### Several assignments in a sequence\n",
    "\n",
    "The value of a variable can also be changed by an assignment, if assignments take place one after the other. In the\n",
    "example below, there is the variable `a`. First, the value `2` is assigned to `a`, then the value `3` is assigned. This\n",
    "second assignment deletes the `2`, the memory is just occupied with the new value `3`. The `2` is forgotten."
   ]
  },
  {
   "cell_type": "code",
   "execution_count": null,
   "id": "771e3975",
   "metadata": {},
   "outputs": [],
   "source": [
    "a = 2\n",
    "a = 3\n",
    "a"
   ]
  },
  {
   "cell_type": "markdown",
   "id": "6d3ae3bb",
   "metadata": {},
   "source": [
    "### Assigning multiple values to multiple variables\n",
    "Of course, it is possible to have more than one variable in a Python programme. You can assign values to those variables\n",
    "as you have already seen. "
   ]
  },
  {
   "cell_type": "code",
   "execution_count": null,
   "id": "965b2ff6",
   "metadata": {},
   "outputs": [],
   "source": [
    "a = 1\n",
    "b = 2\n",
    "c = 3\n",
    "\n",
    "b"
   ]
  },
  {
   "cell_type": "markdown",
   "id": "acdc615d",
   "metadata": {},
   "source": [
    "### A variable on both sides of the assignment\n",
    "\n",
    "Assignments can look strange (or even wrong) through the eyes of mathematics. This is the case, for example, when a\n",
    "variable is on both sides of the assignment. In the example below, the variable `a` is increased by `10`. To be more\n",
    "precise: First, the value of the variable `a` is read, the `10` is added, and the result is written back into the memory\n",
    "location named `a` at the end. This happens to be the same memory location as before."
   ]
  },
  {
   "cell_type": "code",
   "execution_count": null,
   "id": "5ee1aa37",
   "metadata": {},
   "outputs": [],
   "source": [
    "a = 25\n",
    "a = a + 10\n",
    "a"
   ]
  },
  {
   "cell_type": "markdown",
   "id": "215ffb42",
   "metadata": {},
   "source": [
    "### Accessing a variable in read mode\n",
    "\n",
    "In the examples above you have seen, that variables can be on the right side of the `=`. These variables are accessed in\n",
    "*read mode*. The value is written into the variables on the left side. This variable is accessed in *write mode*. A\n",
    "variable can only be accessed in read mode if a value has been assigned to the variable beforehand. Otherwise there is\n",
    "an error message. Execute the next cell and try to understand the error message."
   ]
  },
  {
   "cell_type": "code",
   "execution_count": null,
   "id": "66f14805",
   "metadata": {},
   "outputs": [],
   "source": [
    "a = unknown_variable"
   ]
  },
  {
   "cell_type": "markdown",
   "id": "0a858358",
   "metadata": {},
   "source": [
    "### Small Excursion: Cells in notebooks are connected to each other\n",
    "\n",
    "When a cell in a notebook has been successfully executed, the results are also known in other cells of the notebook.\n",
    "\n",
    "- First execute the first of the following two cells. An error message will appear.\n",
    "- Then execute the second cell and then the first cell again. This time everything should work.\n",
    "- If you want to repeat the whole process, you must reset the output of all cells in the \"Kernel\" menu at the top. Then\n",
    "  the variables will *forget* their current values."
   ]
  },
  {
   "cell_type": "code",
   "execution_count": null,
   "id": "c4ae92d5",
   "metadata": {},
   "outputs": [],
   "source": [
    "a = new_variable + 10\n",
    "a"
   ]
  },
  {
   "cell_type": "code",
   "execution_count": null,
   "id": "204053de",
   "metadata": {},
   "outputs": [],
   "source": [
    "new_variable = 20"
   ]
  },
  {
   "cell_type": "markdown",
   "id": "69cf2ceb",
   "metadata": {},
   "source": [
    "### Sequentialisation of assignments\n",
    "\n",
    "Sometimes it happens that several operations are applied to one variable. These can also be sequentialised with the help\n",
    "of the construct above. This sometimes helps to make a programme better readable. For example,\n",
    "the assignment a = 5 * 3 * 7 + (2 - 10 * 3) can be written as follows:\n",
    "(When sequentialising, one must be careful not to violate any bracket rule or the like)."
   ]
  },
  {
   "cell_type": "code",
   "execution_count": null,
   "id": "c9642116",
   "metadata": {},
   "outputs": [],
   "source": [
    "a = 5\n",
    "a = a * 3\n",
    "a = a * 7\n",
    "a = a + (2 - 10 * 3)\n",
    "a"
   ]
  },
  {
   "cell_type": "markdown",
   "id": "2beb236d",
   "metadata": {},
   "source": [
    "### Only one variable on the left side of an assignment\n",
    "\n",
    "On the right-hand side of an assignment, there can be complex expressions which themselves contain variables (e.g. a = b\n",
    "** 2 + c ** 2). On the left side, on the other hand, there can only be the one variable. If you execute the following\n",
    "construct, an error message will occur."
   ]
  },
  {
   "cell_type": "code",
   "execution_count": null,
   "id": "d37fa244",
   "metadata": {},
   "outputs": [],
   "source": [
    "b = 3\n",
    "c = 4\n",
    "\n",
    "a ** 2 = b ** 2 + c ** 2\n",
    "a"
   ]
  },
  {
   "cell_type": "markdown",
   "id": "b5a21543",
   "metadata": {},
   "source": [
    "You have certainly recognised Pythagoras' theorem in the cell above. But how do you then obtain the length of a if b and\n",
    "c are given? The calculation can be done in two steps as follows."
   ]
  },
  {
   "cell_type": "code",
   "execution_count": null,
   "id": "e7a9af24",
   "metadata": {},
   "outputs": [],
   "source": [
    "b = 3\n",
    "c = 4\n",
    "\n",
    "a = b ** 2 + c ** 2\n",
    "a = a ** 0.5\n",
    "a"
   ]
  },
  {
   "cell_type": "markdown",
   "id": "3670e710",
   "metadata": {},
   "source": [
    "### Variable names\n",
    "\n",
    "There are a number of rules for variable names in Python. A variable name must always begin with a letter or an\n",
    "underscore `_`. This can be followed by any number of letters, digits and underscores.\n",
    "\n",
    "Variable names may not contain special characters or spaces. Thus, for example, the following variable names are valid:"
   ]
  },
  {
   "cell_type": "code",
   "execution_count": null,
   "id": "1c1dc50a",
   "metadata": {},
   "outputs": [],
   "source": [
    "name = \"David\"\n",
    "surname = \"Bowie\"\n",
    "account_balance = -2000\n",
    "_new_balance = 1000"
   ]
  },
  {
   "cell_type": "markdown",
   "id": "425d8b66",
   "metadata": {},
   "source": [
    "In contrast, the following variable names are invalid. Execute the cell and check the error message."
   ]
  },
  {
   "cell_type": "code",
   "execution_count": null,
   "id": "88659726",
   "metadata": {},
   "outputs": [],
   "source": [
    "1_konto = 1234\n",
    "email@fh = 'jacobs@fh-aachen.de'"
   ]
  },
  {
   "cell_type": "markdown",
   "id": "cf4f4abf",
   "metadata": {},
   "source": [
    "In Python, variable names are case sensitive. This means that in a Python program, `name` and `Name` represent different\n",
    "variables. This is illustrated in the following example."
   ]
  },
  {
   "cell_type": "code",
   "execution_count": null,
   "id": "09f3ef52",
   "metadata": {},
   "outputs": [],
   "source": [
    "name = \"Joey\"\n",
    "Name = \"Ramone\"\n",
    "\n",
    "name + \" \" + Name"
   ]
  },
  {
   "cell_type": "markdown",
   "id": "24a66835",
   "metadata": {},
   "source": [
    "Finally, there are a number of *reserved keywords* in Python that must not be used as variable names. These keywords\n",
    "have a special meaning in Python, which you will learn about in the course of the lecture. Example of reserved keywords\n",
    "are `and`, `while` or `if`. Execute the following cell and have a look at the error message."
   ]
  },
  {
   "cell_type": "code",
   "execution_count": null,
   "id": "440854bf",
   "metadata": {},
   "outputs": [],
   "source": [
    "if = 42"
   ]
  },
  {
   "cell_type": "markdown",
   "id": "969a76c0",
   "metadata": {},
   "source": [
    "### Conventions for Variable Names\n",
    "\n",
    "In the Python community, lower case is preferred for variable names. Thus,  `name` is used instead of `Name`. Variable\n",
    "names that consist of several words are separated by an underscore `_`, e.g. `account_number` or\n",
    "`minimum_account_balance`.\n",
    "\n",
    "Not every allowed variable name is a good variable name! A good programming style (not only in Python) is characterised\n",
    "by the fact that a program is easy for a human to understand.\n",
    "\n",
    "> Any fool can write code that a computer can understand. Good programmers write code that humans can understand.<br>\n",
    "> Martin Fowler, 2008.\n",
    "\n",
    "For this reason, you should use variable names that have a meaning.\n",
    "\n",
    "- `new_account_balance` is better than `nab`\n",
    "- `car_length` is better than `lenght`\n",
    "\n",
    "Make your programmes readable by using good variable names so that you will still understand in a year's time what the\n",
    "program is supposed to calculate."
   ]
  },
  {
   "cell_type": "markdown",
   "id": "a4fe15ec",
   "metadata": {},
   "source": [
    "### Exercise\n",
    "\n",
    "Create some variables and test which names are allowed. See what happens when a name is not allowed. Assign values to\n",
    "your variables and test what is (not) possible. The `print()` used below is for outputting variables and other\n",
    "parameters. Details on this later."
   ]
  },
  {
   "cell_type": "code",
   "execution_count": null,
   "id": "e931edb4",
   "metadata": {},
   "outputs": [],
   "source": [
    "a = 5\n",
    "b = 7\n",
    "a = b\n",
    "print(a)"
   ]
  },
  {
   "cell_type": "code",
   "execution_count": null,
   "id": "82fa4559",
   "metadata": {},
   "outputs": [],
   "source": [
    "a = 5\n",
    "b = 7\n",
    "b = a\n",
    "print(a)\n",
    "print(b)"
   ]
  },
  {
   "cell_type": "markdown",
   "id": "c15af95d",
   "metadata": {},
   "source": [
    "## More Details about Variables\n",
    "\n",
    "In Python, a *variable* is created in an assignment the first time it is used. Variables do not have to be declared\n",
    "first, as in some other programming languages.  \n",
    "A *variable* can be on both the right and left side of the assignment operator at the same time."
   ]
  },
  {
   "cell_type": "code",
   "execution_count": null,
   "id": "5a8bcb96",
   "metadata": {},
   "outputs": [],
   "source": [
    "a = 10\n",
    "a = a + 1\n",
    "print(a)"
   ]
  },
  {
   "cell_type": "markdown",
   "id": "01fc6cef",
   "metadata": {},
   "source": [
    "In programming the instruction in the middle means, that the value in the variable `a` is increased by `1`. Sometimes\n",
    "the term *Increment* is used. This construction is used quite often. Thus Python offers a short way of writing this\n",
    "instruction: `a += 1`. Yes, from a mathematics point of view this looks really weird but it simply means that the value\n",
    "stored in `a` is increased by `1`."
   ]
  },
  {
   "cell_type": "code",
   "execution_count": null,
   "id": "4494e067",
   "metadata": {},
   "outputs": [],
   "source": [
    "a = 1\n",
    "a += 1\n",
    "print(a)"
   ]
  },
  {
   "cell_type": "markdown",
   "id": "3a607799",
   "metadata": {},
   "source": [
    "The same short way of writing works with other operators and values:"
   ]
  },
  {
   "cell_type": "code",
   "execution_count": null,
   "id": "a99d0fc6",
   "metadata": {},
   "outputs": [],
   "source": [
    "a = 10\n",
    "a *= 2\n",
    "a -= 100\n",
    "print(a)"
   ]
  },
  {
   "cell_type": "markdown",
   "id": "27c573fe",
   "metadata": {},
   "source": [
    "## Exercise\n",
    "\n",
    "Calculate the volume and surface area of a cube (side lengths a, b, c equal) or a cuboid (side lengths a, b, c\n",
    "different). Proceed as follows:\n",
    "- Define reasonable names for the variables representing the side length of the cube and assign values to them.\n",
    "- Calculate the area of the cube and assign the result to the variable cube_area.\n",
    "- Calculate the volume of the cube and assign the result to the variable cube_volume.\n",
    "- Output the result of the calculation using the following statements: `print(cube_area)` and `print(cube_volume)`\n",
    "\n",
    "Repeat these steps for the cuboid."
   ]
  },
  {
   "cell_type": "code",
   "execution_count": null,
   "id": "f50c90fe",
   "metadata": {},
   "outputs": [],
   "source": []
  }
 ],
 "metadata": {
  "interpreter": {
   "hash": "9fd0e282e2343d8b38b390b803aabc7fcea80a18eee8e5bd23ce64f6435b30a1"
  },
  "kernelspec": {
   "display_name": "Python 3.9.7 64-bit ('opensap_python_intro-SgMpohZV': pipenv)",
   "name": "python3"
  },
  "language_info": {
   "codemirror_mode": {
    "name": "ipython",
    "version": 3
   },
   "file_extension": ".py",
   "mimetype": "text/x-python",
   "name": "python",
   "nbconvert_exporter": "python",
   "pygments_lexer": "ipython3",
   "version": "3.9.7"
  }
 },
 "nbformat": 4,
 "nbformat_minor": 5
}
