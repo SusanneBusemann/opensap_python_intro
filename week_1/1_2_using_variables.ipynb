{
 "cells": [
  {
   "cell_type": "markdown",
   "id": "cbe0dbaf",
   "metadata": {},
   "source": [
    "# Using Variables\n",
    "\n",
    "## Statements\n",
    "\n",
    "All Python programs consist of a series of statements. These statements describe what steps the computer takes when executing a Python program. An example of an instruction is the multiplication of two numbers. Multiplication is represented in Python by the character `*`. \n",
    "\n",
    "A computer-program typically consists of many instructions. These are executed one after the other from top to bottom. (The program sequence can, however, be changed e.g. by conditions, which will be discussed later this week.)\n",
    "\n",
    "In code cells of Jupyter Notebooks, the result of the execution of the last statement is the output below this cell."
   ]
  },
  {
   "cell_type": "code",
   "execution_count": null,
   "id": "e553c0e4",
   "metadata": {},
   "outputs": [],
   "source": [
    "5 * 7"
   ]
  },
  {
   "cell_type": "markdown",
   "id": "c19962bd",
   "metadata": {},
   "source": [
    "The `*` is called an operator in Python. The following table contains a list of frequently used arithemetic operators.\n",
    "\n",
    " |  Description        | Operator | Example     | Result   |\n",
    " |----------------------|----------|--------------|------------|\n",
    " | Addition             | +        | 2 + 3        | 5          |\n",
    " | Subtraction          | -        | 2 - 3        | -1         |\n",
    " | Multiplication       | *        | 2 * 3        | 6          |\n",
    " | Division             | /        | 7 / 3        | 2.3333333333333335 |\n",
    " | Division by Integer  | //       | 7 // 3       | 2          |\n",
    " | Modulo               | %        | 7 % 3        | 1          |\n",
    " | Exponentiation       | **       | 2 ** 0.5     | 1.4142135623730951 |\n",
    " \n",
    "In Python, the priorities for operators known from algebra are valid. \n",
    "Multiplication and division are performed before addition and subtraction. Brackets can be used to influence the order of execution.\n",
    " \n",
    "Brief explanation of integer division and modulo: In primary school, you first learned about integer division. If you divide 7 by 3 (and do not yet know any decimal places), the result is 2 with a remainder of 1. Integer division and modulo lead to exactly these results. The integer division of `7 // 3` results in `2`, the modulo operation `7 % 3` leads to the remainder, in the above example 1. Especially the modulo operation is **frequently** used in programming!"
   ]
  },
  {
   "cell_type": "code",
   "execution_count": null,
   "id": "19df2d40",
   "metadata": {},
   "outputs": [],
   "source": [
    "1 + 2 * 3 * 4 * 5 - 6 / 7 % 8 ** 9 *100"
   ]
  },
  {
   "cell_type": "code",
   "execution_count": null,
   "id": "1b8794c1",
   "metadata": {},
   "outputs": [],
   "source": [
    "1 + 2 * (3 * 4 * 5 - 6) / (7 % 8) ** 9"
   ]
  },
  {
   "cell_type": "markdown",
   "id": "253b074e",
   "metadata": {},
   "source": [
    "## Variables\n",
    "\n",
    "Variables exist in (almost) every programming language. However, the term has a different meaning in programming than in mathematics. In programming, a variable is a name to which a value can be assigned. From a technical point of view, a variable is a box or a cell in the memory that has a certain value at a point in time.\n",
    "\n",
    "The value of a variable can be set by the assignment operator `=`. In subsequent instructions, the name of the variable is then replaced by the stored value.\n",
    "\n",
    "Attention: In mathematics, `a = 2` is an *assertion*, which is either true or false. This is either true or false. In programming, a = 2 is an instruction, which describes the assignment of the value `2` to the variable `a`."
   ]
  },
  {
   "cell_type": "code",
   "execution_count": null,
   "id": "fc5f2f8b",
   "metadata": {},
   "outputs": [],
   "source": [
    "a = 2\n",
    "b = 3\n",
    "a * b"
   ]
  },
  {
   "cell_type": "markdown",
   "id": "476535fa",
   "metadata": {},
   "source": [
    "### Several assignments in a sequence\n",
    "\n",
    "The value of a variable can also be changed by an assignment, if assignments take place one after the other. In the example below, there is the variable `a`. First, the value `2` is assigned to `a`, then the value `3` is assigned. This second assignment deletes the `2`, the memory is just occupied with the new value `3`. The `2` is forgotten."
   ]
  },
  {
   "cell_type": "code",
   "execution_count": null,
   "id": "0050af10",
   "metadata": {},
   "outputs": [],
   "source": [
    "a = 2\n",
    "a = 3\n",
    "a"
   ]
  },
  {
   "cell_type": "markdown",
   "id": "30b5bf6e",
   "metadata": {},
   "source": [
    "### A variable on both sides of the assignment\n",
    "\n",
    "Assignments can look strange (or even wrong) through the eyes of mathematics. This is the case, for example, when a variable is on both sides of the assignment. In the example below, the variable `a` is increased by `10`. To be more precise: First, the value of the variable `a` is read, the `10` is added, and the result is written back into the memory location named `a` at the end. This happens to be the same memory location as before.\n"
   ]
  },
  {
   "cell_type": "code",
   "execution_count": null,
   "id": "916f861c",
   "metadata": {},
   "outputs": [],
   "source": [
    "a = 25\n",
    "a = a + 10\n",
    "a"
   ]
  },
  {
   "cell_type": "markdown",
   "id": "869fc5b2",
   "metadata": {},
   "source": [
    "### A variable can only be accessed in read mode if a value has been assigned to it.\n",
    "\n",
    "In the examples above you have seen, that variables can be on the right side of the `=`. These variables are accessed in *read mode*. The value is written into the variables on the left side. This variable is accessed in *write mode*. A variable can only be accessed in read mode if a value has been assigned to the variable beforehand. Otherwise there is an error message. Execute the next cell and try to understand the error message.\n"
   ]
  },
  {
   "cell_type": "code",
   "execution_count": null,
   "id": "b67540db",
   "metadata": {},
   "outputs": [],
   "source": [
    "a = unknown_variable"
   ]
  },
  {
   "cell_type": "markdown",
   "id": "eee2019d",
   "metadata": {},
   "source": [
    "### Small Excursion: Cells in notebooks are connected to each other\n",
    "\n",
    "When a cell in a notebook has been successfully executed, the results are also known in other cells of the notebook.\n",
    "\n",
    "- First execute the first of the following two cells. An error message will appear.\n",
    "- Then execute the second cell and then the first cell again. This time everything should work.\n",
    "- If you want to repeat the whole process, you must reset the output of all cells in the \"Kernel\" menu at the top. Then the variables will *forget* their current values."
   ]
  },
  {
   "cell_type": "code",
   "execution_count": null,
   "id": "6189425b",
   "metadata": {},
   "outputs": [],
   "source": [
    "a = new_variable + 10\n",
    "a"
   ]
  },
  {
   "cell_type": "code",
   "execution_count": null,
   "id": "865836b3",
   "metadata": {},
   "outputs": [],
   "source": [
    "new_variable = 20"
   ]
  },
  {
   "cell_type": "markdown",
   "id": "dc37a077",
   "metadata": {},
   "source": [
    "### Sequentialisation of assignments\n",
    "\n",
    "Sometimes it happens that several operations are applied to one variable. These can also be sequentialised with the help of the construct above. This sometimes helps to make a programme better readable. For example, the assignment a = 5 * 3 * 7 + (2 - 10 * 3) can be written as follows: (When sequentialising, one must be careful not to violate any bracket rule or the like)."
   ]
  },
  {
   "cell_type": "code",
   "execution_count": null,
   "id": "f38c4c32",
   "metadata": {},
   "outputs": [],
   "source": [
    "a = 5\n",
    "a = a * 3\n",
    "a = a * 7\n",
    "a = a + (2 - 10 * 3)\n",
    "a"
   ]
  },
  {
   "cell_type": "markdown",
   "id": "88afc2d2",
   "metadata": {},
   "source": [
    "### On the left side of an assignment only ONE variable.\n",
    "\n",
    "On the right-hand side of an assignment, there can be complex expressions which themselves contain variables (e.g. a = b ** 2 + c ** 2). On the left side, on the other hand, there can only be the one variable. If you execute the following construct, an error message will occur."
   ]
  },
  {
   "cell_type": "code",
   "execution_count": null,
   "id": "abd35784",
   "metadata": {},
   "outputs": [],
   "source": [
    "b = 3\n",
    "c = 4\n",
    "\n",
    "a ** 2 = b ** 2 + c ** 2\n",
    "a"
   ]
  },
  {
   "cell_type": "markdown",
   "id": "84ac71bf",
   "metadata": {},
   "source": [
    "You have certainly recognised Pythagoras' theorem in the cell above. But how do you then obtain the length of a if b and c are given? The calculation can be done in two steps as follows."
   ]
  },
  {
   "cell_type": "code",
   "execution_count": null,
   "id": "67a1198e",
   "metadata": {},
   "outputs": [],
   "source": [
    "b = 3\n",
    "c = 4\n",
    "\n",
    "a = b ** 2 + c ** 2\n",
    "a = a ** 0.5\n",
    "a"
   ]
  },
  {
   "cell_type": "code",
   "execution_count": null,
   "id": "83e1c2dc",
   "metadata": {},
   "outputs": [],
   "source": []
  },
  {
   "cell_type": "markdown",
   "id": "80069d66",
   "metadata": {},
   "source": [
    "### Variable names\n",
    "\n",
    "There are a number of rules for variable names in Python. A variable name must always begin with a letter or an underscore `_`. This can be followed by any number of letters, digits and underscores.\n",
    "\n",
    "Variable names may not contain special characters or spaces. Thus, for example, the following variable names are valid:"
   ]
  },
  {
   "cell_type": "code",
   "execution_count": null,
   "id": "c921f618",
   "metadata": {},
   "outputs": [],
   "source": [
    "Name = 'David'\n",
    "nachname = 'Bowie'\n",
    "kontostand = -2000\n",
    "_neuer_kontostand = 1000"
   ]
  },
  {
   "cell_type": "markdown",
   "id": "8f6744d9",
   "metadata": {},
   "source": [
    "In contrast, the following variable names are invalid. Execute the cell and check the error message."
   ]
  },
  {
   "cell_type": "code",
   "execution_count": null,
   "id": "7d12fdf2",
   "metadata": {},
   "outputs": [],
   "source": [
    "1_konto = 1234\n",
    "email@fh = 'drumm@fh-aachen.de'"
   ]
  },
  {
   "cell_type": "markdown",
   "id": "7cb9e6f5",
   "metadata": {},
   "source": [
    "In Python, variable names are case sensitive. This means that in a Python program, `name` and `Name` represent different variables. This is illustrated in the following example."
   ]
  },
  {
   "cell_type": "code",
   "execution_count": null,
   "id": "8e1f2203",
   "metadata": {},
   "outputs": [],
   "source": [
    "name = 'Joey'\n",
    "Name = 'Ramone'\n",
    "\n",
    "name + ' ' + Name"
   ]
  },
  {
   "cell_type": "markdown",
   "id": "492ae72d",
   "metadata": {},
   "source": [
    "Finally, there are a number of *reserved keywords* in Python that must not be used as variable names. These keywords have a special meaning in Python, which you will learn about in the course of the lecture. Example of reserved keywords are `and`, `while` or `if`. Execute the following cell and have a look at the error message."
   ]
  },
  {
   "cell_type": "code",
   "execution_count": null,
   "id": "4975ad5c",
   "metadata": {},
   "outputs": [],
   "source": [
    "if = 42 "
   ]
  },
  {
   "cell_type": "markdown",
   "id": "4c2e9eb9",
   "metadata": {},
   "source": [
    "### Conventions for Variable Names\n",
    "\n",
    "In the Python community, lower case is preferred for variable names. Thus,  `name` is used instead of `Name`. Variable names that consist of several words are separated by an underscore `_`, e.g. `account_number` or `minimum_account_balance`.\n",
    "\n",
    "Not every allowed variable name is a good variable name! A good programming style (not only in Python) is characterised by the fact that a program is easy for a human to understand.\n",
    "\n",
    "> Any fool can write code that a computer can understand. Good programmers write code that humans can understand.<br>\n",
    "> Martin Fowler, 2008.\n",
    "\n",
    "For this reason, you should use variable names that have a meaning.\n",
    "\n",
    "- `new_account_balance` is better than `nab`\n",
    "- `car_length` is better than `lenght`\n",
    "\n",
    "Make your programmes readable by using good variable names so that you will still understand in a year's time what the program is supposed to calculate.\n",
    "\n"
   ]
  },
  {
   "cell_type": "markdown",
   "id": "6a10334b",
   "metadata": {},
   "source": [
    "### Exercise\n",
    "\n",
    "Create some variables and test which names are allowed. See what happens when a name is not allowed. Assign values to your variables and test what is (not) possible. The `print()` used below is for outputting variables and other parameters. Details on this later."
   ]
  },
  {
   "cell_type": "code",
   "execution_count": null,
   "id": "ffa6231e",
   "metadata": {},
   "outputs": [],
   "source": [
    "a = 5\n",
    "b = 7\n",
    "a = b\n",
    "print(a)"
   ]
  },
  {
   "cell_type": "code",
   "execution_count": null,
   "id": "99de93af",
   "metadata": {},
   "outputs": [],
   "source": [
    "a = 5\n",
    "b = 7\n",
    "b = a\n",
    "print(a)\n",
    "print(b)"
   ]
  },
  {
   "cell_type": "markdown",
   "id": "da728c6f",
   "metadata": {},
   "source": [
    "## More Details about Variables\n",
    "\n",
    "In Python, a *variable* is created in an assignment the first time it is used. Variables do not have to be declared first, as in some other programming languages.\n",
    "\n",
    "A *variable* can be on both the right and left side of the assignment operator at the same time."
   ]
  },
  {
   "cell_type": "code",
   "execution_count": null,
   "id": "af590d86",
   "metadata": {},
   "outputs": [],
   "source": [
    "a = 10\n",
    "a = a + 1\n",
    "print(a)"
   ]
  },
  {
   "cell_type": "markdown",
   "id": "1eeffe94",
   "metadata": {},
   "source": [
    "In programming the statement in the middle means, that the value in the variable `a` is increased by `1`. Sometimes the term *Increment* is used. This construction is used quite often. Thus Python offers a short way of writing this statement: `a += 1`. Yes, from a mathematics points of view this looks really weired but it simply means, that the value stored in `a` is increased by `1`."
   ]
  },
  {
   "cell_type": "code",
   "execution_count": null,
   "id": "057307c8",
   "metadata": {},
   "outputs": [],
   "source": [
    "a = 1\n",
    "a += 1  \n",
    "print(a)"
   ]
  },
  {
   "cell_type": "markdown",
   "id": "f721d0da",
   "metadata": {},
   "source": [
    "The same short way of writing works with other operators and values:"
   ]
  },
  {
   "cell_type": "code",
   "execution_count": null,
   "id": "8ea9a792",
   "metadata": {},
   "outputs": [],
   "source": [
    "a = 10 \n",
    "a *= 2\n",
    "a -= 100\n",
    "print(a)"
   ]
  },
  {
   "cell_type": "markdown",
   "id": "3399fe0c",
   "metadata": {},
   "source": [
    "## Exercise\n",
    "\n",
    "Calculate the volume and surface area of a cube (side lengths a, b, c equal) or a cuboid (side lengths a, b, c different). Proceed as follows:\n",
    "\n",
    "- Define reasonable names for the variables representing the side length of the cube and assign values to them.\n",
    "- Calculate the area of the cube and assign the result to the variable cube_area.\n",
    "- Calculate the volume of the cube and assign the result to the variable cube_volume.\n",
    "- Output the result of the calculation using the following statements: `print(cube_area)` and `print(cube_volume)`\n",
    "\n",
    "Repeat these steps for the cuboid.\n"
   ]
  },
  {
   "cell_type": "code",
   "execution_count": null,
   "id": "24fed446",
   "metadata": {},
   "outputs": [],
   "source": []
  }
 ],
 "metadata": {
  "kernelspec": {
   "display_name": "Python 3",
   "language": "python",
   "name": "python3"
  },
  "language_info": {
   "codemirror_mode": {
    "name": "ipython",
    "version": 3
   },
   "file_extension": ".py",
   "mimetype": "text/x-python",
   "name": "python",
   "nbconvert_exporter": "python",
   "pygments_lexer": "ipython3",
   "version": "3.7.1"
  }
 },
 "nbformat": 4,
 "nbformat_minor": 5
}
