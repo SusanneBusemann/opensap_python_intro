{
 "cells": [
  {
   "cell_type": "markdown",
   "metadata": {},
   "source": [
    "# Iterating using the [for loop](https://docs.python.org/3/tutorial/controlflow.html#for-statements)\n",
    "## Basics\n",
    "\n",
    "Loops are needed in programming to run through a group of instructions multiple times. The Python programming language\n",
    "has two types of loops: the `while` loop and the `for` loop. The `for` loop is a language element that is very suitable\n",
    "for processing strings (letter by letter), lists (element by element) or number intervals. It can be used to execute one\n",
    "or more instructions on each element of the string/list/number interval.  \n",
    "Strings, lists and number intervals are members of the complex datatype called `sequences` like previously mentioned.\n",
    "Sequence just means that several parts follow each other. In a string, a letter follows after a letter; in a list, the\n",
    "individual list elements follow one another. \n",
    "\n",
    "## Syntax\n",
    "When processing a sequence with a `for` loop, one element of the sequence is assigned to a *sequence-variable* in each\n",
    "iteration. For example, when a `for` loop iterates over a string, one character is processed in each loop pass. What is\n",
    "done in the processing part of the loop is determined by the instructions in the *loop body*. Just like `if-elif-else`,\n",
    "the loop body is specified by indenting. All instructions in the loop body are then executed. The general syntax of the\n",
    "`for` loop in Python is:\n",
    "\n",
    "```python\n",
    "for variable in sequence:\n",
    "    instruction_1\n",
    "    instruction_2\n",
    "    ...\n",
    "    instruction_n\n",
    "```\n",
    "The following graphic illustrates the execution of a `for` loop ![for_loop.png](./img/for_loop.png)"
   ]
  },
  {
   "cell_type": "markdown",
   "metadata": {},
   "source": []
  },
  {
   "cell_type": "code",
   "execution_count": null,
   "metadata": {},
   "outputs": [],
   "source": [
    "list = [1, 1, 0, True, False, 0, True, False, False]\n",
    "print(\"List before clean-up:\", list)\n",
    "clean_list = []\n",
    "\n",
    "for item in list:\n",
    "    if item:\n",
    "        item = 1\n",
    "        clean_list.append(item)\n",
    "    elif not item:\n",
    "        item = 0\n",
    "        clean_list.append(item)\n",
    "\n",
    "print(\"List after clean-up:\", clean_list)"
   ]
  },
  {
   "cell_type": "markdown",
   "metadata": {},
   "source": [
    "To loop through a string letter by letter and output each letter for example the following Python code can be used:"
   ]
  },
  {
   "cell_type": "code",
   "execution_count": null,
   "metadata": {},
   "outputs": [],
   "source": [
    "for char in \"Hello Python programming\":\n",
    "    print(char)"
   ]
  },
  {
   "cell_type": "markdown",
   "metadata": {},
   "source": [
    "You can iterate over a list in the same way:"
   ]
  },
  {
   "cell_type": "code",
   "execution_count": null,
   "metadata": {},
   "outputs": [],
   "source": [
    "list1 = [3, 4, 234, -12, \"abc\", True]\n",
    "for element in list1:\n",
    "    print(element)"
   ]
  },
  {
   "cell_type": "markdown",
   "metadata": {},
   "source": [
    "## Stopping a loop iteration early using `break`\n",
    "\n",
    "Obviously it is possible to combine the `for` loop with other control structures. For example, you can use an if\n",
    "condition to stop the loop early in case a specific condition is satisfied."
   ]
  },
  {
   "cell_type": "code",
   "execution_count": null,
   "metadata": {},
   "outputs": [],
   "source": [
    "list1 = [2, 4, 12, 5, 37, 100, 23, 16, 36]\n",
    "for i in list1:\n",
    "    print(i)\n",
    "    if i == 12:\n",
    "        break"
   ]
  },
  {
   "cell_type": "markdown",
   "metadata": {},
   "source": [
    "## Exercise\n",
    "Now it is your turn. Write a program that expects the user to enter a sentence first and then to enter a letter. The\n",
    "program should output the entered sentence, removing each occurrence of the entered letter. Additionally, the output loop\n",
    "should be constrained to print out a maximum of 20 characters only.\n",
    "\n",
    "\n",
    "The output should look like the following (*user input in **bold** for clarity*):\n",
    "> What sentence should be output? **This is how it should look like**  \n",
    "> Which letter should be removed? **i**  \n",
    "> Ths s how t should lo\n",
    "\n",
    "**Hint:** Using `input()`, first read in the sentence and then the letter to be removed. Create an empty string using\n",
    "```result = \"\"```. Then iterate over the letters. If a letter is not equal to the letter to be deleted, add that letter\n",
    "to result (``result += letter``). After the `for` loop, output the variable `result`.\n",
    "End (`break`) the loop early if the length of the result string is more than 20."
   ]
  },
  {
   "cell_type": "code",
   "execution_count": null,
   "metadata": {},
   "outputs": [],
   "source": []
  }
 ],
 "metadata": {
  "interpreter": {
   "hash": "ac59ebe37160ed0dfa835113d9b8498d9f09ceb179beaac4002f036b9467c963"
  },
  "kernelspec": {
   "display_name": "Python 3.9.7 64-bit",
   "name": "python3"
  },
  "language_info": {
   "codemirror_mode": {
    "name": "ipython",
    "version": 3
   },
   "file_extension": ".py",
   "mimetype": "text/x-python",
   "name": "python",
   "nbconvert_exporter": "python",
   "pygments_lexer": "ipython3",
   "version": "3.9.7"
  }
 },
 "nbformat": 4,
 "nbformat_minor": 2
}
