{
 "cells": [
  {
   "cell_type": "markdown",
   "metadata": {},
   "source": [
    "# Unit 2.1: What are lists in python?\n",
    "\n",
    "## Motivation\n",
    "\n",
    "So far we have only used primitive data types in our programs. However, these simple data types are quite limited.\n",
    "As an example consider the following task. You should write a Python 🐍  program that performs the following steps:\n",
    "\n",
    "- Read numerical values form the user "
   ]
  },
  {
   "cell_type": "markdown",
   "metadata": {},
   "source": [
    "## Lists in Python\n",
    "\n",
    "List are one the [sequence types](https://docs.python.org/3/library/stdtypes.html?highlight=list#sequence-types-list-tuple-range) in Python.\n",
    "We will learn about other sequence types in subsequent units.\n",
    "\n",
    "In Python squre brackets (i.e. `[` and `]`) are used to create a list. The individual eleements of the list are seperated by commas. Just like\n",
    "primitive data types, list can be assigned to variables. The following example shows a simple list containing different integer values.\n",
    "This list is assigned to the variable `my_number_list`. Finally, the variable `my_number_list` is printed using the `print()` function."
   ]
  },
  {
   "cell_type": "code",
   "execution_count": null,
   "metadata": {},
   "outputs": [],
   "source": [
    "my_number_list = [0, 1, 1, 2, 3, 5, 8, 13, 21]\n",
    "print(my_number_list)"
   ]
  },
  {
   "cell_type": "markdown",
   "metadata": {},
   "source": [
    "List can not only contain numbers but any of the data types we have seen so far.\n",
    "In the following example lists containing different data types are created. The list `my_string_list` contains three strings,\n",
    "the list `my_float_list` two floting point numbers. Finally, the list `my_boolean_list` contains four boolean values. "
   ]
  },
  {
   "cell_type": "code",
   "execution_count": null,
   "metadata": {},
   "outputs": [],
   "source": [
    "my_string_list = [\"Hello\", \"open\", \"SAP\"]\n",
    "my_float_list = [3.14, -6.63e-34]\n",
    "my_boolean_list = [True, False, False, True]\n",
    "\n",
    "print(my_string_list)"
   ]
  },
  {
   "cell_type": "markdown",
   "metadata": {},
   "source": [
    "It is even possible that list contain elements of different data types.\n",
    "The `mixed_list` in the following example contains four integers, two strings, a floating point number and a boolean."
   ]
  },
  {
   "cell_type": "code",
   "execution_count": null,
   "metadata": {},
   "outputs": [],
   "source": [
    "my_mixed_list = [1, 3, 5, True, -23, \"a\", 3.234, \"abc\"]\n",
    "print(my_mixed_list)"
   ]
  },
  {
   "cell_type": "markdown",
   "metadata": {},
   "source": [
    "## Basic operations on lists\n",
    "\n",
    "Similar to the primitive data types there are a number of basic operation that can be perfomed on lists.\n",
    "\n",
    " |  Description        | Operator | Example     | Result   |\n",
    " |---------------------|----------|--------------|------------|\n",
    " | Concatenation       | +        | `[1, 2] + [3, 4]` | `[1, 2, 3, 4]` |\n",
    " | Multiplication      | *        | `[1, 2] * 3` <br/> `3 * [1, 2]` | `[1, 2, 1, 2, 1, 2]` |\n",
    " | Containment         | in       | `3 in [1, 2, 3]` | `True` |\n",
    "\n",
    " The `+` operator can be used to concatenate two lists. The result ist a new list containg elements of the first operand\n",
    " followd by the elements of the second operand. The `*` operator can be used to repeat a list a given number of times.\n",
    "In contrast to `+` and `*` the operator `in` is only defined for sequence types. It can be used to check if an element\n",
    "is contained in a list.\n",
    "\n",
    "The next example shows the usage of the `+` and the `*` operator. \n"
   ]
  },
  {
   "cell_type": "code",
   "execution_count": null,
   "metadata": {},
   "outputs": [],
   "source": [
    "first_list = [1, 2, 3]\n",
    "second_list = [4, 5, 6]\n",
    "\n",
    "new_list = first_list + second_list\n",
    "print(new_list)\n",
    "\n",
    "print(3 * first_list)"
   ]
  },
  {
   "cell_type": "markdown",
   "metadata": {},
   "source": [
    "As mentioned above, the `in` operator is used to check if a list contains en element. The following\n",
    "cell contains an example in which the `in` operator is used to check if a number \n",
    "entered by the user is contained in the list of prime numbers."
   ]
  },
  {
   "cell_type": "code",
   "execution_count": null,
   "metadata": {},
   "outputs": [],
   "source": [
    "prime_numbers = [2, 3, 5, 7, 11, 13, 17, 19, 23, 29, 31, 37, 41, 43, 47]\n",
    "my_number = int(input(\"Please enter a number: \"))\n",
    "\n",
    "if my_number in prime_numbers:\n",
    "    print(\"The list contains the number\", my_number)\n",
    "else:\n",
    "    print(\"The list does not contain the number\", my_number)"
   ]
  },
  {
   "cell_type": "markdown",
   "metadata": {},
   "source": [
    "# Unit 2.2: Using an index to access lists\n",
    "\n",
    "## Motivation\n",
    "\n",
    "In the previous unit we saw how to create list in Python and how to check if a\n",
    "is contained in a list or not. One common operation on list when programming in Python is to\n",
    "access an list item at a specific position. Accessing list item at a specific position\n",
    "is the topic of this unit.\n",
    "\n",
    "## Accessing List Items\n",
    "\n",
    "Each item in a Python list is indexed. An individual item in a Python list can be\n",
    "access using its index number inside square brackets `[]`. The following cell gives an\n",
    "example of accessing the item with the index number `3` in the `fruit_list`.\n"
   ]
  },
  {
   "cell_type": "code",
   "execution_count": null,
   "metadata": {},
   "outputs": [],
   "source": [
    "fruit_list = [\"apple\", \"banana\", \"coconut\", \"damson\", \"elderberry\"]\n",
    "fruit = fruit_list[3]\n",
    "print(fruit)"
   ]
  },
  {
   "cell_type": "markdown",
   "metadata": {},
   "source": [
    "The example shows, that the item with the index number 3 is fourth item in the list.\n",
    "The reason is, that list items are indexed with number starting from 0. This is, \n",
    "according to [Edsger W. Dijkstra](https://en.wikipedia.org/wiki/Edsger_W._Dijkstra) the\n",
    "[correct way of using indices](https://www.cs.utexas.edu/users/EWD/transcriptions/EWD08xx/EWD831.html).\n",
    "\n",
    "| index             | 0         | 1         | 2         | 3         | 4             | \n",
    "|:---               | :---:     | :---:     | :----:    | :---:     | :---:         |\n",
    "| fruit_list        | apple     | banana    | coconut   | damson    | elderberry    |\n",
    "| **reverse index** | **-5**    | **-4**    | **-3**    |**-2**     | **-1**        |"
   ]
  },
  {
   "cell_type": "markdown",
   "metadata": {},
   "source": [
    "# Unit 2.3: Important functions and methods for list"
   ]
  },
  {
   "cell_type": "markdown",
   "metadata": {},
   "source": []
  }
 ],
 "metadata": {
  "interpreter": {
   "hash": "ae5a99a2531053e9be9d669b7bfc08eaacd0186491e01eb4522a2d385742a1d5"
  },
  "kernelspec": {
   "display_name": "Python 3 (ipykernel)",
   "language": "python",
   "name": "python3"
  },
  "language_info": {
   "codemirror_mode": {
    "name": "ipython",
    "version": 3
   },
   "file_extension": ".py",
   "mimetype": "text/x-python",
   "name": "python",
   "nbconvert_exporter": "python",
   "pygments_lexer": "ipython3",
   "version": "3.9.6"
  }
 },
 "nbformat": 4,
 "nbformat_minor": 2
}
