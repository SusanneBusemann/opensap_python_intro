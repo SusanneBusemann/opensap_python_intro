{
 "cells": [
  {
   "cell_type": "markdown",
   "metadata": {},
   "source": [
    "# Using an index to access lists\n",
    "\n",
    "## Motivation\n",
    "\n",
    "In the previous unit we saw how to create list in Python and how to check if a\n",
    "is contained in a list or not. One common operation on list when programming in Python is to\n",
    "access an list item at a specific position. Accessing list item at a specific position\n",
    "is the topic of this unit.\n",
    "\n",
    "## Accessing List Items\n",
    "\n",
    "Each item in a Python list is indexed. An individual item in a Python list can be\n",
    "access using its index number inside square brackets `[]`. The following cell gives an\n",
    "example of accessing the item with the index number `3` in the `fruit_list`.\n"
   ]
  },
  {
   "cell_type": "code",
   "execution_count": null,
   "metadata": {},
   "outputs": [],
   "source": [
    "fruit_list = [\"apple\", \"banana\", \"coconut\", \"damson\", \"elderberry\"]\n",
    "fruit = fruit_list[3]\n",
    "print(fruit)"
   ]
  },
  {
   "cell_type": "markdown",
   "metadata": {},
   "source": [
    "The example shows, that the item with the index number 3 is fourth item in the list.\n",
    "The reason is, that list items are indexed with number starting from 0. This is, \n",
    "according to [Edsger W. Dijkstra](https://en.wikipedia.org/wiki/Edsger_W._Dijkstra) the\n",
    "[correct way of using indices](https://www.cs.utexas.edu/users/EWD/transcriptions/EWD08xx/EWD831.html).\n",
    "\n",
    "| index             | 0         | 1         | 2         | 3         | 4             | \n",
    "|:---               | :---:     | :---:     | :----:    | :---:     | :---:         |\n",
    "| fruit_list        | apple     | banana    | coconut   | damson    | elderberry    |\n",
    "| **reverse index** | **-5**    | **-4**    | **-3**    |**-2**     | **-1**        |"
   ]
  },
  {
   "cell_type": "markdown",
   "metadata": {},
   "source": []
  }
 ],
 "metadata": {
  "interpreter": {
   "hash": "ae5a99a2531053e9be9d669b7bfc08eaacd0186491e01eb4522a2d385742a1d5"
  },
  "kernelspec": {
   "display_name": "Python 3 (ipykernel)",
   "language": "python",
   "name": "python3"
  },
  "language_info": {
   "codemirror_mode": {
    "name": "ipython",
    "version": 3
   },
   "file_extension": ".py",
   "mimetype": "text/x-python",
   "name": "python",
   "nbconvert_exporter": "python",
   "pygments_lexer": "ipython3",
   "version": "3.9.6"
  }
 },
 "nbformat": 4,
 "nbformat_minor": 2
}
