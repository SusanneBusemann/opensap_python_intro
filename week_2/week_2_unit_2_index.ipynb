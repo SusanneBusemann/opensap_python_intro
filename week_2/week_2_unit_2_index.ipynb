{
 "cells": [
  {
   "cell_type": "markdown",
   "metadata": {},
   "source": [
    "# Using an index to access lists\n",
    "\n",
    "## Motivation\n",
    "\n",
    "In the previous unit we saw how to create list in Python and how to check if a\n",
    "is contained in a list or not. One common operation on list when programming in Python is to\n",
    "access an list item at a specific position. Accessing list item at a specific position\n",
    "is the topic of this unit.\n",
    "\n",
    "## Accessing List Items\n",
    "\n",
    "Each item in a Python list is indexed. An individual item in a Python list can be\n",
    "access using its index number inside square brackets `[]`. The following cell gives an\n",
    "example of accessing the item with the index number `3` in the `fruit_list`.\n"
   ]
  },
  {
   "cell_type": "code",
   "execution_count": null,
   "metadata": {},
   "outputs": [],
   "source": [
    "fruit_list = [\"apple\", \"banana\", \"coconut\", \"damson\", \"elderberry\"]\n",
    "fruit = fruit_list[3]\n",
    "print(fruit)"
   ]
  },
  {
   "cell_type": "markdown",
   "metadata": {},
   "source": [
    "The example shows, that the item with the index `3` is fourth item in the list.\n",
    "The reason is, that list items are indexed with numbers starting from 0. This is,\n",
    "according to [Edsger W. Dijkstra](https://en.wikipedia.org/wiki/Edsger_W._Dijkstra) the\n",
    "[correct way of using indices](https://www.cs.utexas.edu/users/EWD/transcriptions/EWD08xx/EWD831.html).\n",
    "\n",
    "As the indices start with `0`, indices from `0` to `4` exist in a list with five elements. Additionally,\n",
    "each list in Python has a second index. In this second index items are index backwards starting with\n",
    "-1. The following table shows the `fruit_list` as well as the two indices on the it.\n",
    "\n",
    "| index             | 0         | 1         | 2         | 3         | 4             | \n",
    "|:---               | :---:     | :---:     | :----:    | :---:     | :---:         |\n",
    "| fruit_list        | apple     | banana    | coconut   | damson    | elderberry    |\n",
    "| **reverse index** | **-5**    | **-4**    | **-3**    |**-2**     | **-1**        |\n",
    "\n",
    "In the following code cell the `fruit_list` is used to show further example of accessing list items\n",
    "using their index.  Note, that the revers index is particular helpful in special cases.\n",
    "For example, using the index `-1` it is possible to access the last element of a list."
   ]
  },
  {
   "cell_type": "code",
   "execution_count": null,
   "metadata": {},
   "outputs": [],
   "source": [
    "fruit_list = [\"apple\", \"banana\", \"coconut\", \"damson\", \"elderberry\"]\n",
    "print(fruit_list[4])\n",
    "print(fruit_list[-1])\n",
    "print(fruit_list[0])"
   ]
  },
  {
   "cell_type": "markdown",
   "metadata": {},
   "source": [
    "## Possible Errors\n",
    "\n",
    "What happens if a list is accessed with using a not existing index? Lets try this out. In the following\n",
    "cell the `fruit_list` is accessed with index `10`."
   ]
  },
  {
   "cell_type": "code",
   "execution_count": null,
   "metadata": {},
   "outputs": [],
   "source": [
    "fruit_list = [\"apple\", \"banana\", \"coconut\", \"damson\", \"elderberry\"]\n",
    "fruit_list[10]"
   ]
  },
  {
   "cell_type": "markdown",
   "metadata": {},
   "source": [
    "Accessing a list with a not exiting Index results in an error message from the Python interpreter.\n",
    "More specifically, an `IndexError` is raised. The error messages contains information enabling\n",
    "to identify the root cause of the error:\n",
    "\n",
    "1. `IndexError: list index out of range` - This tells out the a list index was used to access the list\n",
    "which in not inside the range of valid indices.\n",
    "1. `----> 2 fruit_list[10]` - This shows us exactly where in our program code the error occurred. "
   ]
  },
  {
   "cell_type": "markdown",
   "metadata": {},
   "source": [
    "## List in list\n",
    "\n",
    "In the introduction to list we learned, that list can contain any Python data type. Therefore, list can also contain lists.\n",
    "The following cell shows an example of a list containing other lists.\n",
    "\n",
    "If the `records` list is accessed using one index (e.g. `records[1]`) the result is again a list. Consequently, it is also\n",
    "possible to access the items of this *inner* list using indices. In the example below, `records[0][-1]` returns the last \n",
    "item of the list with the index `0`."
   ]
  },
  {
   "cell_type": "code",
   "execution_count": null,
   "metadata": {},
   "outputs": [],
   "source": [
    "records = [\n",
    "    [\"Ramones\", \"Leave Home\", \"Rocket to Russia\", \"Road to Ruin\"],\n",
    "    [\"Never Mind the Bollocks\", \"Flogging a Dead Horese\", \"Anarchy in the UK\"],\n",
    "]\n",
    "print(records[1])\n",
    "print(records[0][-1])"
   ]
  },
  {
   "cell_type": "markdown",
   "metadata": {},
   "source": [
    "## Accessing letters in a string\n",
    "\n",
    "In Python list a one of several [Sequence Types](https://docs.python.org/3/library/stdtypes.html#sequence-types-list-tuple-range).\n",
    "In later units we will learn about other sequence types as well. On property of the sequence types is, that\n",
    "all offer som common operations. For example, all sequences types support the access using indices. \n",
    "\n",
    "Strings in Python are also a Sequence Type, more specifically a [Text Sequence Type](https://docs.python.org/3/library/stdtypes.html#text-sequence-type-str).\n",
    "Therefore, it is possible to access the string items, i.e. the individual letters in a string, using indices. This approach is shown in the\n",
    "following cell. "
   ]
  },
  {
   "cell_type": "code",
   "execution_count": null,
   "metadata": {},
   "outputs": [],
   "source": [
    "course_name = \"Python Introduction\"\n",
    "print(course_name[1])\n",
    "print(course_name[-1])\n",
    "\n",
    "if \"Python\" in course_name:\n",
    "    print(\"Happy Python 🐍 Programming!\")"
   ]
  }
 ],
 "metadata": {
  "interpreter": {
   "hash": "ae5a99a2531053e9be9d669b7bfc08eaacd0186491e01eb4522a2d385742a1d5"
  },
  "kernelspec": {
   "display_name": "Python 3.9.6 64-bit ('opensap_python_intro-SgMpohZV': pipenv)",
   "name": "python3"
  },
  "language_info": {
   "codemirror_mode": {
    "name": "ipython",
    "version": 3
   },
   "file_extension": ".py",
   "mimetype": "text/x-python",
   "name": "python",
   "nbconvert_exporter": "python",
   "pygments_lexer": "ipython3",
   "version": "3.9.6"
  }
 },
 "nbformat": 4,
 "nbformat_minor": 2
}
