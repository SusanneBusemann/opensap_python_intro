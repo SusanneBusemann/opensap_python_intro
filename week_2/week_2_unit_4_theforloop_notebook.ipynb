{
 "cells": [
  {
   "cell_type": "markdown",
   "metadata": {},
   "source": [
    "# Iterating using the [for loop](https://docs.python.org/3/tutorial/controlflow.html#for-statements)\n",
    "\n",
    "Loops are needed in programming to run through a group of statements multiple times. The Python programming language has\n",
    "two types of loops: the `while` loop and the `for` loop. The `for` loop is a language element that is very suitable for\n",
    "processing strings (letter by letter), lists (element by element) or number intervals.  \n",
    "Strings, lists and number intervals are members of the complex datatype called `sequences` like previously mentioned.\n",
    "Sequence means not than several parts following each other. In a string, a letter follow after a letter; in a list, the\n",
    "individual list elements follow one another. \n",
    "\n",
    "When processing a sequence with a `for` loop, one element of the sequence is assigned to a variable in each iteration.\n",
    "For example, when a `for` loop iterates over a string, one character is processed in each run. What is done in the\n",
    "processing part of the loop is determined by the instructions in the *loop body*. Just like `if-elif-else`, the loop body is specified by indenting.\n",
    "All instructions are executed in the loop body. The general syntax of the `for` loop in Python is:\n",
    "\n",
    "```python\n",
    "for variable in sequence:\n",
    "    instruction_1\n",
    "    instruction_2\n",
    "    ...\n",
    "    instruction_n\n",
    "```\n",
    "The following graphic illustrates the execution of a `for` loop ![for_loop.png](./img/for_loop.png)\n",
    "\n",
    "### Examples\n",
    "For example, to loop through a string letter by letter and output each letter the following Python code can be used."
   ]
  }
 ],
 "metadata": {
  "interpreter": {
   "hash": "ac59ebe37160ed0dfa835113d9b8498d9f09ceb179beaac4002f036b9467c963"
  },
  "kernelspec": {
   "display_name": "Python 3.9.7 64-bit",
   "name": "python3"
  },
  "language_info": {
   "codemirror_mode": {
    "name": "ipython",
    "version": 3
   },
   "file_extension": ".py",
   "mimetype": "text/x-python",
   "name": "python",
   "nbconvert_exporter": "python",
   "pygments_lexer": "ipython3",
   "version": "3.9.7"
  }
 },
 "nbformat": 4,
 "nbformat_minor": 2
}
