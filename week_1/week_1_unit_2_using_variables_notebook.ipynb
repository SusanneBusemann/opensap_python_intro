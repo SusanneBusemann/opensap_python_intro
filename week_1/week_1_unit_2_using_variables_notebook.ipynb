{
 "cells": [
  {
   "cell_type": "markdown",
   "metadata": {},
   "source": [
    "# Variables\n",
    "The understanding of variables in programming languages is a must!\n",
    "\n",
    "## Variables\n",
    "\n",
    "Variables exist in (almost) every programming language. However, the term has a different meaning\n",
    "in programming compared to mathematics. In programming, a variable is a name to which a value can be\n",
    "assigned. From a (overly simplistic) technical point of view,\n",
    "a variable is space in the memory that has a certain value at a point in time.\n",
    "\n",
    "It is possible to put (or assign or write) a value into the variable. Vice versa, it is possible to read the currently stored value out of the variable. (Important: After the value of the variable is read, the value in the variable is still available and unchanged!)\n",
    "\n",
    "The value of a variable can be set using the assignment operator `=`. For example, the assertion `a = 2` writes the value `2` into the variable `a`. If in subsequent statements, variable `a` is used, the value from the variable ist taken. For example in the following code cell, first the value `2` is written in to the variable `a`, then the value `3` is written into cell `b`. In the final statement, the values are read from variable `a` and `b` and multiplied.\n",
    "\n",
    "Note: In mathematics, `a = 2` is an *assertion*, which is either true or false. In programming, `a = 2` is an *instruction*, which describes the assignment of the value `2` to the variable `a`."
   ]
  },
  {
   "cell_type": "code",
   "execution_count": null,
   "metadata": {},
   "outputs": [],
   "source": [
    "a = 2\n",
    "b = 3\n",
    "a * b"
   ]
  },
  {
   "cell_type": "markdown",
   "metadata": {},
   "source": [
    "### Several assignments in a sequence\n",
    "\n",
    "The value of a variable can also be changed by an assignment, if assignments take place one after the other. In the example below, there is the variable `a`. First, the value `2` is assigned to `a`, then the value `3` is assigned. This second assignment deletes the `2`, the memory is just occupied with the new value `3`. The `2` is forgotten."
   ]
  },
  {
   "cell_type": "code",
   "execution_count": null,
   "metadata": {},
   "outputs": [],
   "source": [
    "a = 2\n",
    "a = 3\n",
    "a"
   ]
  },
  {
   "cell_type": "markdown",
   "metadata": {},
   "source": [
    "### A variable on both sides of the assignment\n",
    "\n",
    "Assignments can look strange (or even wrong) through the eyes of mathematics. This is the case, for example, when a variable is on both sides of the assignment. In the example below, the variable `a` is increased by `10`. To be more precise: First, the value of the variable `a` is read, the `10` is added, and the result is written back into the memory location named `a` at the end. This happens to be the same memory location as before.\n"
   ]
  },
  {
   "cell_type": "code",
   "execution_count": null,
   "metadata": {},
   "outputs": [],
   "source": [
    "a = 25\n",
    "a = a + 10\n",
    "a"
   ]
  },
  {
   "cell_type": "markdown",
   "metadata": {},
   "source": [
    "### A variable can only be accessed in read mode if a value has been assigned to it.\n",
    "\n",
    "In the examples above you have seen, that variables can be on the right side of the `=`. These variables are accessed in *read mode*. The value is written into the variables on the left side. This variable is accessed in *write mode*. A variable can only be accessed in read mode if a value has been assigned to the variable beforehand. Otherwise there is an error message. Execute the next cell and try to understand the error message.\n"
   ]
  },
  {
   "cell_type": "code",
   "execution_count": null,
   "metadata": {},
   "outputs": [],
   "source": [
    "a = unknown_variable"
   ]
  },
  {
   "cell_type": "markdown",
   "metadata": {},
   "source": [
    "### Small Excursion: Cells in notebooks are connected to each other\n",
    "\n",
    "When a cell in a notebook has been successfully executed, the results are also known in other cells of the notebook.\n",
    "\n",
    "- First execute the first of the following two cells. An error message will appear.\n",
    "- Then execute the second cell and then the first cell again. This time everything should work.\n",
    "- If you want to repeat the whole process, you must reset the output of all cells in the \"Kernel\" menu at the top. Then the variables will *forget* their current values."
   ]
  },
  {
   "cell_type": "code",
   "execution_count": null,
   "metadata": {},
   "outputs": [],
   "source": [
    "a = new_variable + 10\n",
    "a"
   ]
  },
  {
   "cell_type": "code",
   "execution_count": null,
   "metadata": {},
   "outputs": [],
   "source": [
    "new_variable = 20"
   ]
  },
  {
   "cell_type": "markdown",
   "metadata": {},
   "source": [
    "### Sequentialisation of assignments\n",
    "\n",
    "Sometimes it happens that several operations are applied to one variable. These can also be sequentialised with the help of the construct above. This sometimes helps to make a programme better readable. For example, the assignment `a = 5 * 3 * 7 + (2 - 10 * 3)` can be written as follows: (When sequentialising, one must be careful not to violate any bracket rule or the like)."
   ]
  },
  {
   "cell_type": "code",
   "execution_count": null,
   "metadata": {},
   "outputs": [],
   "source": [
    "a = 5\n",
    "a = a * 3\n",
    "a = a * 7\n",
    "a = a + (2 - 10 * 3)\n",
    "a"
   ]
  },
  {
   "cell_type": "markdown",
   "metadata": {},
   "source": [
    "### On the left side of an assignment only ONE variable.\n",
    "\n",
    "On the right-hand side of an assignment, there can be complex expressions which themselves contain variables (e.g. a = b ** 2 + c ** 2). On the left side, on the other hand, there can only be the one variable. If you execute the following construct, an error message will occur."
   ]
  },
  {
   "cell_type": "code",
   "execution_count": null,
   "metadata": {},
   "outputs": [],
   "source": [
    "b = 3\n",
    "c = 4\n",
    "\n",
    "a ** 2 = b ** 2 + c ** 2\n",
    "a"
   ]
  },
  {
   "cell_type": "markdown",
   "metadata": {},
   "source": [
    "You have certainly recognised Pythagoras' theorem in the cell above. But how do you then obtain the length of a if b and c are given? The calculation can be done in two steps as follows."
   ]
  },
  {
   "cell_type": "code",
   "execution_count": null,
   "metadata": {},
   "outputs": [],
   "source": [
    "b = 3\n",
    "c = 4\n",
    "\n",
    "a = b ** 2 + c ** 2\n",
    "a = a ** 0.5\n",
    "a"
   ]
  },
  {
   "cell_type": "markdown",
   "metadata": {},
   "source": [
    "### Variable Names\n",
    "\n",
    "There are a number of rules for variable names in Python. A variable name must always begin with a letter or an underscore `_`. This can be followed by any number of letters, digits and underscores.\n",
    "\n",
    "Variable names may not contain special characters or spaces. Thus, for example, the following variable names are valid:"
   ]
  },
  {
   "cell_type": "code",
   "execution_count": null,
   "metadata": {},
   "outputs": [],
   "source": [
    "name = \"David\"\n",
    "surname = \"Bowie\"\n",
    "account_balance = -2000\n",
    "_new_balance = 1000"
   ]
  },
  {
   "cell_type": "markdown",
   "metadata": {},
   "source": [
    "In contrast, the following variable names are invalid. Execute the cell and check the error message."
   ]
  },
  {
   "cell_type": "code",
   "execution_count": null,
   "metadata": {},
   "outputs": [],
   "source": [
    "1_konto = 1234\n",
    "email@fh = 'jacobs@fh-aachen.de'"
   ]
  },
  {
   "cell_type": "markdown",
   "metadata": {},
   "source": [
    "In Python, variable names are case sensitive. This means that in a Python program, `name` and `Name` represent different variables. This is illustrated in the following example."
   ]
  },
  {
   "cell_type": "code",
   "execution_count": null,
   "metadata": {},
   "outputs": [],
   "source": [
    "name = \"Joey\"\n",
    "Name = \"Ramone\"\n",
    "\n",
    "name + \" \" + Name"
   ]
  },
  {
   "cell_type": "markdown",
   "metadata": {},
   "source": [
    "Finally, there are a number of *reserved keywords* in Python that must not be used as variable names. These keywords have a special meaning in Python, which you will learn about in the course of the lecture. Example of reserved keywords are `and`, `while` or `if`. Execute the following cell and have a look at the error message."
   ]
  },
  {
   "cell_type": "code",
   "execution_count": null,
   "metadata": {},
   "outputs": [],
   "source": [
    "if = 42"
   ]
  },
  {
   "cell_type": "markdown",
   "metadata": {},
   "source": [
    "### Conventions for Variable Names\n",
    "\n",
    "In the Python community, lower case is preferred for variable names. Thus,  `name` is used instead of `Name`. Variable names that consist of several words are separated by an underscore `_`, e.g. `account_number` or `minimum_account_balance`.\n",
    "\n",
    "Not every allowed variable name is a good variable name! A good programming style (not only in Python) is characterised by the fact that a program is easy for a human to understand.\n",
    "\n",
    "> Any fool can write code that a computer can understand. Good programmers write code that humans can understand.<br>\n",
    "> Martin Fowler, 2008.\n",
    "\n",
    "For this reason, you should use variable names that have a meaning.\n",
    "\n",
    "- `new_account_balance` is better than `nab`\n",
    "- `car_length` is better than `length`\n",
    "\n",
    "Make your programs readable by using good variable names so that you will still be able to understand it in a year's time."
   ]
  },
  {
   "cell_type": "markdown",
   "metadata": {},
   "source": [
    "### Exercise\n",
    "\n",
    "Create some variables and test which names are allowed. See what happens when a name is not allowed. Assign values to your variables and test what is (not) possible. The `print()` used below is for outputting variables and other parameters. Details on this later."
   ]
  },
  {
   "cell_type": "code",
   "execution_count": null,
   "metadata": {},
   "outputs": [],
   "source": [
    "a = 5\n",
    "b = 7\n",
    "a = b\n",
    "print(a)"
   ]
  },
  {
   "cell_type": "code",
   "execution_count": null,
   "metadata": {},
   "outputs": [],
   "source": [
    "a = 5\n",
    "b = 7\n",
    "b = a\n",
    "print(a)\n",
    "print(b)"
   ]
  },
  {
   "cell_type": "markdown",
   "metadata": {},
   "source": [
    "## More Details about Variables\n",
    "\n",
    "In Python, a *variable* is created in an assignment the first time it is used. Variables do not have to be declared first, as in some other programming languages.\n",
    "\n",
    "A *variable* can be on both the right and left side of the assignment operator at the same time."
   ]
  },
  {
   "cell_type": "code",
   "execution_count": null,
   "metadata": {},
   "outputs": [],
   "source": [
    "a = 10\n",
    "a = a + 1\n",
    "print(a)"
   ]
  },
  {
   "cell_type": "markdown",
   "metadata": {},
   "source": [
    "In programming the statement in the middle means, that the value in the variable `a` is increased by `1`. Sometimes the term *Increment* is used. This construction is used quite often. Thus Python offers a short way of writing this statement: `a += 1`. Yes, from a mathematics point of view this looks really weird but it simply means that the value stored in `a` is increased by `1`."
   ]
  },
  {
   "cell_type": "code",
   "execution_count": null,
   "metadata": {},
   "outputs": [],
   "source": [
    "a = 1\n",
    "a += 1\n",
    "print(a)"
   ]
  },
  {
   "cell_type": "markdown",
   "metadata": {},
   "source": [
    "The same short way of writing works with other operators and values:"
   ]
  },
  {
   "cell_type": "code",
   "execution_count": null,
   "metadata": {},
   "outputs": [],
   "source": [
    "a = 10\n",
    "a *= 2\n",
    "a -= 100\n",
    "print(a)"
   ]
  },
  {
   "cell_type": "markdown",
   "metadata": {},
   "source": [
    "## Exercise\n",
    "\n",
    "Calculate the volume and surface area of a cube (side lengths a, b, c equal) or a cuboid (side lengths a, b, c different). Proceed as follows:\n",
    "\n",
    "- Define reasonable names for the variables representing the side length of the cube and assign values to them.\n",
    "- Calculate the area of the cube and assign the result to the variable cube_area.\n",
    "- Calculate the volume of the cube and assign the result to the variable cube_volume.\n",
    "- Output the result of the calculation using the following statements: `print(cube_area)` and `print(cube_volume)`\n",
    "\n",
    "Repeat these steps for the cuboid.\n"
   ]
  },
  {
   "cell_type": "code",
   "execution_count": null,
   "metadata": {},
   "outputs": [],
   "source": []
  }
 ],
 "metadata": {
  "interpreter": {
   "hash": "ae5a99a2531053e9be9d669b7bfc08eaacd0186491e01eb4522a2d385742a1d5"
  },
  "kernelspec": {
   "display_name": "Python 3",
   "language": "python",
   "name": "python3"
  },
  "language_info": {
   "codemirror_mode": {
    "name": "ipython",
    "version": 3
   },
   "file_extension": ".py",
   "mimetype": "text/x-python",
   "name": "python",
   "nbconvert_exporter": "python",
   "pygments_lexer": "ipython3",
   "version": "3.7.7"
  }
 },
 "nbformat": 4,
 "nbformat_minor": 5
}
