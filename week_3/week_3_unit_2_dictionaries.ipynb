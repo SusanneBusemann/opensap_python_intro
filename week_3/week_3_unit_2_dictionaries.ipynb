{
 "cells": [
  {
   "cell_type": "markdown",
   "metadata": {},
   "source": [
    "# What are dictionaries?\n",
    "# Motivation\n",
    "One can utilize a dictionary as an alternative to a list or as an alternative to a tuple. In this unit, both\n",
    "perspectives will be enlightened. The methods and functions used are essentially the same. First the dictionary is\n",
    "presented as an alternative to a list and after that it will be presented as a possible option to replace a tuple.\n",
    "\n",
    "\n",
    "## Dictionary as an alternative to a list\n",
    "In the following program, a list of tuples (as previously introduced) is created which contains the enrolled students\n",
    "with their matriculation number, mail and their current subject of specialisation.\n",
    "This list was originally read in from a file, but this will be the topic of an upcoming unit next week."
   ]
  },
  {
   "cell_type": "code",
   "execution_count": null,
   "metadata": {},
   "outputs": [],
   "source": [
    "list_of_students = [\n",
    "    (\n",
    "        \"Potter\",\n",
    "        \"Harry\",\n",
    "        \"477264\",\n",
    "        \"harry.potter@hogwarts.wiz\",\n",
    "        \"Defence Against the Dark Arts\",\n",
    "    ),\n",
    "    (\n",
    "        \"Weasley\",\n",
    "        \"Ron\",\n",
    "        \"490134\",\n",
    "        \"ron.weasley@hogwarts.wiz\",\n",
    "        \"Care of Magical Creatures\",\n",
    "    ),\n",
    "    (\"Granger\", \"Hermione\", \"471617\", \"hermione.granger@hogwarts.wiz\", \"Alchemy\"),\n",
    "    (\"Creevey\", \"Colin\", \"432646\", \"colin.creevey@hogwarts.wiz\", \"Music\"),\n",
    "    (\"Finnigan\", \"Seamus\", \"481989\", \"seamus.finnigan@hogwarts.wiz\", \"Ancient Studies\"),\n",
    "    (\"Abbott\", \"Hannah\", \"488962\", \"hannah.abbott@hogwarts.wiz\", \"Apparition\"),\n",
    "    (\"Parkinson\", \"Pansy\", \"482103\", \"pansy.parkinson@hogwarts.wiz\", \"Dark Arts\"),\n",
    "    (\n",
    "        \"Smith\",\n",
    "        \"Zacharias\",\n",
    "        \"494380\",\n",
    "        \"zacharias.smith@hogwarts.wiz\",\n",
    "        \"Care of Magical Creatures\",\n",
    "    ),\n",
    "    (\"Zabini\", \"Blaise\", \"408761\", \"blaise.zabini@hogwarts.wiz\", \"Muggle Music\"),\n",
    "    (\n",
    "        \"Malfoy\",\n",
    "        \"Draco\",\n",
    "        \"492010\",\n",
    "        \"draco.malfoy@hogwarts.wiz\",\n",
    "        \"Defence Against the Dark Arts\",\n",
    "    ),\n",
    "    (\"Thomas\", \"Dean\", \"447924\", \"dean.thomas@hogwarts.wiz\", \"Divination\"),\n",
    "    (\n",
    "        \"Bulstrode\",\n",
    "        \"Millicent\",\n",
    "        \"467061\",\n",
    "        \"millicent.bulstrode@hogwarts.wiz\",\n",
    "        \"Ghoul Studies\",\n",
    "    ),\n",
    "    (\"Boot\", \"Terry\", \"462460\", \"terry.boot@hogwarts.wiz\", \"Herbology\"),\n",
    "    (\"Macmillan\", \"Ernie\", \"414813\", \"ernie.macmillan@hogwarts.wiz\", \"Alchemy\"),\n",
    "    (\"Crabbe\", \"Vincent\", \"458755\", \"vincent.crabbe@hogwarts.wiz\", \"Ghoul Studies\"),\n",
    "    (\"Goyle\", \"Gregory\", \"496383\", \"gregory.goyle@hogwarts.wiz\", \"Art\"),\n",
    "    (\"Brown\", \"Lavender\", \"484286\", \"lavender.brown@hogwarts.wiz\", \"Muggle Studies\"),\n",
    "    (\"Bell\", \"Katie\", \"428172\", \"katie.bell@hogwarts.wiz\", \"Ancient Studies\"),\n",
    "    (\"Patil\", \"Parvati\", \"471843\", \"parvati.patil@hogwarts.wiz\", \"Herbology\"),\n",
    "    (\"Creevey\", \"Dennis\", \"410995\", \"dennis.creevey@hogwarts.wiz\", \"Magical Theory\"),\n",
    "    (\"Midgen\", \"Eloise\", \"461091\", \"eloise.midgen@hogwarts.wiz\", \"Astronomy\"),\n",
    "    (\"Coote\", \"Ritchie\", \"491225\", \"ritchie.coote@hogwarts.wiz\", \"Arithmancy\"),\n",
    "    (\"Sloper\", \"Jack\", \"453788\", \"jack.sloper@hogwarts.wiz\", \"Astronomy\"),\n",
    "    (\n",
    "        \"Frobisher\",\n",
    "        \"Victoria\",\n",
    "        \"439399\",\n",
    "        \"victoria.frobisher@hogwarts.wiz\",\n",
    "        \"Care of Magical Creatures\",\n",
    "    ),\n",
    "    (\"Hooper\", \"Geoffrey\", \"411888\", \"geoffrey.hooper@hogwarts.wiz\", \"Arithmancy\"),\n",
    "    (\"Kirke\", \"Andrew\", \"424853\", \"andrew.kirke@hogwarts.wiz\", \"Potions\"),\n",
    "    (\"Robins\", \"Demelza\", \"498334\", \"demelza.robins@hogwarts.wiz\", \"Herbology\"),\n",
    "    (\"McLaggen\", \"Cormac\", \"461722\", \"cormac.mclaggen@hogwarts.wiz\", \"Muggle Studies\"),\n",
    "    (\n",
    "        \"Longbottom\",\n",
    "        \"Neville\",\n",
    "        \"495877\",\n",
    "        \"neville.longbottom@hogwarts.wiz\",\n",
    "        \"Divination\",\n",
    "    ),\n",
    "    (\"Weasley\", \"Ginny\", \"446927\", \"ginny.weasley@hogwarts.wiz\", \"Dark Arts\"),\n",
    "    (\"Vane\", \"Romilda\", \"428960\", \"romilda.vane@hogwarts.wiz\", \"Astronomy\"),\n",
    "    (\"McDonald\", \"Natalie\", \"473337\", \"natalie.mcdonald@hogwarts.wiz\", \"Potions\"),\n",
    "    (\"Peakes\", \"Jimmy\", \"498139\", \"jimmy.peakes@hogwarts.wiz\", \"Xylomancy\"),\n",
    "    (\"Abercrombie\", \"Euan\", \"412113\", \"euan.abercrombie@hogwarts.wiz\", \"Charms\"),\n",
    "    (\"MacDonald\", \"Mary\", \"464948\", \"mary.macdonald@hogwarts.wiz\", \"Muggle Art\"),\n",
    "    (\"Clearwater\", \"Penelope\", \"489821\", \"penelope.clearwater@hogwarts.wiz\", \"Potions\"),\n",
    "    (\"Davies\", \"Roger\", \"423682\", \"roger.davies@hogwarts.wiz\", \"Charms\"),\n",
    "    (\n",
    "        \"Carmichael\",\n",
    "        \"Eddie\",\n",
    "        \"409795\",\n",
    "        \"eddie.carmichael@hogwarts.wiz\",\n",
    "        \"Muggle Studies\",\n",
    "    ),\n",
    "    (\"Chang\", \"Cho\", \"432914\", \"cho.chang@hogwarts.wiz\", \"Music\"),\n",
    "    (\n",
    "        \"Edgecombe\",\n",
    "        \"Marietta\",\n",
    "        \"479707\",\n",
    "        \"marietta.edgecombe@hogwarts.wiz\",\n",
    "        \"Divination\",\n",
    "    ),\n",
    "    (\"Brocklehurst\", \"Mandy\", \"424573\", \"mandy.brocklehurst@hogwarts.wiz\", \"Astronomy\"),\n",
    "    (\"Corner\", \"Michael\", \"427861\", \"michael.corner@hogwarts.wiz\", \"Transfiguration\"),\n",
    "    (\"Cornfoot\", \"Stephen\", \"409205\", \"stephen.cornfoot@hogwarts.wiz\", \"Muggle Art\"),\n",
    "    (\n",
    "        \"Entwhistle\",\n",
    "        \"Kevin\",\n",
    "        \"491893\",\n",
    "        \"kevin.entwhistle@hogwarts.wiz\",\n",
    "        \"Magical Theory\",\n",
    "    ),\n",
    "    (\"Goldstein\", \"Anthony\", \"429693\", \"anthony.goldstein@hogwarts.wiz\", \"Charms\"),\n",
    "    (\"Li\", \"Su\", \"460737\", \"su.li@hogwarts.wiz\", \"Music\"),\n",
    "    (\"McDougal\", \"Morag\", \"410362\", \"morag.mcdougal@hogwarts.wiz\", \"Charms\"),\n",
    "    (\"Patil\", \"Padma\", \"438399\", \"padma.patil@hogwarts.wiz\", \"Muggle Music\"),\n",
    "    (\"Turpin\", \"Lisa\", \"410297\", \"lisa.turpin@hogwarts.wiz\", \"Dark Arts\"),\n",
    "    (\"Lovegood\", \"Luna\", \"465190\", \"luna.lovegood@hogwarts.wiz\", \"Alchemy\"),\n",
    "    (\"Quirke\", \"Orla\", \"442039\", \"orla.quirke@hogwarts.wiz\", \"Art\"),\n",
    "    (\"Ackerley\", \"Stewart\", \"457577\", \"stewart.ackerley@hogwarts.wiz\", \"Ghoul Studies\"),\n",
    "    (\"Bones\", \"Susan\", \"458723\", \"susan.bones@hogwarts.wiz\", \"Divination\"),\n",
    "    (\"Branstone\", \"Eleanor\", \"462681\", \"eleanor.branstone@hogwarts.wiz\", \"Muggle Art\"),\n",
    "    (\"Cauldwell\", \"Owen\", \"442580\", \"owen.cauldwell@hogwarts.wiz\", \"Alchemy\"),\n",
    "    (\n",
    "        \"Finch-Fletchley\",\n",
    "        \"Justin\",\n",
    "        \"459220\",\n",
    "        \"justin.finch-fletchley@hogwarts.wiz\",\n",
    "        \"Charms\",\n",
    "    ),\n",
    "    (\"Hopkins\", \"Wayne\", \"490995\", \"wayne.hopkins@hogwarts.wiz\", \"Herbology\"),\n",
    "    (\"Jones\", \"Megan\", \"432783\", \"megan.jones@hogwarts.wiz\", \"Divination\"),\n",
    "    (\n",
    "        \"Madley\",\n",
    "        \"Laura\",\n",
    "        \"414597\",\n",
    "        \"laura.madley@hogwarts.wiz\",\n",
    "        \"Defence Against the Dark Arts\",\n",
    "    ),\n",
    "    (\"Whitby\", \"Kevin\", \"406080\", \"kevin.whitby@hogwarts.wiz\", \"Divination\"),\n",
    "    (\"Zeller\", \"Rose\", \"422984\", \"rose.zeller@hogwarts.wiz\", \"Music\"),\n",
    "    (\n",
    "        \"Higgs\",\n",
    "        \"Terence\",\n",
    "        \"411820\",\n",
    "        \"terence.higgs@hogwarts.wiz\",\n",
    "        \"Study of Ancient Runes\",\n",
    "    ),\n",
    "    (\"Pucey\", \"Adrian\", \"486169\", \"adrian.pucey@hogwarts.wiz\", \"Muggle Studies\"),\n",
    "    (\n",
    "        \"Davis\",\n",
    "        \"Tracey\",\n",
    "        \"453450\",\n",
    "        \"tracey.davis@hogwarts.wiz\",\n",
    "        \"Advanced Arithmancy Studies\",\n",
    "    ),\n",
    "    (\"Moon\", \"Lilian\", \"479394\", \"lilian.moon@hogwarts.wiz\", \"Herbology\"),\n",
    "    (\"Greengrass\", \"Daphne\", \"445288\", \"daphne.greengrass@hogwarts.wiz\", \"Charms\"),\n",
    "    (\"Nott\", \"Theodore\", \"496659\", \"theodore.nott@hogwarts.wiz\", \"Muggle Studies\"),\n",
    "    (\n",
    "        \"Greengrass\",\n",
    "        \"Astoria\",\n",
    "        \"458180\",\n",
    "        \"astoria.greengrass@hogwarts.wiz\",\n",
    "        \"Muggle Art\",\n",
    "    ),\n",
    "    (\"Baddock\", \"Malcolm\", \"483666\", \"malcolm.baddock@hogwarts.wiz\", \"Transfiguration\"),\n",
    "    (\"Pritchard\", \"Graham\", \"419203\", \"graham.pritchard@hogwarts.wiz\", \"Ghoul Studies\"),\n",
    "]\n",
    "\n",
    "for student in list_of_students:\n",
    "    print(student)"
   ]
  },
  {
   "cell_type": "markdown",
   "metadata": {},
   "source": [
    "As can be seen in the output, each student consists of surname, first name, matriculation number, e-mail and the current\n",
    "study subject. Where is the problem?\n",
    "\n",
    "Each student is an element of the list `list_of_students` and is only accessible via the index. That means, if you want\n",
    "to change or delete an entry, you have to go through the list tuple by tuple until you find the right student. Each\n",
    "individual student can be identified by his/her matriculation number. The matriculation number is a good **key** to\n",
    "access a student, because each matriculation number is uniquely assigned to only one student. It would be desirable to\n",
    "be able to access the student **not** via the index but directly by using the matriculation number. And this is exactly\n",
    "what a dictionary makes possible!"
   ]
  },
  {
   "cell_type": "markdown",
   "metadata": {},
   "source": [
    "# Using dictionaries\n",
    "A dictionary consists of so-called key-value pairs. Dictionaries are represented by curly brackets `{}`. The brackets\n",
    "contain the individual key-value pairs separated by commas.  \n",
    "Each key-value pair is represented as follows: `key :\n",
    "value`.  \n",
    "A dictionary therefore looks like this: `{key1 : value1, key2 : value2, ... keyN : valueN}`. See the following\n",
    "example:"
   ]
  },
  {
   "cell_type": "code",
   "execution_count": null,
   "metadata": {},
   "outputs": [],
   "source": [
    "stud = {123: \"Peter\", 234: \"Logan\", 345: \"Jean\", 456: \"Ororo\"}\n",
    "print(stud)"
   ]
  },
  {
   "cell_type": "markdown",
   "metadata": {},
   "source": [
    "## Accessing an element of the dictionary using the key\n",
    "If you want to access individual values, **square** brackets are used just as with lists and tuples. However, instead of\n",
    "the index, the *key* is entered."
   ]
  },
  {
   "cell_type": "code",
   "execution_count": null,
   "metadata": {},
   "outputs": [],
   "source": [
    "print(stud[123])\n",
    "print(stud[234])"
   ]
  },
  {
   "cell_type": "markdown",
   "metadata": {},
   "source": [
    "### There is no index in dictionaries\n",
    "Accessing an item via the \"normal\" index no longer works. If a key that does not exist is accessed, there is an\n",
    "error message:"
   ]
  },
  {
   "cell_type": "code",
   "execution_count": null,
   "metadata": {},
   "outputs": [],
   "source": [
    "stud[0]"
   ]
  },
  {
   "cell_type": "markdown",
   "metadata": {},
   "source": [
    "## Adding key-value pairs to a dictionary\n",
    "A new key-value pair can be easily added to a dictionary using `dictionary[key] = value`. In the following example, more\n",
    "students are added to our student file."
   ]
  },
  {
   "cell_type": "code",
   "execution_count": null,
   "metadata": {},
   "outputs": [],
   "source": [
    "stud[567] = \"Robert\"\n",
    "stud[678] = \"Kurt\"\n",
    "print(stud)"
   ]
  },
  {
   "cell_type": "markdown",
   "metadata": {},
   "source": [
    "## Replacing the value for an existing key\n",
    "If a key already exists when it is assigned to a dictionary, the existing value is overwritten by the new value. This\n",
    "can be used to change or update entries in the dictionary. But you need to be careful not to overwrite the wrong entries\n",
    "in your dictionary!"
   ]
  },
  {
   "cell_type": "code",
   "execution_count": null,
   "metadata": {},
   "outputs": [],
   "source": [
    "stud[567] = \"Raven\"\n",
    "stud[789] = \"Wanda\"\n",
    "print(stud)"
   ]
  },
  {
   "cell_type": "markdown",
   "metadata": {},
   "source": [
    "## The key in a dictionary is immutable\n",
    "Unlike values, which can be changed, keys may not be mutable in a dictionary. Therefore, a key can be an `integer`,\n",
    "`string` or a `tuple`, but not a list, since a list can be modified.  \n",
    "\n",
    "The reason for this is the internal structure of a dictionary in Python, which also makes it so fast to access\n",
    "individual items using a key. As Python uses the value of the key to calculate and set the memory storage location of\n",
    "the entry, a change of the key would result in a different location, thus Python returning no or a wrong entry for a\n",
    "specific key. This is the reason, why the keys in a dictionary have to be immutable."
   ]
  },
  {
   "cell_type": "code",
   "execution_count": null,
   "metadata": {},
   "outputs": [],
   "source": [
    "dict1 = {(123, \"Kurt\", \"Wagner\"): \"Arts\", (234, \"Erik\", \"Lensherr\"): \"Physics\"}\n",
    "dict1"
   ]
  },
  {
   "cell_type": "code",
   "execution_count": null,
   "metadata": {},
   "outputs": [],
   "source": [
    "dict1 = {[123, \"Kurt\", \"Wagner\"]: \"Arts\", [234, \"Erik\", \"Lensherr\"]: \"Physics\"}\n",
    "dict1"
   ]
  },
  {
   "cell_type": "markdown",
   "metadata": {},
   "source": [
    "## Assuring access possibility to the dictionary using `in`\n",
    "As seen above, an error can occur when accessing a dictionary if the key does not exist. With the help of the keyword\n",
    "`in` this can be prevented. *`key`* `in` *`dict`* returns the value `True` if the key exists in the dictionary and\n",
    "otherwise `False`. This way you can catch the error with an `if` statement."
   ]
  },
  {
   "cell_type": "code",
   "execution_count": null,
   "metadata": {},
   "outputs": [],
   "source": [
    "matrnr = int(input(\"Please enter matriculation number: \"))\n",
    "if matrnr in stud:\n",
    "    print(\"The student you are looking for is:\", stud[matrnr])\n",
    "else:\n",
    "    print(\"A student with this matriculation number does not exist\")"
   ]
  },
  {
   "cell_type": "markdown",
   "metadata": {},
   "source": [
    "## A dictionary full of tuples\n",
    "Just as lists can be combined with tuples, dictionaries can be combined with tuples. A common combination is that a\n",
    "tuple can be accessed using a key.\n",
    "\n",
    "In the following example, a dictionary is built from the student file where the matriculation number is the key and the\n",
    "rest of the information is combined into a tuple. Access to individual elements is provided as in the last example."
   ]
  },
  {
   "cell_type": "code",
   "execution_count": null,
   "metadata": {},
   "outputs": [],
   "source": [
    "dict_of_students = {}\n",
    "for s in list_of_students:\n",
    "    key = s[2]\n",
    "    values = tuple(s[0:2] + s[3:])\n",
    "    dict_of_students[key] = values\n",
    "\n",
    "matrnr = input(\"Please insert matriculation number: \")\n",
    "if matrnr in dict_of_students:\n",
    "    print(dict_of_students[matrnr])\n",
    "else:\n",
    "    print(\"A student with matriculation number\", matrnr, \"does not exist.\")"
   ]
  },
  {
   "cell_type": "markdown",
   "metadata": {},
   "source": [
    "## Iterating over a dictionary with a `for` loop\n",
    "Just like over a list and over a tuple, you can also iterate over a dictionary with the `for` loop. The syntax for this\n",
    "is as follows:"
   ]
  },
  {
   "cell_type": "code",
   "execution_count": null,
   "metadata": {},
   "outputs": [],
   "source": [
    "for matrnr in dict_of_students:\n",
    "    print(\n",
    "        \"Student\",\n",
    "        dict_of_students[matrnr],\n",
    "        \"has the following matriculation number:\",\n",
    "        matrnr,\n",
    "    )"
   ]
  },
  {
   "cell_type": "markdown",
   "metadata": {},
   "source": [
    "Alternatively, the following syntax can be used:\n",
    "\n",
    "```python\n",
    "for key, value in dict.items():\n",
    "   print(key)\n",
    "   print(values)\n",
    "```\n",
    "   \n",
    "This variant of the `for` loop has the advantage that the individual values can be accessed *without* specifying the\n",
    "respective key. This requires a slightly modified syntax and the use of the `.items()` method."
   ]
  },
  {
   "cell_type": "code",
   "execution_count": null,
   "metadata": {},
   "outputs": [],
   "source": [
    "for matrnr, students in dict_of_students.items():\n",
    "    print(students)"
   ]
  },
  {
   "cell_type": "markdown",
   "metadata": {},
   "source": [
    "## Using `del()` to delete a value from a dictionary\n",
    "The `del()` function can be used to delete a value from a dictionary. To do this, simply pass the dictionary with the\n",
    "reference to the corresponding key as an argument to the function."
   ]
  },
  {
   "cell_type": "code",
   "execution_count": null,
   "metadata": {},
   "outputs": [],
   "source": [
    "print(\"Dictionary before deletion\", stud)\n",
    "matrnr = int(\n",
    "    input(\"Please enter matriculation number of the student who should be removed: \")\n",
    ")\n",
    "\n",
    "if matrnr in stud:\n",
    "    del stud[matrnr]\n",
    "\n",
    "print(\"Dictionary after deletion\", stud)"
   ]
  },
  {
   "cell_type": "markdown",
   "metadata": {},
   "source": [
    "# Usage of functions and methods with dictionaries\n",
    "## General functions and methods\n",
    "\n",
    "| Function/Method | Return value                                |\n",
    "| --------------- | ------------------------------------------- |\n",
    "| `len()`         | Number of key-value pairs in the dictionary |\n",
    "| `.keys()`       | All keys of a dictionary                    |\n",
    "| `.values()`     | All values of a dictionary                  |\n",
    "| `.items()`      | All `key:value` pairs as tuples             |\n",
    "\n",
    "\n",
    "> **NOTE:** The data type of the output of the `.keys()` method is `dict_keys`. With the help of the function `list()` this can be\n",
    "converted into a list."
   ]
  },
  {
   "cell_type": "code",
   "execution_count": null,
   "metadata": {},
   "outputs": [],
   "source": [
    "len(stud)"
   ]
  },
  {
   "cell_type": "code",
   "execution_count": null,
   "metadata": {},
   "outputs": [],
   "source": [
    "print(stud.keys())"
   ]
  },
  {
   "cell_type": "code",
   "execution_count": null,
   "metadata": {},
   "outputs": [],
   "source": [
    "print(stud.values())"
   ]
  },
  {
   "cell_type": "code",
   "execution_count": null,
   "metadata": {},
   "outputs": [],
   "source": [
    "print(stud.items())"
   ]
  },
  {
   "cell_type": "markdown",
   "metadata": {},
   "source": [
    "## Using the `zip()` function to create a dictionary from lists\n",
    "Just as the casting functions `list()` and `tuple()`, there is also a corresponding function `dict()`. However, there is\n",
    "an error message if you try to convert a simple list or tuple accordingly, because the functions needs a `key-value`\n",
    "pair to create a dictionary."
   ]
  },
  {
   "cell_type": "code",
   "execution_count": null,
   "metadata": {},
   "outputs": [],
   "source": [
    "dict([1, 2, 3, 4, 5, 6])"
   ]
  },
  {
   "cell_type": "markdown",
   "metadata": {},
   "source": [
    "The conversion of a list of tuples, on the other hand, is possible. The first element is then taken as the key, the\n",
    "second as the value. (Check for yourself what happens if there are more than two elements in the tuple)."
   ]
  },
  {
   "cell_type": "code",
   "execution_count": null,
   "metadata": {},
   "outputs": [],
   "source": [
    "l_of_t = [(\"A\", 1), (\"B\", 3), (\"C\", 5)]\n",
    "dict(l_of_t)"
   ]
  },
  {
   "cell_type": "markdown",
   "metadata": {},
   "source": [
    "As the `dict` function expects exactly two arguments to create the `key-value` pair, it does not work, if the inner\n",
    "tuples contain more elements.  \n",
    "It is possible to join two lists using `zip()` and to convert the result into a dictionary with `dict()`. Try out\n",
    "yourself, what happens, when the two lists do not have the same length."
   ]
  },
  {
   "cell_type": "code",
   "execution_count": null,
   "metadata": {},
   "outputs": [],
   "source": [
    "l1 = [\"A\", \"B\", \"C\"]\n",
    "l2 = [1, 2, 3]\n",
    "dict(zip(l1, l2))"
   ]
  },
  {
   "cell_type": "markdown",
   "metadata": {},
   "source": [
    "# Dictionary as an alternative to the tuple\n",
    "One disadvantage of tuples is that you have to know at which position a value is located. If a value is not present\n",
    "(e.g., a student's email is not known), an empty value must be entered instead. This procedure becomes especially\n",
    "impractical if the tuples are very large, for example, if they contain many empty values, or if it is not clear which\n",
    "values are even eligible.\n",
    "\n",
    "Take the example of the students again: There are only four values in the tuple, all values are known, working with a\n",
    "tuple is no problem.  \n",
    "\n",
    "**Reminder:** *You need to run all the cells up to the following cell to have the dictionary with the students\n",
    "available.*"
   ]
  },
  {
   "cell_type": "code",
   "execution_count": null,
   "metadata": {},
   "outputs": [],
   "source": [
    "for student in dict_of_students:\n",
    "    print(student, dict_of_students[student])"
   ]
  },
  {
   "cell_type": "markdown",
   "metadata": {},
   "source": [
    "Imagine that all of the students' module grades should also be entered in these tuples. One could then add more fields\n",
    "to the tuple: grade for Maths, grade for Herbology, grade for Astronomy etc. What problems would arise?\n",
    "\n",
    "- The tuple would become very large, especially if you think about more specialization modules\n",
    "- Each student has written different modules, so for some students there is no grade in the same subject while there\n",
    "  might be a grade in this course for another student --> The distribution of empty values would be very different\n",
    "- If a new module is added, then the tuple would have to be adjusted directly. One tries to avoid such changes to data\n",
    "  structures\n",
    "- Altogether the clarity is lost with many empty values and data structure changes\n",
    "\n",
    "If one uses a dictionary instead of the tuple, the problems are (partly) solved. Above values of the person would be\n",
    "replaced by corresponding key-value pairs, e.g. `\"name\" : \"Potter\", \"first name\" : \"Harry\"` and so on. The exams could\n",
    "be supplemented by further key-value pairs: `\"Maths\" : 2.0, \"Herbology\" : 4.0, \"Astronomy\" : 3.7`.\n",
    "\n",
    "Summarized:\n",
    "- Empty values would not have to be added further\n",
    "- Dictionaries (in contrast to tuples) are mutable, i.e. one could add further subjects or results\n",
    "- Each mark (value) is always associated with the module name (key)"
   ]
  },
  {
   "cell_type": "code",
   "execution_count": null,
   "metadata": {},
   "outputs": [],
   "source": [
    "stud1 = {\n",
    "    \"mat_nr\": 12345,\n",
    "    \"surname\": \"Potter\",\n",
    "    \"name\": \"Harry\",\n",
    "    \"Herbology\": 3.0,\n",
    "    \"Astronomy\": 2.3,\n",
    "}\n",
    "stud2 = {\n",
    "    \"mat_nr\": 45678,\n",
    "    \"surname\": \"Weasly\",\n",
    "    \"name\": \"Ron\",\n",
    "    \"Herbology\": 4.0,\n",
    "    \"Ghoul Studies\": 1.3,\n",
    "    \"Alchemy\": 2.3,\n",
    "}\n",
    "\n",
    "print(stud1)\n",
    "print(stud2)"
   ]
  },
  {
   "cell_type": "markdown",
   "metadata": {},
   "source": [
    "Of course, you could put the individual students (i.e. the individual dictionaries) back into a list:"
   ]
  },
  {
   "cell_type": "code",
   "execution_count": null,
   "metadata": {},
   "outputs": [],
   "source": [
    "list_of_students = [stud1, stud2]\n",
    "\n",
    "print(list_of_students)\n",
    "for s in list_of_students:\n",
    "    print(s)"
   ]
  },
  {
   "cell_type": "markdown",
   "metadata": {},
   "source": [
    "### A dictionary can be changed\n",
    "If more exams are passed or a grade should be changed, the dictionaries can be easily adjusted:"
   ]
  },
  {
   "cell_type": "code",
   "execution_count": null,
   "metadata": {},
   "outputs": [],
   "source": [
    "# correction of the mark\n",
    "stud1[\"Herbology\"] = 2.7\n",
    "# passed another course\n",
    "stud2[\"Apparition\"] = 2.0\n",
    "print(stud1)\n",
    "print(stud2)"
   ]
  },
  {
   "cell_type": "markdown",
   "metadata": {},
   "source": [
    "# Dictionary of Dictionaries\n",
    "So far we have had dictionaries of tuples and lists of dictionaries. Of course you can also combine the two and build\n",
    "dictionaries of dictionaries. For example, you can still use a student's matriculation number as a key for his or her\n",
    "data, and the data is then stored in a dictionary."
   ]
  },
  {
   "cell_type": "code",
   "execution_count": null,
   "metadata": {},
   "outputs": [],
   "source": [
    "dictionary_of_students = {}\n",
    "stud1 = {\n",
    "    \"surname\": \"Granger\",\n",
    "    \"name\": \"Hermione\",\n",
    "    \"Arts\": 1.0,\n",
    "    \"Divination\": 1.0,\n",
    "    \"Muggle Studies\": 4.0,\n",
    "    \"Maths\": 1.0,\n",
    "}\n",
    "dictionary_of_students[12345] = stud1\n",
    "stud2 = {\n",
    "    \"surname\": \"Lovegood\",\n",
    "    \"name\": \"Luna\",\n",
    "    \"Arts\": 1.3,\n",
    "    \"Alchemy\": 1.7,\n",
    "    \"Transfiguration\": 2.0,\n",
    "}\n",
    "dictionary_of_students[23456] = stud2\n",
    "\n",
    "print(dictionary_of_students)"
   ]
  },
  {
   "cell_type": "markdown",
   "metadata": {},
   "source": [
    "# Typical applications of dictionaries\n",
    "Dictionaries can be used anytime suitable key-value pairs are available. Examples would be:\n",
    "- Matriculation number and student\n",
    "- Exam number and module name\n",
    "- License plate number and car\n",
    "- Timestamp and measured value\n",
    "- Term and dictionary entry\n",
    "\n",
    "The list can easily be continued. For any key there are the following typical restrictions:\n",
    "- A key must be unique. If you have two cars with the same license plate, you just cannot identify the cars uniquely by\n",
    "  the plate. If several people can be reached by the same phone number, the phone number might be a bad key. Names are\n",
    "  often not unique and therefore critical as a key. Sometimes numbers are added, e.g. *Peter1, Peter2, Peter3, ...*, to\n",
    "  make the key unique.\n",
    "- A key should not be changed. As a student, the matriculation number always remains the same. A car gets a license\n",
    "  plate e.g. when it is moved or sold. This creates difficulties in identifying cars uniquely.\n",
    "- A key should always be present. You cannot store students in a program until you have a matriculation number. If there\n",
    "  are many candidates for which no key is available, you should choose a different key or consider whether a dictionary\n",
    "  is the appropriate data structure."
   ]
  },
  {
   "cell_type": "markdown",
   "metadata": {},
   "source": [
    "## Translation dictionary\n",
    "A typical application for a dictionary is a (simple) lexicon. Each English term (key) is assigned the German term as a\n",
    "value. The English translation can then be accessed quickly via the dictionary and the English search term."
   ]
  },
  {
   "cell_type": "code",
   "execution_count": null,
   "metadata": {},
   "outputs": [],
   "source": [
    "en_de = {\"red\": \"rot\", \"blue\": \"blau\", \"green\": \"grün\", \"white\": \"weiß\"}\n",
    "colour = input(\"Which colour should be translated?\")\n",
    "if colour in en_de:\n",
    "    print(colour, \"means\", en_de[colour], \"in German!\")\n",
    "else:\n",
    "    print(\"This translation is not available.\")"
   ]
  },
  {
   "cell_type": "markdown",
   "metadata": {},
   "source": [
    "# Exercise 1 - Phone book\n",
    "In a phone book there is always an assignment of phone number (value) to a name (key). In a phone book, the uniqueness\n",
    "of a key is not guaranteed, there are usually several \"Peter Smith\", each with a different phone number. In our task we\n",
    "assume a unique name. Create a phone book as a dictionary with the help of a loop that generates a key-value pair\n",
    "(name-phone number) in each pass and outputs it at the end."
   ]
  },
  {
   "cell_type": "code",
   "execution_count": null,
   "metadata": {},
   "outputs": [],
   "source": []
  },
  {
   "cell_type": "markdown",
   "metadata": {},
   "source": [
    "# Exercise 2 - Pirate language\n",
    "Given below is the translation table of English terms into pirate language. Write a program that expects a sentence in English language as input from the user. The output should be the translation of the sentence into the pirate language.\n",
    "\n",
    "| English    | pirate language |\n",
    "| ---------- | --------------- |\n",
    "| sir        | matey           |\n",
    "| hotel      | fleabag inn     |\n",
    "| student    | swabbie         |\n",
    "| boy        | matey           |\n",
    "| madam      | proud beauty    |\n",
    "| professor  | foul blaggart   |\n",
    "| restaurant | galley          |\n",
    "| your       | yer             |\n",
    "| excuse     | arr             |\n",
    "| students   | swabbies        |\n",
    "| are        | be              |\n",
    "| lawyer     | foul blaggart   |\n",
    "| the        | th'             |\n",
    "| restroom   | head            |\n",
    "| my         | me              |\n",
    "| hello      | avast           |\n",
    "| is         | be              |\n",
    "| man        | matey           |"
   ]
  },
  {
   "cell_type": "code",
   "execution_count": null,
   "metadata": {},
   "outputs": [],
   "source": []
  }
 ],
 "metadata": {
  "file_extension": ".py",
  "interpreter": {
   "hash": "ac59ebe37160ed0dfa835113d9b8498d9f09ceb179beaac4002f036b9467c963"
  },
  "kernelspec": {
   "display_name": "Python 3.9.7 64-bit",
   "name": "python3"
  },
  "language_info": {
   "codemirror_mode": {
    "name": "ipython",
    "version": 3
   },
   "file_extension": ".py",
   "mimetype": "text/x-python",
   "name": "python",
   "nbconvert_exporter": "python",
   "pygments_lexer": "ipython3",
   "version": "3.9.7"
  },
  "mimetype": "text/x-python",
  "name": "python",
  "npconvert_exporter": "python",
  "pygments_lexer": "ipython3",
  "version": 3
 },
 "nbformat": 4,
 "nbformat_minor": 2
}
