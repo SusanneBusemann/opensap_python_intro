{
 "cells": [
  {
   "cell_type": "markdown",
   "metadata": {},
   "source": [
    "# When to use lists, dictionaries and tuples\n",
    "You now know three common sequence data types in Python. Shown in the following table are the typical applications for\n",
    "those data types:\n",
    "\n",
    "| Data type    | Use-case                        |\n",
    "| ------------ | ------------------------------- |\n",
    "| Lists        | Objects of same type            |\n",
    "| Tuple        | Complex objects                 |\n",
    "| Dictionaries | Random access to objects needed |\n",
    "\n",
    "\n",
    "Each type has its own advantages and is suited better for specific use-cases than others.\n",
    "\n",
    "## Lists\n",
    "Lists are used for objects of the same type. This can be simple variables or even other sequence types like mentioned\n",
    "previously. As they are mutable, it is easily possible to add or remove items, so to alter the list.\n",
    "\n",
    "## Tuples\n",
    "In contrast to lists, tuples are immutable and can not be changed directly. They are typically used for more complex\n",
    "objects which consist of variables of different data types like addresses for example. Since they are immutable, they\n",
    "offer a certain amount of protection against accidental changes.\n",
    "\n",
    "## Dictionaries\n",
    "Dictionaries are useful for objects, which can be identified via a specific key, like students with the matriculation\n",
    "number for example. They provide fast random access to the items and provide a basic protection against unexpected\n",
    "changes in the data structure. If a new item is added, it does not matter if it is inserted or appended - the dictionary\n",
    "access will still work the same like before. For lists this is not always the case, since the access is only possible\n",
    "with an index.\n",
    "\n",
    "\n",
    "# Differences between Tuples and Dictionaries\n",
    "Tuples are similar to lists regarding the access possibilities (via index). For dictionaries, individual items are\n",
    "accessed using the key, which makes a specific order unnecessary on one side and allows faster access when searching for\n",
    "items.\n",
    "Because accessing items is done using a key, each key needs to be unique and no key is allowed more than one time."
   ]
  }
 ],
 "metadata": {
  "file_extension": ".py",
  "interpreter": {
   "hash": "ac59ebe37160ed0dfa835113d9b8498d9f09ceb179beaac4002f036b9467c963"
  },
  "kernelspec": {
   "display_name": "Python 3.9.7 64-bit",
   "name": "python3"
  },
  "language_info": {
   "codemirror_mode": {
    "name": "ipython",
    "version": 3
   },
   "file_extension": ".py",
   "mimetype": "text/x-python",
   "name": "python",
   "nbconvert_exporter": "python",
   "pygments_lexer": "ipython3",
   "version": "3.9.7"
  },
  "mimetype": "text/x-python",
  "name": "python",
  "npconvert_exporter": "python",
  "pygments_lexer": "ipython3",
  "version": 3
 },
 "nbformat": 4,
 "nbformat_minor": 2
}
